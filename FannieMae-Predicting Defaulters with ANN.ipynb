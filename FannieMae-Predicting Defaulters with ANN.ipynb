{
 "cells": [
  {
   "cell_type": "markdown",
   "metadata": {},
   "source": [
    "# Fannie Mae - Defaulter Prediction - ANN"
   ]
  },
  {
   "cell_type": "code",
   "execution_count": 1,
   "metadata": {},
   "outputs": [
    {
     "name": "stderr",
     "output_type": "stream",
     "text": [
      "Using TensorFlow backend.\n"
     ]
    }
   ],
   "source": [
    "import keras\n",
    "from keras.models import Sequential\n",
    "from keras.layers import Dense\n",
    "import numpy as np\n",
    "import pandas as pd\n",
    "\n",
    "# fix random seed for reproducibility\n",
    "np.random.seed(7)\n"
   ]
  },
  {
   "cell_type": "code",
   "execution_count": 2,
   "metadata": {},
   "outputs": [
    {
     "name": "stderr",
     "output_type": "stream",
     "text": [
      "C:\\Users\\Prabha\\Anaconda3\\envs\\Deeplearning\\lib\\site-packages\\numpy\\lib\\arraysetops.py:569: FutureWarning: elementwise comparison failed; returning scalar instead, but in the future will perform elementwise comparison\n",
      "  mask |= (ar1 == a)\n"
     ]
    }
   ],
   "source": [
    "# Original imbalanced dataset after Cleaning and feature generation\n",
    "dataset = pd.read_csv(\"C:\\\\DATASCIENCE\\\\11-DONO-PROJECT\\\\2-Jigsaw_Dono\\\\DATASTORE\\\\mbs_scaled_final1234.csv\", sep='\\t', index_col=0)\n",
    "# split into input (X) and output (Y) variables\n",
    "X = dataset.drop(\"DEFAULT STATUS\", axis=1)\n",
    "Y = dataset[\"DEFAULT STATUS\"]"
   ]
  },
  {
   "cell_type": "code",
   "execution_count": 3,
   "metadata": {},
   "outputs": [
    {
     "data": {
      "text/plain": [
       "(1807092, 98)"
      ]
     },
     "execution_count": 3,
     "metadata": {},
     "output_type": "execute_result"
    }
   ],
   "source": [
    "X.shape"
   ]
  },
  {
   "cell_type": "code",
   "execution_count": 4,
   "metadata": {},
   "outputs": [
    {
     "data": {
      "text/plain": [
       "(1807092,)"
      ]
     },
     "execution_count": 4,
     "metadata": {},
     "output_type": "execute_result"
    }
   ],
   "source": [
    "Y.shape"
   ]
  },
  {
   "cell_type": "code",
   "execution_count": 5,
   "metadata": {},
   "outputs": [
    {
     "name": "stdout",
     "output_type": "stream",
     "text": [
      "WARNING:tensorflow:From C:\\Users\\Prabha\\Anaconda3\\envs\\Deeplearning\\lib\\site-packages\\tensorflow\\python\\framework\\op_def_library.py:263: colocate_with (from tensorflow.python.framework.ops) is deprecated and will be removed in a future version.\n",
      "Instructions for updating:\n",
      "Colocations handled automatically by placer.\n"
     ]
    }
   ],
   "source": [
    "# create model\n",
    "model = Sequential()\n",
    "model.add(Dense(12, input_dim=98, activation='relu'))\n",
    "model.add(Dense(8, activation='relu'))\n",
    "model.add(Dense(1, activation='sigmoid'))"
   ]
  },
  {
   "cell_type": "code",
   "execution_count": 6,
   "metadata": {},
   "outputs": [],
   "source": [
    "# Compile model\n",
    "model.compile(loss='binary_crossentropy', optimizer='adam', metrics=['accuracy'])"
   ]
  },
  {
   "cell_type": "code",
   "execution_count": 7,
   "metadata": {},
   "outputs": [
    {
     "name": "stdout",
     "output_type": "stream",
     "text": [
      "WARNING:tensorflow:From C:\\Users\\Prabha\\Anaconda3\\envs\\Deeplearning\\lib\\site-packages\\tensorflow\\python\\ops\\math_ops.py:3066: to_int32 (from tensorflow.python.ops.math_ops) is deprecated and will be removed in a future version.\n",
      "Instructions for updating:\n",
      "Use tf.cast instead.\n",
      "Epoch 1/10\n",
      "1807092/1807092 [==============================] - 16s 9us/step - loss: 0.1397 - acc: 0.9949\n",
      "Epoch 2/10\n",
      "1807092/1807092 [==============================] - 15s 8us/step - loss: 0.0284 - acc: 0.9953: 2s - lo - ETA: 0s - loss: 0.0284 - acc: 0\n",
      "Epoch 3/10\n",
      "1807092/1807092 [==============================] - 15s 8us/step - loss: 0.0264 - acc: 0.9953\n",
      "Epoch 4/10\n",
      "1807092/1807092 [==============================] - 15s 9us/step - loss: 0.0257 - acc: 0.9953: 0s - loss: 0.0257 - acc: 0\n",
      "Epoch 5/10\n",
      "1807092/1807092 [==============================] - 16s 9us/step - loss: 0.0253 - acc: 0.9953\n",
      "Epoch 6/10\n",
      "1807092/1807092 [==============================] - 16s 9us/step - loss: 0.0251 - acc: 0.9953\n",
      "Epoch 7/10\n",
      "1807092/1807092 [==============================] - 15s 8us/step - loss: 0.0250 - acc: 0.9953\n",
      "Epoch 8/10\n",
      "1807092/1807092 [==============================] - 15s 8us/step - loss: 0.0249 - acc: 0.9953\n",
      "Epoch 9/10\n",
      "1807092/1807092 [==============================] - 15s 9us/step - loss: 0.0249 - acc: 0.9953\n",
      "Epoch 10/10\n",
      "1807092/1807092 [==============================] - 15s 8us/step - loss: 0.0248 - acc: 0.9953\n"
     ]
    },
    {
     "data": {
      "text/plain": [
       "<keras.callbacks.History at 0x2731a69cda0>"
      ]
     },
     "execution_count": 7,
     "metadata": {},
     "output_type": "execute_result"
    }
   ],
   "source": [
    "model.fit(X, Y, epochs=10, batch_size=10000 )"
   ]
  },
  {
   "cell_type": "code",
   "execution_count": 8,
   "metadata": {},
   "outputs": [],
   "source": [
    "# Test dataset\n",
    "Xu= pd.read_csv(\"C:\\\\DATASCIENCE\\\\11-DONO-PROJECT\\\\2-Jigsaw_Dono\\\\DATASTORE\\\\X_testoversample.csv\", sep='\\t', index_col=0)\n",
    "Yu=pd.read_csv(\"C:\\\\DATASCIENCE\\\\11-DONO-PROJECT\\\\2-Jigsaw_Dono\\\\DATASTORE\\\\y_testoversample.csv\", sep='\\t', index_col=0)"
   ]
  },
  {
   "cell_type": "code",
   "execution_count": 9,
   "metadata": {},
   "outputs": [
    {
     "name": "stdout",
     "output_type": "stream",
     "text": [
      "361419/361419 [==============================] - 10s 28us/step\n",
      "\n",
      "acc: 99.52%\n"
     ]
    }
   ],
   "source": [
    "# evaluate the model\n",
    "scores = model.evaluate(Xu, Yu)\n",
    "print(\"\\n%s: %.2f%%\" % (model.metrics_names[1], scores[1]*100))"
   ]
  },
  {
   "cell_type": "markdown",
   "metadata": {},
   "source": [
    "### ANN with oversampled dataset"
   ]
  },
  {
   "cell_type": "code",
   "execution_count": 10,
   "metadata": {},
   "outputs": [],
   "source": [
    "# Over sampled dataset\n",
    "Xo= pd.read_csv(\"C:\\\\DATASCIENCE\\\\11-DONO-PROJECT\\\\2-Jigsaw_Dono\\\\DATASTORE\\\\X_trainoversample.csv\", sep='\\t', index_col=0)\n",
    "Yo=pd.read_csv(\"C:\\\\DATASCIENCE\\\\11-DONO-PROJECT\\\\2-Jigsaw_Dono\\\\DATASTORE\\\\y_trainoversample.csv\", sep='\\t', index_col=0)"
   ]
  },
  {
   "cell_type": "code",
   "execution_count": 11,
   "metadata": {},
   "outputs": [
    {
     "data": {
      "text/plain": [
       "(2877846, 98)"
      ]
     },
     "execution_count": 11,
     "metadata": {},
     "output_type": "execute_result"
    }
   ],
   "source": [
    "Xo.shape"
   ]
  },
  {
   "cell_type": "code",
   "execution_count": 12,
   "metadata": {},
   "outputs": [
    {
     "data": {
      "text/plain": [
       "(2877846, 1)"
      ]
     },
     "execution_count": 12,
     "metadata": {},
     "output_type": "execute_result"
    }
   ],
   "source": [
    "Yo.shape"
   ]
  },
  {
   "cell_type": "code",
   "execution_count": 13,
   "metadata": {},
   "outputs": [],
   "source": [
    "# create model\n",
    "model = Sequential()\n",
    "model.add(Dense(12, input_dim=98, activation='relu'))\n",
    "model.add(Dense(8, activation='relu'))\n",
    "model.add(Dense(4, activation='relu'))\n",
    "model.add(Dense(1, activation='sigmoid'))"
   ]
  },
  {
   "cell_type": "code",
   "execution_count": 14,
   "metadata": {},
   "outputs": [],
   "source": [
    "# Compile model\n",
    "model.compile(loss='binary_crossentropy', optimizer='adam', metrics=['accuracy'])"
   ]
  },
  {
   "cell_type": "code",
   "execution_count": 15,
   "metadata": {},
   "outputs": [
    {
     "name": "stdout",
     "output_type": "stream",
     "text": [
      "Epoch 1/20\n",
      "2877846/2877846 [==============================] - 27s 9us/step - loss: 0.5098 - acc: 0.7665\n",
      "Epoch 2/20\n",
      "2877846/2877846 [==============================] - 27s 9us/step - loss: 0.3813 - acc: 0.8326\n",
      "Epoch 3/20\n",
      "2877846/2877846 [==============================] - 27s 9us/step - loss: 0.3560 - acc: 0.8466\n",
      "Epoch 4/20\n",
      "2877846/2877846 [==============================] - 27s 9us/step - loss: 0.3273 - acc: 0.8614: 12s - loss: 0. - ETA: 11s - loss: 0.3328 - acc: 0. - ETA: 11 - ETA: - ETA:\n",
      "Epoch 5/20\n",
      "2877846/2877846 [==============================] - 27s 9us/step - loss: 0.3068 - acc: 0.8716\n",
      "Epoch 6/20\n",
      "2877846/2877846 [==============================] - 27s 9us/step - loss: 0.2934 - acc: 0.8773\n",
      "Epoch 7/20\n",
      "2877846/2877846 [==============================] - 27s 9us/step - loss: 0.2834 - acc: 0.8820\n",
      "Epoch 8/20\n",
      "2877846/2877846 [==============================] - 27s 9us/step - loss: 0.2759 - acc: 0.8855: 8s - loss: 0.2769 - acc - ETA: 0s - loss: 0.2760 - acc: 0.885\n",
      "Epoch 9/20\n",
      "2877846/2877846 [==============================] - 27s 9us/step - loss: 0.2702 - acc: 0.8880: 5s - ETA: 2s -\n",
      "Epoch 10/20\n",
      "2877846/2877846 [==============================] - 27s 9us/step - loss: 0.2658 - acc: 0.8900\n",
      "Epoch 11/20\n",
      "2877846/2877846 [==============================] - 27s 9us/step - loss: 0.2622 - acc: 0.8914: 1s - loss: 0.26\n",
      "Epoch 12/20\n",
      "2877846/2877846 [==============================] - 27s 9us/step - loss: 0.2591 - acc: 0.8929\n",
      "Epoch 13/20\n",
      "2877846/2877846 [==============================] - 27s 9us/step - loss: 0.2563 - acc: 0.8940\n",
      "Epoch 14/20\n",
      "2877846/2877846 [==============================] - 27s 9us/step - loss: 0.2539 - acc: 0.8950: 0s - loss: 0.2540 - ac\n",
      "Epoch 15/20\n",
      "2877846/2877846 [==============================] - 27s 9us/step - loss: 0.2515 - acc: 0.8962\n",
      "Epoch 16/20\n",
      "2877846/2877846 [==============================] - 27s 9us/step - loss: 0.2497 - acc: 0.8969: 2s - l\n",
      "Epoch 17/20\n",
      "2877846/2877846 [==============================] - 27s 9us/step - loss: 0.2479 - acc: 0.8979\n",
      "Epoch 18/20\n",
      "2877846/2877846 [==============================] - 27s 9us/step - loss: 0.2464 - acc: 0.8986: 1s - loss: 0.246\n",
      "Epoch 19/20\n",
      "2877846/2877846 [==============================] - 27s 9us/step - loss: 0.2451 - acc: 0.8991: 0s - loss: 0.2451 - acc: \n",
      "Epoch 20/20\n",
      "2877846/2877846 [==============================] - 27s 9us/step - loss: 0.2440 - acc: 0.8996A:  - ETA: 3s - loss: 0.2441 - acc - ETA: 2s -\n"
     ]
    },
    {
     "data": {
      "text/plain": [
       "<keras.callbacks.History at 0x2731a213518>"
      ]
     },
     "execution_count": 15,
     "metadata": {},
     "output_type": "execute_result"
    }
   ],
   "source": [
    "model.fit(Xo, Yo, epochs=20, batch_size=10000 )"
   ]
  },
  {
   "cell_type": "code",
   "execution_count": 16,
   "metadata": {},
   "outputs": [
    {
     "name": "stdout",
     "output_type": "stream",
     "text": [
      "361419/361419 [==============================] - 11s 30us/step\n",
      "\n",
      "acc: 88.77%\n"
     ]
    }
   ],
   "source": [
    "# evaluate the model on undersampled dataset\n",
    "scores = model.evaluate(Xu, Yu)\n",
    "print(\"\\n%s: %.2f%%\" % (model.metrics_names[1], scores[1]*100))"
   ]
  },
  {
   "cell_type": "markdown",
   "metadata": {},
   "source": [
    "### Artificial Neural Networks\n",
    "The actual data and oversampled data were used to make the predictions. \n",
    "\n",
    "As the actual dataset had a significantly fewer Defaulters (‘1’  : 0.47%) as opposed to ‘0”. The prediction accuracy for this dataset was close to 99.5%. The accuracy was driven by the fact that almost all the predicted values were 0. The same is the case with test data also as it also has very low % of defaulters.\n",
    "\n",
    "In order to overcome this bias in the prediction, we tried a modeling approach using Oversampled data. Here though the accuracy on train data reduced to 89% compared to previous model, the accuracy with test data increased to 88%. While this model has lesser accuracy than the previous model, this is a more realistic predictions. "
   ]
  }
 ],
 "metadata": {
  "kernelspec": {
   "display_name": "Python 3",
   "language": "python",
   "name": "python3"
  },
  "language_info": {
   "codemirror_mode": {
    "name": "ipython",
    "version": 3
   },
   "file_extension": ".py",
   "mimetype": "text/x-python",
   "name": "python",
   "nbconvert_exporter": "python",
   "pygments_lexer": "ipython3",
   "version": "3.7.3"
  }
 },
 "nbformat": 4,
 "nbformat_minor": 2
}
