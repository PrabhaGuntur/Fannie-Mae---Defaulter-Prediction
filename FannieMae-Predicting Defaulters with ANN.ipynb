{
 "cells": [
  {
   "cell_type": "code",
   "execution_count": 1,
   "metadata": {},
   "outputs": [
    {
     "name": "stderr",
     "output_type": "stream",
     "text": [
      "Using TensorFlow backend.\n"
     ]
    }
   ],
   "source": [
    "import keras\n",
    "from keras.models import Sequential\n",
    "from keras.layers import Dense\n",
    "import numpy as np\n",
    "import pandas as pd\n",
    "\n",
    "# fix random seed for reproducibility\n",
    "np.random.seed(7)\n"
   ]
  },
  {
   "cell_type": "code",
   "execution_count": 2,
   "metadata": {},
   "outputs": [
    {
     "name": "stderr",
     "output_type": "stream",
     "text": [
      "C:\\Users\\Prabha\\Anaconda3\\envs\\Deep Learning\\lib\\site-packages\\numpy\\lib\\arraysetops.py:569: FutureWarning: elementwise comparison failed; returning scalar instead, but in the future will perform elementwise comparison\n",
      "  mask |= (ar1 == a)\n"
     ]
    }
   ],
   "source": [
    "# Original imbalanced dataset after Cleaning and feature generation\n",
    "dataset = pd.read_csv(\"C:\\\\DATASCIENCE\\\\11-DONO-PROJECT\\\\2-Jigsaw_Dono\\\\DATASTORE\\\\mbs_scaled_final1234.csv\", sep='\\t', index_col=0)\n",
    "# split into input (X) and output (Y) variables\n",
    "X = dataset.drop(\"DEFAULT STATUS\", axis=1)\n",
    "Y = dataset[\"DEFAULT STATUS\"]"
   ]
  },
  {
   "cell_type": "code",
   "execution_count": 3,
   "metadata": {},
   "outputs": [
    {
     "data": {
      "text/plain": [
       "(1807092, 98)"
      ]
     },
     "execution_count": 3,
     "metadata": {},
     "output_type": "execute_result"
    }
   ],
   "source": [
    "X.shape"
   ]
  },
  {
   "cell_type": "code",
   "execution_count": 4,
   "metadata": {},
   "outputs": [
    {
     "data": {
      "text/plain": [
       "(1807092,)"
      ]
     },
     "execution_count": 4,
     "metadata": {},
     "output_type": "execute_result"
    }
   ],
   "source": [
    "Y.shape"
   ]
  },
  {
   "cell_type": "code",
   "execution_count": 5,
   "metadata": {},
   "outputs": [
    {
     "name": "stdout",
     "output_type": "stream",
     "text": [
      "WARNING:tensorflow:From C:\\Users\\Prabha\\Anaconda3\\envs\\Deep Learning\\lib\\site-packages\\tensorflow\\python\\framework\\op_def_library.py:263: colocate_with (from tensorflow.python.framework.ops) is deprecated and will be removed in a future version.\n",
      "Instructions for updating:\n",
      "Colocations handled automatically by placer.\n"
     ]
    }
   ],
   "source": [
    "# create model\n",
    "model = Sequential()\n",
    "model.add(Dense(12, input_dim=98, activation='relu'))\n",
    "model.add(Dense(8, activation='relu'))\n",
    "model.add(Dense(1, activation='sigmoid'))"
   ]
  },
  {
   "cell_type": "code",
   "execution_count": 6,
   "metadata": {},
   "outputs": [],
   "source": [
    "# Compile model\n",
    "model.compile(loss='binary_crossentropy', optimizer='adam', metrics=['accuracy'])"
   ]
  },
  {
   "cell_type": "code",
   "execution_count": 7,
   "metadata": {},
   "outputs": [
    {
     "name": "stdout",
     "output_type": "stream",
     "text": [
      "WARNING:tensorflow:From C:\\Users\\Prabha\\Anaconda3\\envs\\Deep Learning\\lib\\site-packages\\tensorflow\\python\\ops\\math_ops.py:3066: to_int32 (from tensorflow.python.ops.math_ops) is deprecated and will be removed in a future version.\n",
      "Instructions for updating:\n",
      "Use tf.cast instead.\n",
      "Epoch 1/10\n",
      "1807092/1807092 [==============================] - 8s 5us/step - loss: 0.1397 - acc: 0.9949\n",
      "Epoch 2/10\n",
      "1807092/1807092 [==============================] - 9s 5us/step - loss: 0.0284 - acc: 0.9953\n",
      "Epoch 3/10\n",
      "1807092/1807092 [==============================] - 10s 6us/step - loss: 0.0264 - acc: 0.9953\n",
      "Epoch 4/10\n",
      "1807092/1807092 [==============================] - 10s 6us/step - loss: 0.0257 - acc: 0.9953\n",
      "Epoch 5/10\n",
      "1807092/1807092 [==============================] - 10s 6us/step - loss: 0.0253 - acc: 0.9953\n",
      "Epoch 6/10\n",
      "1807092/1807092 [==============================] - 10s 5us/step - loss: 0.0251 - acc: 0.9953\n",
      "Epoch 7/10\n",
      "1807092/1807092 [==============================] - 10s 5us/step - loss: 0.0250 - acc: 0.9953\n",
      "Epoch 8/10\n",
      "1807092/1807092 [==============================] - 10s 6us/step - loss: 0.0249 - acc: 0.9953\n",
      "Epoch 9/10\n",
      "1807092/1807092 [==============================] - 10s 6us/step - loss: 0.0249 - acc: 0.9953\n",
      "Epoch 10/10\n",
      "1807092/1807092 [==============================] - 10s 6us/step - loss: 0.0248 - acc: 0.9953\n"
     ]
    },
    {
     "data": {
      "text/plain": [
       "<keras.callbacks.History at 0x24435f66b00>"
      ]
     },
     "execution_count": 7,
     "metadata": {},
     "output_type": "execute_result"
    }
   ],
   "source": [
    "model.fit(X, Y, epochs=10, batch_size=10000 )"
   ]
  },
  {
   "cell_type": "code",
   "execution_count": 8,
   "metadata": {},
   "outputs": [],
   "source": [
    "# Test dataset\n",
    "Xu= pd.read_csv(\"C:\\\\DATASCIENCE\\\\11-DONO-PROJECT\\\\2-Jigsaw_Dono\\\\DATASTORE\\\\X_testoversample.csv\", sep='\\t', index_col=0)\n",
    "Yu=pd.read_csv(\"C:\\\\DATASCIENCE\\\\11-DONO-PROJECT\\\\2-Jigsaw_Dono\\\\DATASTORE\\\\y_testoversample.csv\", sep='\\t', index_col=0)"
   ]
  },
  {
   "cell_type": "code",
   "execution_count": 9,
   "metadata": {},
   "outputs": [
    {
     "name": "stdout",
     "output_type": "stream",
     "text": [
      "361419/361419 [==============================] - 5s 13us/step\n",
      "\n",
      "acc: 99.52%\n"
     ]
    }
   ],
   "source": [
    "# evaluate the model on undersampled dataset\n",
    "scores = model.evaluate(Xu, Yu)\n",
    "print(\"\\n%s: %.2f%%\" % (model.metrics_names[1], scores[1]*100))"
   ]
  },
  {
   "cell_type": "code",
   "execution_count": 10,
   "metadata": {},
   "outputs": [],
   "source": [
    "# Over sampled dataset\n",
    "Xo= pd.read_csv(\"C:\\\\DATASCIENCE\\\\11-DONO-PROJECT\\\\2-Jigsaw_Dono\\\\DATASTORE\\\\X_trainoversample.csv\", sep='\\t', index_col=0)\n",
    "Yo=pd.read_csv(\"C:\\\\DATASCIENCE\\\\11-DONO-PROJECT\\\\2-Jigsaw_Dono\\\\DATASTORE\\\\y_trainoversample.csv\", sep='\\t', index_col=0)"
   ]
  },
  {
   "cell_type": "code",
   "execution_count": 11,
   "metadata": {},
   "outputs": [
    {
     "data": {
      "text/plain": [
       "(2877846, 98)"
      ]
     },
     "execution_count": 11,
     "metadata": {},
     "output_type": "execute_result"
    }
   ],
   "source": [
    "Xo.shape"
   ]
  },
  {
   "cell_type": "code",
   "execution_count": 12,
   "metadata": {},
   "outputs": [
    {
     "data": {
      "text/plain": [
       "(2877846, 1)"
      ]
     },
     "execution_count": 12,
     "metadata": {},
     "output_type": "execute_result"
    }
   ],
   "source": [
    "Yo.shape"
   ]
  },
  {
   "cell_type": "code",
   "execution_count": 13,
   "metadata": {},
   "outputs": [],
   "source": [
    "# create model\n",
    "model = Sequential()\n",
    "model.add(Dense(12, input_dim=98, activation='relu'))\n",
    "model.add(Dense(8, activation='relu'))\n",
    "model.add(Dense(4, activation='relu'))\n",
    "model.add(Dense(1, activation='sigmoid'))"
   ]
  },
  {
   "cell_type": "code",
   "execution_count": 14,
   "metadata": {},
   "outputs": [],
   "source": [
    "# Compile model\n",
    "model.compile(loss='binary_crossentropy', optimizer='adam', metrics=['accuracy'])"
   ]
  },
  {
   "cell_type": "code",
   "execution_count": 15,
   "metadata": {},
   "outputs": [
    {
     "name": "stdout",
     "output_type": "stream",
     "text": [
      "Epoch 1/20\n",
      "2877846/2877846 [==============================] - 17s 6us/step - loss: 0.5098 - acc: 0.7665\n",
      "Epoch 2/20\n",
      "2877846/2877846 [==============================] - 17s 6us/step - loss: 0.3813 - acc: 0.8326\n",
      "Epoch 3/20\n",
      "2877846/2877846 [==============================] - 17s 6us/step - loss: 0.3560 - acc: 0.8466\n",
      "Epoch 4/20\n",
      "2877846/2877846 [==============================] - 18s 6us/step - loss: 0.3273 - acc: 0.8615\n",
      "Epoch 5/20\n",
      "2877846/2877846 [==============================] - 17s 6us/step - loss: 0.3067 - acc: 0.8716\n",
      "Epoch 6/20\n",
      "2877846/2877846 [==============================] - 18s 6us/step - loss: 0.2933 - acc: 0.8773\n",
      "Epoch 7/20\n",
      "2877846/2877846 [==============================] - 17s 6us/step - loss: 0.2834 - acc: 0.8820\n",
      "Epoch 8/20\n",
      "2877846/2877846 [==============================] - 17s 6us/step - loss: 0.2759 - acc: 0.8855: 0s - loss: 0.2760 - acc:\n",
      "Epoch 9/20\n",
      "2877846/2877846 [==============================] - 18s 6us/step - loss: 0.2702 - acc: 0.8879: 1s\n",
      "Epoch 10/20\n",
      "2877846/2877846 [==============================] - 18s 6us/step - loss: 0.2657 - acc: 0.8899\n",
      "Epoch 11/20\n",
      "2877846/2877846 [==============================] - 18s 6us/step - loss: 0.2621 - acc: 0.8915\n",
      "Epoch 12/20\n",
      "2877846/2877846 [==============================] - 17s 6us/step - loss: 0.2590 - acc: 0.8928: 0s - loss: 0.2589 - acc: 0.\n",
      "Epoch 13/20\n",
      "2877846/2877846 [==============================] - 18s 6us/step - loss: 0.2562 - acc: 0.8941\n",
      "Epoch 14/20\n",
      "2877846/2877846 [==============================] - 18s 6us/step - loss: 0.2534 - acc: 0.8953\n",
      "Epoch 15/20\n",
      "2877846/2877846 [==============================] - 18s 6us/step - loss: 0.2510 - acc: 0.8964\n",
      "Epoch 16/20\n",
      "2877846/2877846 [==============================] - 18s 6us/step - loss: 0.2493 - acc: 0.8971\n",
      "Epoch 17/20\n",
      "2877846/2877846 [==============================] - 17s 6us/step - loss: 0.2475 - acc: 0.8980\n",
      "Epoch 18/20\n",
      "2877846/2877846 [==============================] - 17s 6us/step - loss: 0.2459 - acc: 0.8986\n",
      "Epoch 19/20\n",
      "2877846/2877846 [==============================] - 18s 6us/step - loss: 0.2446 - acc: 0.8993\n",
      "Epoch 20/20\n",
      "2877846/2877846 [==============================] - 17s 6us/step - loss: 0.2435 - acc: 0.8998\n"
     ]
    },
    {
     "data": {
      "text/plain": [
       "<keras.callbacks.History at 0x24435f66710>"
      ]
     },
     "execution_count": 15,
     "metadata": {},
     "output_type": "execute_result"
    }
   ],
   "source": [
    "model.fit(Xo, Yo, epochs=20, batch_size=10000 )"
   ]
  },
  {
   "cell_type": "code",
   "execution_count": 16,
   "metadata": {},
   "outputs": [
    {
     "name": "stdout",
     "output_type": "stream",
     "text": [
      "361419/361419 [==============================] - 5s 14us/step\n",
      "\n",
      "acc: 88.76%\n"
     ]
    }
   ],
   "source": [
    "# evaluate the model on undersampled dataset\n",
    "scores = model.evaluate(Xu, Yu)\n",
    "print(\"\\n%s: %.2f%%\" % (model.metrics_names[1], scores[1]*100))"
   ]
  }
 ],
 "metadata": {
  "kernelspec": {
   "display_name": "Python 3",
   "language": "python",
   "name": "python3"
  },
  "language_info": {
   "codemirror_mode": {
    "name": "ipython",
    "version": 3
   },
   "file_extension": ".py",
   "mimetype": "text/x-python",
   "name": "python",
   "nbconvert_exporter": "python",
   "pygments_lexer": "ipython3",
   "version": "3.7.3"
  }
 },
 "nbformat": 4,
 "nbformat_minor": 2
}
