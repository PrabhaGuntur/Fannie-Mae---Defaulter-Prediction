{
 "cells": [
  {
   "cell_type": "code",
   "execution_count": 1,
   "metadata": {},
   "outputs": [],
   "source": [
    "import pandas as pd\n",
    "import numpy as np\n",
    "import matplotlib.pyplot as mpl\n",
    "import seaborn as sns\n",
    "\n",
    "import warnings\n",
    "warnings.filterwarnings('ignore')"
   ]
  },
  {
   "cell_type": "markdown",
   "metadata": {},
   "source": [
    "# READING AND CLEANING THE DATA"
   ]
  },
  {
   "cell_type": "code",
   "execution_count": 2,
   "metadata": {},
   "outputs": [],
   "source": [
    "mbs=pd.read_csv(\"C:\\\\DATASCIENCE\\\\11-DONO-PROJECT\\\\2-Jigsaw_Dono\\\\DATASTORE\\\\consoldata_1234.csv\", sep='\\t', index_col=0)"
   ]
  },
  {
   "cell_type": "code",
   "execution_count": 3,
   "metadata": {},
   "outputs": [
    {
     "data": {
      "text/plain": [
       "(1808802, 27)"
      ]
     },
     "execution_count": 3,
     "metadata": {},
     "output_type": "execute_result"
    }
   ],
   "source": [
    "mbs.shape"
   ]
  },
  {
   "cell_type": "code",
   "execution_count": 4,
   "metadata": {},
   "outputs": [],
   "source": [
    "pd.set_option('display.max_columns', None)  "
   ]
  },
  {
   "cell_type": "code",
   "execution_count": 5,
   "metadata": {},
   "outputs": [
    {
     "data": {
      "text/html": [
       "<div>\n",
       "<style scoped>\n",
       "    .dataframe tbody tr th:only-of-type {\n",
       "        vertical-align: middle;\n",
       "    }\n",
       "\n",
       "    .dataframe tbody tr th {\n",
       "        vertical-align: top;\n",
       "    }\n",
       "\n",
       "    .dataframe thead th {\n",
       "        text-align: right;\n",
       "    }\n",
       "</style>\n",
       "<table border=\"1\" class=\"dataframe\">\n",
       "  <thead>\n",
       "    <tr style=\"text-align: right;\">\n",
       "      <th></th>\n",
       "      <th>LOAN IDENTIFIER</th>\n",
       "      <th>ORIGINATION CHANNEL</th>\n",
       "      <th>SELLER NAME</th>\n",
       "      <th>ORIGINAL INTEREST RATE</th>\n",
       "      <th>ORIGINAL UPB</th>\n",
       "      <th>ORIGINAL LOAN TERM</th>\n",
       "      <th>ORIGINATION DATE</th>\n",
       "      <th>FIRST PAYMENT DATE</th>\n",
       "      <th>ORIGINAL LOAN-TO-VALUE (LTV)</th>\n",
       "      <th>ORIGINAL COMBINED LOAN-TO-VALUE (CLTV)</th>\n",
       "      <th>NUMBER OF BORROWERS</th>\n",
       "      <th>ORIGINAL DEBT TO INCOME RATIO</th>\n",
       "      <th>BORROWER CREDIT SCORE AT ORIGINATION</th>\n",
       "      <th>FIRST TIME HOME BUYER INDICATOR</th>\n",
       "      <th>LOAN PURPOSE</th>\n",
       "      <th>PROPERTY TYPE</th>\n",
       "      <th>NUMBER OF UNITS</th>\n",
       "      <th>OCCUPANCY TYPE</th>\n",
       "      <th>PROPERTY STATE</th>\n",
       "      <th>ZIP CODE SHORT</th>\n",
       "      <th>PRIMARY MORTGAGE INSURANCE PERCENT</th>\n",
       "      <th>PRODUCT TYPE</th>\n",
       "      <th>CO-BORROWER CREDIT SCORE AT ORIGINATION</th>\n",
       "      <th>MORTGAGE INSURANCE TYPE</th>\n",
       "      <th>RELOCATION MORTGAGE INDICATOR</th>\n",
       "      <th>CURRENT DQ STATUS</th>\n",
       "      <th>DEFAULT STATUS</th>\n",
       "    </tr>\n",
       "  </thead>\n",
       "  <tbody>\n",
       "    <tr>\n",
       "      <th>0</th>\n",
       "      <td>100010724683</td>\n",
       "      <td>C</td>\n",
       "      <td>PMTT4</td>\n",
       "      <td>4.250</td>\n",
       "      <td>220000</td>\n",
       "      <td>360</td>\n",
       "      <td>07/2017</td>\n",
       "      <td>09/2017</td>\n",
       "      <td>80</td>\n",
       "      <td>80</td>\n",
       "      <td>1</td>\n",
       "      <td>32.0</td>\n",
       "      <td>735.0</td>\n",
       "      <td>N</td>\n",
       "      <td>C</td>\n",
       "      <td>SF</td>\n",
       "      <td>1</td>\n",
       "      <td>P</td>\n",
       "      <td>MD</td>\n",
       "      <td>212</td>\n",
       "      <td>NaN</td>\n",
       "      <td>FRM</td>\n",
       "      <td>NaN</td>\n",
       "      <td>NaN</td>\n",
       "      <td>N</td>\n",
       "      <td>0</td>\n",
       "      <td>0</td>\n",
       "    </tr>\n",
       "    <tr>\n",
       "      <th>1</th>\n",
       "      <td>100015036345</td>\n",
       "      <td>R</td>\n",
       "      <td>OTHER</td>\n",
       "      <td>3.990</td>\n",
       "      <td>118000</td>\n",
       "      <td>360</td>\n",
       "      <td>07/2017</td>\n",
       "      <td>09/2017</td>\n",
       "      <td>95</td>\n",
       "      <td>95</td>\n",
       "      <td>1</td>\n",
       "      <td>36.0</td>\n",
       "      <td>763.0</td>\n",
       "      <td>N</td>\n",
       "      <td>P</td>\n",
       "      <td>SF</td>\n",
       "      <td>1</td>\n",
       "      <td>P</td>\n",
       "      <td>MI</td>\n",
       "      <td>490</td>\n",
       "      <td>30.0</td>\n",
       "      <td>FRM</td>\n",
       "      <td>NaN</td>\n",
       "      <td>1.0</td>\n",
       "      <td>N</td>\n",
       "      <td>0</td>\n",
       "      <td>0</td>\n",
       "    </tr>\n",
       "    <tr>\n",
       "      <th>2</th>\n",
       "      <td>100015872947</td>\n",
       "      <td>C</td>\n",
       "      <td>OTHER</td>\n",
       "      <td>4.375</td>\n",
       "      <td>215000</td>\n",
       "      <td>360</td>\n",
       "      <td>07/2017</td>\n",
       "      <td>09/2017</td>\n",
       "      <td>76</td>\n",
       "      <td>76</td>\n",
       "      <td>2</td>\n",
       "      <td>32.0</td>\n",
       "      <td>761.0</td>\n",
       "      <td>N</td>\n",
       "      <td>P</td>\n",
       "      <td>PU</td>\n",
       "      <td>1</td>\n",
       "      <td>P</td>\n",
       "      <td>GA</td>\n",
       "      <td>305</td>\n",
       "      <td>NaN</td>\n",
       "      <td>FRM</td>\n",
       "      <td>780.0</td>\n",
       "      <td>NaN</td>\n",
       "      <td>N</td>\n",
       "      <td>0</td>\n",
       "      <td>0</td>\n",
       "    </tr>\n",
       "    <tr>\n",
       "      <th>3</th>\n",
       "      <td>100016305460</td>\n",
       "      <td>C</td>\n",
       "      <td>OTHER</td>\n",
       "      <td>3.875</td>\n",
       "      <td>194000</td>\n",
       "      <td>240</td>\n",
       "      <td>08/2017</td>\n",
       "      <td>10/2017</td>\n",
       "      <td>80</td>\n",
       "      <td>80</td>\n",
       "      <td>1</td>\n",
       "      <td>28.0</td>\n",
       "      <td>761.0</td>\n",
       "      <td>N</td>\n",
       "      <td>R</td>\n",
       "      <td>SF</td>\n",
       "      <td>1</td>\n",
       "      <td>P</td>\n",
       "      <td>IN</td>\n",
       "      <td>463</td>\n",
       "      <td>NaN</td>\n",
       "      <td>FRM</td>\n",
       "      <td>NaN</td>\n",
       "      <td>NaN</td>\n",
       "      <td>N</td>\n",
       "      <td>0</td>\n",
       "      <td>0</td>\n",
       "    </tr>\n",
       "    <tr>\n",
       "      <th>4</th>\n",
       "      <td>100017827362</td>\n",
       "      <td>R</td>\n",
       "      <td>OTHER</td>\n",
       "      <td>4.625</td>\n",
       "      <td>110000</td>\n",
       "      <td>360</td>\n",
       "      <td>08/2017</td>\n",
       "      <td>09/2017</td>\n",
       "      <td>80</td>\n",
       "      <td>80</td>\n",
       "      <td>1</td>\n",
       "      <td>32.0</td>\n",
       "      <td>771.0</td>\n",
       "      <td>N</td>\n",
       "      <td>C</td>\n",
       "      <td>SF</td>\n",
       "      <td>1</td>\n",
       "      <td>P</td>\n",
       "      <td>TX</td>\n",
       "      <td>752</td>\n",
       "      <td>NaN</td>\n",
       "      <td>FRM</td>\n",
       "      <td>NaN</td>\n",
       "      <td>NaN</td>\n",
       "      <td>N</td>\n",
       "      <td>0</td>\n",
       "      <td>0</td>\n",
       "    </tr>\n",
       "  </tbody>\n",
       "</table>\n",
       "</div>"
      ],
      "text/plain": [
       "   LOAN IDENTIFIER ORIGINATION CHANNEL SELLER NAME  ORIGINAL INTEREST RATE  \\\n",
       "0     100010724683                   C       PMTT4                   4.250   \n",
       "1     100015036345                   R       OTHER                   3.990   \n",
       "2     100015872947                   C       OTHER                   4.375   \n",
       "3     100016305460                   C       OTHER                   3.875   \n",
       "4     100017827362                   R       OTHER                   4.625   \n",
       "\n",
       "   ORIGINAL UPB  ORIGINAL LOAN TERM ORIGINATION DATE FIRST PAYMENT DATE  \\\n",
       "0        220000                 360          07/2017            09/2017   \n",
       "1        118000                 360          07/2017            09/2017   \n",
       "2        215000                 360          07/2017            09/2017   \n",
       "3        194000                 240          08/2017            10/2017   \n",
       "4        110000                 360          08/2017            09/2017   \n",
       "\n",
       "   ORIGINAL LOAN-TO-VALUE (LTV)  ORIGINAL COMBINED LOAN-TO-VALUE (CLTV)  \\\n",
       "0                            80                                      80   \n",
       "1                            95                                      95   \n",
       "2                            76                                      76   \n",
       "3                            80                                      80   \n",
       "4                            80                                      80   \n",
       "\n",
       "   NUMBER OF BORROWERS  ORIGINAL DEBT TO INCOME RATIO  \\\n",
       "0                    1                           32.0   \n",
       "1                    1                           36.0   \n",
       "2                    2                           32.0   \n",
       "3                    1                           28.0   \n",
       "4                    1                           32.0   \n",
       "\n",
       "   BORROWER CREDIT SCORE AT ORIGINATION FIRST TIME HOME BUYER INDICATOR  \\\n",
       "0                                 735.0                               N   \n",
       "1                                 763.0                               N   \n",
       "2                                 761.0                               N   \n",
       "3                                 761.0                               N   \n",
       "4                                 771.0                               N   \n",
       "\n",
       "  LOAN PURPOSE PROPERTY TYPE  NUMBER OF UNITS OCCUPANCY TYPE PROPERTY STATE  \\\n",
       "0            C            SF                1              P             MD   \n",
       "1            P            SF                1              P             MI   \n",
       "2            P            PU                1              P             GA   \n",
       "3            R            SF                1              P             IN   \n",
       "4            C            SF                1              P             TX   \n",
       "\n",
       "   ZIP CODE SHORT  PRIMARY MORTGAGE INSURANCE PERCENT PRODUCT TYPE  \\\n",
       "0             212                                 NaN          FRM   \n",
       "1             490                                30.0          FRM   \n",
       "2             305                                 NaN          FRM   \n",
       "3             463                                 NaN          FRM   \n",
       "4             752                                 NaN          FRM   \n",
       "\n",
       "   CO-BORROWER CREDIT SCORE AT ORIGINATION  MORTGAGE INSURANCE TYPE  \\\n",
       "0                                      NaN                      NaN   \n",
       "1                                      NaN                      1.0   \n",
       "2                                    780.0                      NaN   \n",
       "3                                      NaN                      NaN   \n",
       "4                                      NaN                      NaN   \n",
       "\n",
       "  RELOCATION MORTGAGE INDICATOR  CURRENT DQ STATUS  DEFAULT STATUS  \n",
       "0                             N                  0               0  \n",
       "1                             N                  0               0  \n",
       "2                             N                  0               0  \n",
       "3                             N                  0               0  \n",
       "4                             N                  0               0  "
      ]
     },
     "execution_count": 5,
     "metadata": {},
     "output_type": "execute_result"
    }
   ],
   "source": [
    "mbs.head()"
   ]
  },
  {
   "cell_type": "code",
   "execution_count": 6,
   "metadata": {},
   "outputs": [
    {
     "name": "stdout",
     "output_type": "stream",
     "text": [
      "<class 'pandas.core.frame.DataFrame'>\n",
      "Int64Index: 1808802 entries, 0 to 1808801\n",
      "Data columns (total 27 columns):\n",
      "LOAN IDENTIFIER                            int64\n",
      "ORIGINATION CHANNEL                        object\n",
      "SELLER NAME                                object\n",
      "ORIGINAL INTEREST RATE                     float64\n",
      "ORIGINAL UPB                               int64\n",
      "ORIGINAL LOAN TERM                         int64\n",
      "ORIGINATION DATE                           object\n",
      "FIRST PAYMENT DATE                         object\n",
      "ORIGINAL LOAN-TO-VALUE (LTV)               int64\n",
      "ORIGINAL COMBINED LOAN-TO-VALUE (CLTV)     int64\n",
      "NUMBER OF BORROWERS                        int64\n",
      "ORIGINAL DEBT TO INCOME RATIO              float64\n",
      "BORROWER CREDIT SCORE AT ORIGINATION       float64\n",
      "FIRST TIME HOME BUYER INDICATOR            object\n",
      "LOAN PURPOSE                               object\n",
      "PROPERTY TYPE                              object\n",
      "NUMBER OF UNITS                            int64\n",
      "OCCUPANCY TYPE                             object\n",
      "PROPERTY STATE                             object\n",
      "ZIP CODE SHORT                             int64\n",
      "PRIMARY MORTGAGE INSURANCE PERCENT         float64\n",
      "PRODUCT TYPE                               object\n",
      "CO-BORROWER CREDIT SCORE AT ORIGINATION    float64\n",
      "MORTGAGE INSURANCE TYPE                    float64\n",
      "RELOCATION MORTGAGE INDICATOR              object\n",
      "CURRENT DQ STATUS                          int64\n",
      "DEFAULT STATUS                             int64\n",
      "dtypes: float64(6), int64(10), object(11)\n",
      "memory usage: 386.4+ MB\n"
     ]
    }
   ],
   "source": [
    "mbs.info()"
   ]
  },
  {
   "cell_type": "code",
   "execution_count": 7,
   "metadata": {},
   "outputs": [
    {
     "data": {
      "text/plain": [
       "LOAN IDENTIFIER                                  0\n",
       "ORIGINATION CHANNEL                              0\n",
       "SELLER NAME                                      0\n",
       "ORIGINAL INTEREST RATE                           0\n",
       "ORIGINAL UPB                                     0\n",
       "ORIGINAL LOAN TERM                               0\n",
       "ORIGINATION DATE                                 0\n",
       "FIRST PAYMENT DATE                               0\n",
       "ORIGINAL LOAN-TO-VALUE (LTV)                     0\n",
       "ORIGINAL COMBINED LOAN-TO-VALUE (CLTV)           0\n",
       "NUMBER OF BORROWERS                              0\n",
       "ORIGINAL DEBT TO INCOME RATIO                  289\n",
       "BORROWER CREDIT SCORE AT ORIGINATION          1429\n",
       "FIRST TIME HOME BUYER INDICATOR                  0\n",
       "LOAN PURPOSE                                     0\n",
       "PROPERTY TYPE                                    0\n",
       "NUMBER OF UNITS                                  0\n",
       "OCCUPANCY TYPE                                   0\n",
       "PROPERTY STATE                                   0\n",
       "ZIP CODE SHORT                                   0\n",
       "PRIMARY MORTGAGE INSURANCE PERCENT         1287076\n",
       "PRODUCT TYPE                                     0\n",
       "CO-BORROWER CREDIT SCORE AT ORIGINATION     955166\n",
       "MORTGAGE INSURANCE TYPE                    1287076\n",
       "RELOCATION MORTGAGE INDICATOR                    0\n",
       "CURRENT DQ STATUS                                0\n",
       "DEFAULT STATUS                                   0\n",
       "dtype: int64"
      ]
     },
     "execution_count": 7,
     "metadata": {},
     "output_type": "execute_result"
    }
   ],
   "source": [
    "mbs.isnull().sum()"
   ]
  },
  {
   "cell_type": "code",
   "execution_count": 8,
   "metadata": {},
   "outputs": [
    {
     "data": {
      "text/html": [
       "<div>\n",
       "<style scoped>\n",
       "    .dataframe tbody tr th:only-of-type {\n",
       "        vertical-align: middle;\n",
       "    }\n",
       "\n",
       "    .dataframe tbody tr th {\n",
       "        vertical-align: top;\n",
       "    }\n",
       "\n",
       "    .dataframe thead th {\n",
       "        text-align: right;\n",
       "    }\n",
       "</style>\n",
       "<table border=\"1\" class=\"dataframe\">\n",
       "  <thead>\n",
       "    <tr style=\"text-align: right;\">\n",
       "      <th></th>\n",
       "      <th>LOAN IDENTIFIER</th>\n",
       "      <th>ORIGINATION CHANNEL</th>\n",
       "      <th>SELLER NAME</th>\n",
       "      <th>ORIGINAL INTEREST RATE</th>\n",
       "      <th>ORIGINAL UPB</th>\n",
       "      <th>ORIGINAL LOAN TERM</th>\n",
       "      <th>ORIGINATION DATE</th>\n",
       "      <th>FIRST PAYMENT DATE</th>\n",
       "      <th>ORIGINAL LOAN-TO-VALUE (LTV)</th>\n",
       "      <th>ORIGINAL COMBINED LOAN-TO-VALUE (CLTV)</th>\n",
       "      <th>NUMBER OF BORROWERS</th>\n",
       "      <th>ORIGINAL DEBT TO INCOME RATIO</th>\n",
       "      <th>BORROWER CREDIT SCORE AT ORIGINATION</th>\n",
       "      <th>FIRST TIME HOME BUYER INDICATOR</th>\n",
       "      <th>LOAN PURPOSE</th>\n",
       "      <th>PROPERTY TYPE</th>\n",
       "      <th>NUMBER OF UNITS</th>\n",
       "      <th>OCCUPANCY TYPE</th>\n",
       "      <th>PROPERTY STATE</th>\n",
       "      <th>ZIP CODE SHORT</th>\n",
       "      <th>PRIMARY MORTGAGE INSURANCE PERCENT</th>\n",
       "      <th>PRODUCT TYPE</th>\n",
       "      <th>CO-BORROWER CREDIT SCORE AT ORIGINATION</th>\n",
       "      <th>MORTGAGE INSURANCE TYPE</th>\n",
       "      <th>RELOCATION MORTGAGE INDICATOR</th>\n",
       "      <th>CURRENT DQ STATUS</th>\n",
       "      <th>DEFAULT STATUS</th>\n",
       "    </tr>\n",
       "  </thead>\n",
       "  <tbody>\n",
       "    <tr>\n",
       "      <th>325648</th>\n",
       "      <td>703497611936</td>\n",
       "      <td>C</td>\n",
       "      <td>PMTT4</td>\n",
       "      <td>5.000</td>\n",
       "      <td>207000</td>\n",
       "      <td>360</td>\n",
       "      <td>07/2017</td>\n",
       "      <td>09/2017</td>\n",
       "      <td>90</td>\n",
       "      <td>90</td>\n",
       "      <td>1</td>\n",
       "      <td>33.0</td>\n",
       "      <td>NaN</td>\n",
       "      <td>Y</td>\n",
       "      <td>P</td>\n",
       "      <td>SF</td>\n",
       "      <td>1</td>\n",
       "      <td>P</td>\n",
       "      <td>WA</td>\n",
       "      <td>984</td>\n",
       "      <td>25.0</td>\n",
       "      <td>FRM</td>\n",
       "      <td>NaN</td>\n",
       "      <td>1.0</td>\n",
       "      <td>N</td>\n",
       "      <td>6</td>\n",
       "      <td>1</td>\n",
       "    </tr>\n",
       "    <tr>\n",
       "      <th>406352</th>\n",
       "      <td>852914595018</td>\n",
       "      <td>R</td>\n",
       "      <td>WELLS FARGO BANK, N.A.</td>\n",
       "      <td>4.750</td>\n",
       "      <td>95000</td>\n",
       "      <td>360</td>\n",
       "      <td>07/2017</td>\n",
       "      <td>09/2017</td>\n",
       "      <td>80</td>\n",
       "      <td>80</td>\n",
       "      <td>2</td>\n",
       "      <td>31.0</td>\n",
       "      <td>NaN</td>\n",
       "      <td>Y</td>\n",
       "      <td>P</td>\n",
       "      <td>SF</td>\n",
       "      <td>1</td>\n",
       "      <td>P</td>\n",
       "      <td>FL</td>\n",
       "      <td>346</td>\n",
       "      <td>NaN</td>\n",
       "      <td>FRM</td>\n",
       "      <td>637.0</td>\n",
       "      <td>NaN</td>\n",
       "      <td>N</td>\n",
       "      <td>3</td>\n",
       "      <td>1</td>\n",
       "    </tr>\n",
       "    <tr>\n",
       "      <th>769739</th>\n",
       "      <td>638188768225</td>\n",
       "      <td>C</td>\n",
       "      <td>OTHER</td>\n",
       "      <td>5.000</td>\n",
       "      <td>165000</td>\n",
       "      <td>360</td>\n",
       "      <td>09/2017</td>\n",
       "      <td>11/2017</td>\n",
       "      <td>80</td>\n",
       "      <td>80</td>\n",
       "      <td>2</td>\n",
       "      <td>41.0</td>\n",
       "      <td>NaN</td>\n",
       "      <td>N</td>\n",
       "      <td>P</td>\n",
       "      <td>SF</td>\n",
       "      <td>1</td>\n",
       "      <td>P</td>\n",
       "      <td>FL</td>\n",
       "      <td>327</td>\n",
       "      <td>NaN</td>\n",
       "      <td>FRM</td>\n",
       "      <td>624.0</td>\n",
       "      <td>NaN</td>\n",
       "      <td>N</td>\n",
       "      <td>5</td>\n",
       "      <td>1</td>\n",
       "    </tr>\n",
       "    <tr>\n",
       "      <th>1142631</th>\n",
       "      <td>492371849714</td>\n",
       "      <td>R</td>\n",
       "      <td>OTHER</td>\n",
       "      <td>5.000</td>\n",
       "      <td>292000</td>\n",
       "      <td>360</td>\n",
       "      <td>04/2017</td>\n",
       "      <td>06/2017</td>\n",
       "      <td>75</td>\n",
       "      <td>75</td>\n",
       "      <td>1</td>\n",
       "      <td>NaN</td>\n",
       "      <td>692.0</td>\n",
       "      <td>N</td>\n",
       "      <td>P</td>\n",
       "      <td>SF</td>\n",
       "      <td>1</td>\n",
       "      <td>I</td>\n",
       "      <td>NY</td>\n",
       "      <td>104</td>\n",
       "      <td>NaN</td>\n",
       "      <td>FRM</td>\n",
       "      <td>NaN</td>\n",
       "      <td>NaN</td>\n",
       "      <td>N</td>\n",
       "      <td>4</td>\n",
       "      <td>1</td>\n",
       "    </tr>\n",
       "    <tr>\n",
       "      <th>1152125</th>\n",
       "      <td>513041714103</td>\n",
       "      <td>R</td>\n",
       "      <td>OTHER</td>\n",
       "      <td>4.125</td>\n",
       "      <td>259000</td>\n",
       "      <td>360</td>\n",
       "      <td>04/2017</td>\n",
       "      <td>06/2017</td>\n",
       "      <td>50</td>\n",
       "      <td>50</td>\n",
       "      <td>1</td>\n",
       "      <td>39.0</td>\n",
       "      <td>NaN</td>\n",
       "      <td>Y</td>\n",
       "      <td>P</td>\n",
       "      <td>PU</td>\n",
       "      <td>1</td>\n",
       "      <td>P</td>\n",
       "      <td>CO</td>\n",
       "      <td>801</td>\n",
       "      <td>NaN</td>\n",
       "      <td>FRM</td>\n",
       "      <td>NaN</td>\n",
       "      <td>NaN</td>\n",
       "      <td>N</td>\n",
       "      <td>9</td>\n",
       "      <td>1</td>\n",
       "    </tr>\n",
       "    <tr>\n",
       "      <th>1293405</th>\n",
       "      <td>816477677215</td>\n",
       "      <td>C</td>\n",
       "      <td>OTHER</td>\n",
       "      <td>4.750</td>\n",
       "      <td>190000</td>\n",
       "      <td>360</td>\n",
       "      <td>05/2017</td>\n",
       "      <td>07/2017</td>\n",
       "      <td>68</td>\n",
       "      <td>68</td>\n",
       "      <td>1</td>\n",
       "      <td>40.0</td>\n",
       "      <td>NaN</td>\n",
       "      <td>Y</td>\n",
       "      <td>P</td>\n",
       "      <td>SF</td>\n",
       "      <td>1</td>\n",
       "      <td>P</td>\n",
       "      <td>MI</td>\n",
       "      <td>480</td>\n",
       "      <td>NaN</td>\n",
       "      <td>FRM</td>\n",
       "      <td>NaN</td>\n",
       "      <td>NaN</td>\n",
       "      <td>N</td>\n",
       "      <td>8</td>\n",
       "      <td>1</td>\n",
       "    </tr>\n",
       "  </tbody>\n",
       "</table>\n",
       "</div>"
      ],
      "text/plain": [
       "         LOAN IDENTIFIER ORIGINATION CHANNEL             SELLER NAME  \\\n",
       "325648      703497611936                   C                   PMTT4   \n",
       "406352      852914595018                   R  WELLS FARGO BANK, N.A.   \n",
       "769739      638188768225                   C                   OTHER   \n",
       "1142631     492371849714                   R                   OTHER   \n",
       "1152125     513041714103                   R                   OTHER   \n",
       "1293405     816477677215                   C                   OTHER   \n",
       "\n",
       "         ORIGINAL INTEREST RATE  ORIGINAL UPB  ORIGINAL LOAN TERM  \\\n",
       "325648                    5.000        207000                 360   \n",
       "406352                    4.750         95000                 360   \n",
       "769739                    5.000        165000                 360   \n",
       "1142631                   5.000        292000                 360   \n",
       "1152125                   4.125        259000                 360   \n",
       "1293405                   4.750        190000                 360   \n",
       "\n",
       "        ORIGINATION DATE FIRST PAYMENT DATE  ORIGINAL LOAN-TO-VALUE (LTV)  \\\n",
       "325648           07/2017            09/2017                            90   \n",
       "406352           07/2017            09/2017                            80   \n",
       "769739           09/2017            11/2017                            80   \n",
       "1142631          04/2017            06/2017                            75   \n",
       "1152125          04/2017            06/2017                            50   \n",
       "1293405          05/2017            07/2017                            68   \n",
       "\n",
       "         ORIGINAL COMBINED LOAN-TO-VALUE (CLTV)  NUMBER OF BORROWERS  \\\n",
       "325648                                       90                    1   \n",
       "406352                                       80                    2   \n",
       "769739                                       80                    2   \n",
       "1142631                                      75                    1   \n",
       "1152125                                      50                    1   \n",
       "1293405                                      68                    1   \n",
       "\n",
       "         ORIGINAL DEBT TO INCOME RATIO  BORROWER CREDIT SCORE AT ORIGINATION  \\\n",
       "325648                            33.0                                   NaN   \n",
       "406352                            31.0                                   NaN   \n",
       "769739                            41.0                                   NaN   \n",
       "1142631                            NaN                                 692.0   \n",
       "1152125                           39.0                                   NaN   \n",
       "1293405                           40.0                                   NaN   \n",
       "\n",
       "        FIRST TIME HOME BUYER INDICATOR LOAN PURPOSE PROPERTY TYPE  \\\n",
       "325648                                Y            P            SF   \n",
       "406352                                Y            P            SF   \n",
       "769739                                N            P            SF   \n",
       "1142631                               N            P            SF   \n",
       "1152125                               Y            P            PU   \n",
       "1293405                               Y            P            SF   \n",
       "\n",
       "         NUMBER OF UNITS OCCUPANCY TYPE PROPERTY STATE  ZIP CODE SHORT  \\\n",
       "325648                 1              P             WA             984   \n",
       "406352                 1              P             FL             346   \n",
       "769739                 1              P             FL             327   \n",
       "1142631                1              I             NY             104   \n",
       "1152125                1              P             CO             801   \n",
       "1293405                1              P             MI             480   \n",
       "\n",
       "         PRIMARY MORTGAGE INSURANCE PERCENT PRODUCT TYPE  \\\n",
       "325648                                 25.0          FRM   \n",
       "406352                                  NaN          FRM   \n",
       "769739                                  NaN          FRM   \n",
       "1142631                                 NaN          FRM   \n",
       "1152125                                 NaN          FRM   \n",
       "1293405                                 NaN          FRM   \n",
       "\n",
       "         CO-BORROWER CREDIT SCORE AT ORIGINATION  MORTGAGE INSURANCE TYPE  \\\n",
       "325648                                       NaN                      1.0   \n",
       "406352                                     637.0                      NaN   \n",
       "769739                                     624.0                      NaN   \n",
       "1142631                                      NaN                      NaN   \n",
       "1152125                                      NaN                      NaN   \n",
       "1293405                                      NaN                      NaN   \n",
       "\n",
       "        RELOCATION MORTGAGE INDICATOR  CURRENT DQ STATUS  DEFAULT STATUS  \n",
       "325648                              N                  6               1  \n",
       "406352                              N                  3               1  \n",
       "769739                              N                  5               1  \n",
       "1142631                             N                  4               1  \n",
       "1152125                             N                  9               1  \n",
       "1293405                             N                  8               1  "
      ]
     },
     "execution_count": 8,
     "metadata": {},
     "output_type": "execute_result"
    }
   ],
   "source": [
    "# To check if default status is '1' for the null values in ORIGINAL DEBT TO INCOME RATIO or BORROWER CREDIT SCORE AT ORIGINATION\n",
    "mbs[ ((pd.isnull(mbs['ORIGINAL DEBT TO INCOME RATIO'])) | (pd.isnull(mbs['BORROWER CREDIT SCORE AT ORIGINATION']))) & \n",
    "        (mbs['DEFAULT STATUS']==1)]"
   ]
  },
  {
   "cell_type": "markdown",
   "metadata": {},
   "source": [
    "####  As only 6 rows have default status as '1'  we will delete all the rows where in ORIGINAL DEBT TO INCOME RATIO or BORROWER CREDIT SCORE AT ORIGINATION is null."
   ]
  },
  {
   "cell_type": "code",
   "execution_count": 9,
   "metadata": {},
   "outputs": [],
   "source": [
    "mbs1=mbs[mbs['BORROWER CREDIT SCORE AT ORIGINATION'].notnull()]"
   ]
  },
  {
   "cell_type": "code",
   "execution_count": 10,
   "metadata": {},
   "outputs": [],
   "source": [
    "mbs2=mbs1[mbs1['ORIGINAL DEBT TO INCOME RATIO'].notnull()]"
   ]
  },
  {
   "cell_type": "code",
   "execution_count": 11,
   "metadata": {},
   "outputs": [
    {
     "data": {
      "text/plain": [
       "LOAN IDENTIFIER                                  0\n",
       "ORIGINATION CHANNEL                              0\n",
       "SELLER NAME                                      0\n",
       "ORIGINAL INTEREST RATE                           0\n",
       "ORIGINAL UPB                                     0\n",
       "ORIGINAL LOAN TERM                               0\n",
       "ORIGINATION DATE                                 0\n",
       "FIRST PAYMENT DATE                               0\n",
       "ORIGINAL LOAN-TO-VALUE (LTV)                     0\n",
       "ORIGINAL COMBINED LOAN-TO-VALUE (CLTV)           0\n",
       "NUMBER OF BORROWERS                              0\n",
       "ORIGINAL DEBT TO INCOME RATIO                    0\n",
       "BORROWER CREDIT SCORE AT ORIGINATION             0\n",
       "FIRST TIME HOME BUYER INDICATOR                  0\n",
       "LOAN PURPOSE                                     0\n",
       "PROPERTY TYPE                                    0\n",
       "NUMBER OF UNITS                                  0\n",
       "OCCUPANCY TYPE                                   0\n",
       "PROPERTY STATE                                   0\n",
       "ZIP CODE SHORT                                   0\n",
       "PRIMARY MORTGAGE INSURANCE PERCENT         1285762\n",
       "PRODUCT TYPE                                     0\n",
       "CO-BORROWER CREDIT SCORE AT ORIGINATION     953897\n",
       "MORTGAGE INSURANCE TYPE                    1285762\n",
       "RELOCATION MORTGAGE INDICATOR                    0\n",
       "CURRENT DQ STATUS                                0\n",
       "DEFAULT STATUS                                   0\n",
       "dtype: int64"
      ]
     },
     "execution_count": 11,
     "metadata": {},
     "output_type": "execute_result"
    }
   ],
   "source": [
    "mbs2.isnull().sum()"
   ]
  },
  {
   "cell_type": "markdown",
   "metadata": {},
   "source": [
    "#### Delete:\n",
    "#### 1. Uneccessary colums like and LOAN IDENTIFIER', 'ZIP CODE'.\n",
    "#### 2. Columns which have more than 50% null values like  'PRIMARY MORTGAGE INSURANCE PERCENT', 'CO-BORROWER CREDIT SCORE AT ORIGINATION', 'MORTGAGE INSURANCE TYPE'.\n",
    "#### 3. Columns 'ORIGINATION DATE','FIRST PAYMENT DATE'which have year in 99.99 percent of the records as 2017 hence no variance."
   ]
  },
  {
   "cell_type": "code",
   "execution_count": 12,
   "metadata": {},
   "outputs": [],
   "source": [
    "mbs3=mbs2.drop(['LOAN IDENTIFIER','ORIGINATION DATE','FIRST PAYMENT DATE','PRIMARY MORTGAGE INSURANCE PERCENT',\n",
    "                'CO-BORROWER CREDIT SCORE AT ORIGINATION', 'MORTGAGE INSURANCE TYPE', 'CURRENT DQ STATUS',\n",
    "                'ZIP CODE SHORT'], axis=1)"
   ]
  },
  {
   "cell_type": "code",
   "execution_count": 13,
   "metadata": {},
   "outputs": [
    {
     "data": {
      "text/plain": [
       "ORIGINATION CHANNEL                       0\n",
       "SELLER NAME                               0\n",
       "ORIGINAL INTEREST RATE                    0\n",
       "ORIGINAL UPB                              0\n",
       "ORIGINAL LOAN TERM                        0\n",
       "ORIGINAL LOAN-TO-VALUE (LTV)              0\n",
       "ORIGINAL COMBINED LOAN-TO-VALUE (CLTV)    0\n",
       "NUMBER OF BORROWERS                       0\n",
       "ORIGINAL DEBT TO INCOME RATIO             0\n",
       "BORROWER CREDIT SCORE AT ORIGINATION      0\n",
       "FIRST TIME HOME BUYER INDICATOR           0\n",
       "LOAN PURPOSE                              0\n",
       "PROPERTY TYPE                             0\n",
       "NUMBER OF UNITS                           0\n",
       "OCCUPANCY TYPE                            0\n",
       "PROPERTY STATE                            0\n",
       "PRODUCT TYPE                              0\n",
       "RELOCATION MORTGAGE INDICATOR             0\n",
       "DEFAULT STATUS                            0\n",
       "dtype: int64"
      ]
     },
     "execution_count": 13,
     "metadata": {},
     "output_type": "execute_result"
    }
   ],
   "source": [
    "mbs3.isnull().sum()"
   ]
  },
  {
   "cell_type": "code",
   "execution_count": 14,
   "metadata": {},
   "outputs": [
    {
     "data": {
      "text/html": [
       "<div>\n",
       "<style scoped>\n",
       "    .dataframe tbody tr th:only-of-type {\n",
       "        vertical-align: middle;\n",
       "    }\n",
       "\n",
       "    .dataframe tbody tr th {\n",
       "        vertical-align: top;\n",
       "    }\n",
       "\n",
       "    .dataframe thead th {\n",
       "        text-align: right;\n",
       "    }\n",
       "</style>\n",
       "<table border=\"1\" class=\"dataframe\">\n",
       "  <thead>\n",
       "    <tr style=\"text-align: right;\">\n",
       "      <th></th>\n",
       "      <th>ORIGINATION CHANNEL</th>\n",
       "      <th>SELLER NAME</th>\n",
       "      <th>ORIGINAL INTEREST RATE</th>\n",
       "      <th>ORIGINAL UPB</th>\n",
       "      <th>ORIGINAL LOAN TERM</th>\n",
       "      <th>ORIGINAL LOAN-TO-VALUE (LTV)</th>\n",
       "      <th>ORIGINAL COMBINED LOAN-TO-VALUE (CLTV)</th>\n",
       "      <th>NUMBER OF BORROWERS</th>\n",
       "      <th>ORIGINAL DEBT TO INCOME RATIO</th>\n",
       "      <th>BORROWER CREDIT SCORE AT ORIGINATION</th>\n",
       "      <th>FIRST TIME HOME BUYER INDICATOR</th>\n",
       "      <th>LOAN PURPOSE</th>\n",
       "      <th>PROPERTY TYPE</th>\n",
       "      <th>NUMBER OF UNITS</th>\n",
       "      <th>OCCUPANCY TYPE</th>\n",
       "      <th>PROPERTY STATE</th>\n",
       "      <th>PRODUCT TYPE</th>\n",
       "      <th>RELOCATION MORTGAGE INDICATOR</th>\n",
       "      <th>DEFAULT STATUS</th>\n",
       "    </tr>\n",
       "  </thead>\n",
       "  <tbody>\n",
       "    <tr>\n",
       "      <th>0</th>\n",
       "      <td>C</td>\n",
       "      <td>PMTT4</td>\n",
       "      <td>4.250</td>\n",
       "      <td>220000</td>\n",
       "      <td>360</td>\n",
       "      <td>80</td>\n",
       "      <td>80</td>\n",
       "      <td>1</td>\n",
       "      <td>32.0</td>\n",
       "      <td>735.0</td>\n",
       "      <td>N</td>\n",
       "      <td>C</td>\n",
       "      <td>SF</td>\n",
       "      <td>1</td>\n",
       "      <td>P</td>\n",
       "      <td>MD</td>\n",
       "      <td>FRM</td>\n",
       "      <td>N</td>\n",
       "      <td>0</td>\n",
       "    </tr>\n",
       "    <tr>\n",
       "      <th>1</th>\n",
       "      <td>R</td>\n",
       "      <td>OTHER</td>\n",
       "      <td>3.990</td>\n",
       "      <td>118000</td>\n",
       "      <td>360</td>\n",
       "      <td>95</td>\n",
       "      <td>95</td>\n",
       "      <td>1</td>\n",
       "      <td>36.0</td>\n",
       "      <td>763.0</td>\n",
       "      <td>N</td>\n",
       "      <td>P</td>\n",
       "      <td>SF</td>\n",
       "      <td>1</td>\n",
       "      <td>P</td>\n",
       "      <td>MI</td>\n",
       "      <td>FRM</td>\n",
       "      <td>N</td>\n",
       "      <td>0</td>\n",
       "    </tr>\n",
       "    <tr>\n",
       "      <th>2</th>\n",
       "      <td>C</td>\n",
       "      <td>OTHER</td>\n",
       "      <td>4.375</td>\n",
       "      <td>215000</td>\n",
       "      <td>360</td>\n",
       "      <td>76</td>\n",
       "      <td>76</td>\n",
       "      <td>2</td>\n",
       "      <td>32.0</td>\n",
       "      <td>761.0</td>\n",
       "      <td>N</td>\n",
       "      <td>P</td>\n",
       "      <td>PU</td>\n",
       "      <td>1</td>\n",
       "      <td>P</td>\n",
       "      <td>GA</td>\n",
       "      <td>FRM</td>\n",
       "      <td>N</td>\n",
       "      <td>0</td>\n",
       "    </tr>\n",
       "    <tr>\n",
       "      <th>3</th>\n",
       "      <td>C</td>\n",
       "      <td>OTHER</td>\n",
       "      <td>3.875</td>\n",
       "      <td>194000</td>\n",
       "      <td>240</td>\n",
       "      <td>80</td>\n",
       "      <td>80</td>\n",
       "      <td>1</td>\n",
       "      <td>28.0</td>\n",
       "      <td>761.0</td>\n",
       "      <td>N</td>\n",
       "      <td>R</td>\n",
       "      <td>SF</td>\n",
       "      <td>1</td>\n",
       "      <td>P</td>\n",
       "      <td>IN</td>\n",
       "      <td>FRM</td>\n",
       "      <td>N</td>\n",
       "      <td>0</td>\n",
       "    </tr>\n",
       "    <tr>\n",
       "      <th>4</th>\n",
       "      <td>R</td>\n",
       "      <td>OTHER</td>\n",
       "      <td>4.625</td>\n",
       "      <td>110000</td>\n",
       "      <td>360</td>\n",
       "      <td>80</td>\n",
       "      <td>80</td>\n",
       "      <td>1</td>\n",
       "      <td>32.0</td>\n",
       "      <td>771.0</td>\n",
       "      <td>N</td>\n",
       "      <td>C</td>\n",
       "      <td>SF</td>\n",
       "      <td>1</td>\n",
       "      <td>P</td>\n",
       "      <td>TX</td>\n",
       "      <td>FRM</td>\n",
       "      <td>N</td>\n",
       "      <td>0</td>\n",
       "    </tr>\n",
       "  </tbody>\n",
       "</table>\n",
       "</div>"
      ],
      "text/plain": [
       "  ORIGINATION CHANNEL SELLER NAME  ORIGINAL INTEREST RATE  ORIGINAL UPB  \\\n",
       "0                   C       PMTT4                   4.250        220000   \n",
       "1                   R       OTHER                   3.990        118000   \n",
       "2                   C       OTHER                   4.375        215000   \n",
       "3                   C       OTHER                   3.875        194000   \n",
       "4                   R       OTHER                   4.625        110000   \n",
       "\n",
       "   ORIGINAL LOAN TERM  ORIGINAL LOAN-TO-VALUE (LTV)  \\\n",
       "0                 360                            80   \n",
       "1                 360                            95   \n",
       "2                 360                            76   \n",
       "3                 240                            80   \n",
       "4                 360                            80   \n",
       "\n",
       "   ORIGINAL COMBINED LOAN-TO-VALUE (CLTV)  NUMBER OF BORROWERS  \\\n",
       "0                                      80                    1   \n",
       "1                                      95                    1   \n",
       "2                                      76                    2   \n",
       "3                                      80                    1   \n",
       "4                                      80                    1   \n",
       "\n",
       "   ORIGINAL DEBT TO INCOME RATIO  BORROWER CREDIT SCORE AT ORIGINATION  \\\n",
       "0                           32.0                                 735.0   \n",
       "1                           36.0                                 763.0   \n",
       "2                           32.0                                 761.0   \n",
       "3                           28.0                                 761.0   \n",
       "4                           32.0                                 771.0   \n",
       "\n",
       "  FIRST TIME HOME BUYER INDICATOR LOAN PURPOSE PROPERTY TYPE  NUMBER OF UNITS  \\\n",
       "0                               N            C            SF                1   \n",
       "1                               N            P            SF                1   \n",
       "2                               N            P            PU                1   \n",
       "3                               N            R            SF                1   \n",
       "4                               N            C            SF                1   \n",
       "\n",
       "  OCCUPANCY TYPE PROPERTY STATE PRODUCT TYPE RELOCATION MORTGAGE INDICATOR  \\\n",
       "0              P             MD          FRM                             N   \n",
       "1              P             MI          FRM                             N   \n",
       "2              P             GA          FRM                             N   \n",
       "3              P             IN          FRM                             N   \n",
       "4              P             TX          FRM                             N   \n",
       "\n",
       "   DEFAULT STATUS  \n",
       "0               0  \n",
       "1               0  \n",
       "2               0  \n",
       "3               0  \n",
       "4               0  "
      ]
     },
     "execution_count": 14,
     "metadata": {},
     "output_type": "execute_result"
    }
   ],
   "source": [
    "mbs3.head()"
   ]
  },
  {
   "cell_type": "code",
   "execution_count": 15,
   "metadata": {},
   "outputs": [
    {
     "data": {
      "text/plain": [
       "(1807092, 19)"
      ]
     },
     "execution_count": 15,
     "metadata": {},
     "output_type": "execute_result"
    }
   ],
   "source": [
    "mbs3.shape"
   ]
  },
  {
   "cell_type": "code",
   "execution_count": 16,
   "metadata": {},
   "outputs": [],
   "source": [
    "# Saving the clean data before exploration and preparation\n",
    "#mbs3.to_csv(\"C:\\\\DATASCIENCE\\\\11-DONO-PROJECT\\\\2-Jigsaw_Dono\\\\DATASTORE\\\\mbs1234.csv\", sep='\\t')"
   ]
  },
  {
   "cell_type": "markdown",
   "metadata": {},
   "source": [
    "# EXPLORATION OF DATA"
   ]
  },
  {
   "cell_type": "code",
   "execution_count": 17,
   "metadata": {},
   "outputs": [
    {
     "data": {
      "image/png": "[encoded data removed]",
      "text/plain": [
       "<Figure size 1440x720 with 25 Axes>"
      ]
     },
     "metadata": {
      "needs_background": "light"
     },
     "output_type": "display_data"
    }
   ],
   "source": [
    "# To check for outliers\n",
    "mbs3.plot(kind='box',color='Red',subplots=True,layout=(5,5),sharex=False,figsize=(20,10))\n",
    "mpl.tight_layout()\n",
    "mpl.show()"
   ]
  },
  {
   "cell_type": "code",
   "execution_count": 18,
   "metadata": {},
   "outputs": [
    {
     "data": {
      "text/html": [
       "<div>\n",
       "<style scoped>\n",
       "    .dataframe tbody tr th:only-of-type {\n",
       "        vertical-align: middle;\n",
       "    }\n",
       "\n",
       "    .dataframe tbody tr th {\n",
       "        vertical-align: top;\n",
       "    }\n",
       "\n",
       "    .dataframe thead th {\n",
       "        text-align: right;\n",
       "    }\n",
       "</style>\n",
       "<table border=\"1\" class=\"dataframe\">\n",
       "  <thead>\n",
       "    <tr style=\"text-align: right;\">\n",
       "      <th></th>\n",
       "      <th>ORIGINAL INTEREST RATE</th>\n",
       "      <th>ORIGINAL UPB</th>\n",
       "      <th>ORIGINAL LOAN TERM</th>\n",
       "      <th>ORIGINAL LOAN-TO-VALUE (LTV)</th>\n",
       "      <th>ORIGINAL COMBINED LOAN-TO-VALUE (CLTV)</th>\n",
       "      <th>NUMBER OF BORROWERS</th>\n",
       "      <th>ORIGINAL DEBT TO INCOME RATIO</th>\n",
       "      <th>BORROWER CREDIT SCORE AT ORIGINATION</th>\n",
       "      <th>NUMBER OF UNITS</th>\n",
       "      <th>DEFAULT STATUS</th>\n",
       "    </tr>\n",
       "  </thead>\n",
       "  <tbody>\n",
       "    <tr>\n",
       "      <th>count</th>\n",
       "      <td>1.807092e+06</td>\n",
       "      <td>1.807092e+06</td>\n",
       "      <td>1.807092e+06</td>\n",
       "      <td>1.807092e+06</td>\n",
       "      <td>1.807092e+06</td>\n",
       "      <td>1.807092e+06</td>\n",
       "      <td>1.807092e+06</td>\n",
       "      <td>1.807092e+06</td>\n",
       "      <td>1.807092e+06</td>\n",
       "      <td>1.807092e+06</td>\n",
       "    </tr>\n",
       "    <tr>\n",
       "      <th>mean</th>\n",
       "      <td>4.119605e+00</td>\n",
       "      <td>2.264296e+05</td>\n",
       "      <td>3.197559e+02</td>\n",
       "      <td>7.449280e+01</td>\n",
       "      <td>7.501685e+01</td>\n",
       "      <td>1.482993e+00</td>\n",
       "      <td>3.451322e+01</td>\n",
       "      <td>7.502840e+02</td>\n",
       "      <td>1.030270e+00</td>\n",
       "      <td>4.691515e-03</td>\n",
       "    </tr>\n",
       "    <tr>\n",
       "      <th>std</th>\n",
       "      <td>4.949356e-01</td>\n",
       "      <td>1.184483e+05</td>\n",
       "      <td>7.383471e+01</td>\n",
       "      <td>1.727029e+01</td>\n",
       "      <td>1.738825e+01</td>\n",
       "      <td>5.217714e-01</td>\n",
       "      <td>9.152231e+00</td>\n",
       "      <td>4.729445e+01</td>\n",
       "      <td>2.321686e-01</td>\n",
       "      <td>6.833380e-02</td>\n",
       "    </tr>\n",
       "    <tr>\n",
       "      <th>min</th>\n",
       "      <td>1.790000e+00</td>\n",
       "      <td>8.000000e+03</td>\n",
       "      <td>3.600000e+01</td>\n",
       "      <td>2.000000e+00</td>\n",
       "      <td>2.000000e+00</td>\n",
       "      <td>1.000000e+00</td>\n",
       "      <td>1.000000e+00</td>\n",
       "      <td>4.450000e+02</td>\n",
       "      <td>1.000000e+00</td>\n",
       "      <td>0.000000e+00</td>\n",
       "    </tr>\n",
       "    <tr>\n",
       "      <th>25%</th>\n",
       "      <td>3.875000e+00</td>\n",
       "      <td>1.350000e+05</td>\n",
       "      <td>3.600000e+02</td>\n",
       "      <td>6.600000e+01</td>\n",
       "      <td>6.600000e+01</td>\n",
       "      <td>1.000000e+00</td>\n",
       "      <td>2.800000e+01</td>\n",
       "      <td>7.170000e+02</td>\n",
       "      <td>1.000000e+00</td>\n",
       "      <td>0.000000e+00</td>\n",
       "    </tr>\n",
       "    <tr>\n",
       "      <th>50%</th>\n",
       "      <td>4.125000e+00</td>\n",
       "      <td>2.040000e+05</td>\n",
       "      <td>3.600000e+02</td>\n",
       "      <td>8.000000e+01</td>\n",
       "      <td>8.000000e+01</td>\n",
       "      <td>1.000000e+00</td>\n",
       "      <td>3.600000e+01</td>\n",
       "      <td>7.600000e+02</td>\n",
       "      <td>1.000000e+00</td>\n",
       "      <td>0.000000e+00</td>\n",
       "    </tr>\n",
       "    <tr>\n",
       "      <th>75%</th>\n",
       "      <td>4.375000e+00</td>\n",
       "      <td>3.000000e+05</td>\n",
       "      <td>3.600000e+02</td>\n",
       "      <td>8.800000e+01</td>\n",
       "      <td>9.000000e+01</td>\n",
       "      <td>2.000000e+00</td>\n",
       "      <td>4.200000e+01</td>\n",
       "      <td>7.900000e+02</td>\n",
       "      <td>1.000000e+00</td>\n",
       "      <td>0.000000e+00</td>\n",
       "    </tr>\n",
       "    <tr>\n",
       "      <th>max</th>\n",
       "      <td>6.125000e+00</td>\n",
       "      <td>1.223000e+06</td>\n",
       "      <td>3.600000e+02</td>\n",
       "      <td>9.700000e+01</td>\n",
       "      <td>1.140000e+02</td>\n",
       "      <td>6.000000e+00</td>\n",
       "      <td>5.100000e+01</td>\n",
       "      <td>8.500000e+02</td>\n",
       "      <td>4.000000e+00</td>\n",
       "      <td>1.000000e+00</td>\n",
       "    </tr>\n",
       "  </tbody>\n",
       "</table>\n",
       "</div>"
      ],
      "text/plain": [
       "       ORIGINAL INTEREST RATE  ORIGINAL UPB  ORIGINAL LOAN TERM  \\\n",
       "count            1.807092e+06  1.807092e+06        1.807092e+06   \n",
       "mean             4.119605e+00  2.264296e+05        3.197559e+02   \n",
       "std              4.949356e-01  1.184483e+05        7.383471e+01   \n",
       "min              1.790000e+00  8.000000e+03        3.600000e+01   \n",
       "25%              3.875000e+00  1.350000e+05        3.600000e+02   \n",
       "50%              4.125000e+00  2.040000e+05        3.600000e+02   \n",
       "75%              4.375000e+00  3.000000e+05        3.600000e+02   \n",
       "max              6.125000e+00  1.223000e+06        3.600000e+02   \n",
       "\n",
       "       ORIGINAL LOAN-TO-VALUE (LTV)  ORIGINAL COMBINED LOAN-TO-VALUE (CLTV)  \\\n",
       "count                  1.807092e+06                            1.807092e+06   \n",
       "mean                   7.449280e+01                            7.501685e+01   \n",
       "std                    1.727029e+01                            1.738825e+01   \n",
       "min                    2.000000e+00                            2.000000e+00   \n",
       "25%                    6.600000e+01                            6.600000e+01   \n",
       "50%                    8.000000e+01                            8.000000e+01   \n",
       "75%                    8.800000e+01                            9.000000e+01   \n",
       "max                    9.700000e+01                            1.140000e+02   \n",
       "\n",
       "       NUMBER OF BORROWERS  ORIGINAL DEBT TO INCOME RATIO  \\\n",
       "count         1.807092e+06                   1.807092e+06   \n",
       "mean          1.482993e+00                   3.451322e+01   \n",
       "std           5.217714e-01                   9.152231e+00   \n",
       "min           1.000000e+00                   1.000000e+00   \n",
       "25%           1.000000e+00                   2.800000e+01   \n",
       "50%           1.000000e+00                   3.600000e+01   \n",
       "75%           2.000000e+00                   4.200000e+01   \n",
       "max           6.000000e+00                   5.100000e+01   \n",
       "\n",
       "       BORROWER CREDIT SCORE AT ORIGINATION  NUMBER OF UNITS  DEFAULT STATUS  \n",
       "count                          1.807092e+06     1.807092e+06    1.807092e+06  \n",
       "mean                           7.502840e+02     1.030270e+00    4.691515e-03  \n",
       "std                            4.729445e+01     2.321686e-01    6.833380e-02  \n",
       "min                            4.450000e+02     1.000000e+00    0.000000e+00  \n",
       "25%                            7.170000e+02     1.000000e+00    0.000000e+00  \n",
       "50%                            7.600000e+02     1.000000e+00    0.000000e+00  \n",
       "75%                            7.900000e+02     1.000000e+00    0.000000e+00  \n",
       "max                            8.500000e+02     4.000000e+00    1.000000e+00  "
      ]
     },
     "execution_count": 18,
     "metadata": {},
     "output_type": "execute_result"
    }
   ],
   "source": [
    "mbs3.describe()"
   ]
  },
  {
   "cell_type": "markdown",
   "metadata": {},
   "source": [
    "#### Though box plotting shows outliers in certain variables, all the values are within the permissable range and hence no outliertreatment is being done."
   ]
  },
  {
   "cell_type": "code",
   "execution_count": 19,
   "metadata": {},
   "outputs": [
    {
     "data": {
      "text/plain": [
       "Index(['ORIGINATION CHANNEL', 'SELLER NAME', 'ORIGINAL INTEREST RATE',\n",
       "       'ORIGINAL UPB', 'ORIGINAL LOAN TERM', 'ORIGINAL LOAN-TO-VALUE (LTV)',\n",
       "       'ORIGINAL COMBINED LOAN-TO-VALUE (CLTV)', 'NUMBER OF BORROWERS',\n",
       "       'ORIGINAL DEBT TO INCOME RATIO', 'BORROWER CREDIT SCORE AT ORIGINATION',\n",
       "       'FIRST TIME HOME BUYER INDICATOR', 'LOAN PURPOSE', 'PROPERTY TYPE',\n",
       "       'NUMBER OF UNITS', 'OCCUPANCY TYPE', 'PROPERTY STATE', 'PRODUCT TYPE',\n",
       "       'RELOCATION MORTGAGE INDICATOR', 'DEFAULT STATUS'],\n",
       "      dtype='object')"
      ]
     },
     "execution_count": 19,
     "metadata": {},
     "output_type": "execute_result"
    }
   ],
   "source": [
    "mbs3.columns"
   ]
  },
  {
   "cell_type": "code",
   "execution_count": 20,
   "metadata": {},
   "outputs": [],
   "source": [
    "#sns.pairplot(mbs3, hue='DEFAULT STATUS')"
   ]
  },
  {
   "cell_type": "markdown",
   "metadata": {},
   "source": [
    "# Exploratory Data Analysis by Data Visualization"
   ]
  },
  {
   "cell_type": "markdown",
   "metadata": {},
   "source": [
    "#### To check if any of the variables are correlated"
   ]
  },
  {
   "cell_type": "code",
   "execution_count": 21,
   "metadata": {},
   "outputs": [],
   "source": [
    "temp=mbs3[['ORIGINAL INTEREST RATE', 'ORIGINAL UPB', 'ORIGINAL LOAN-TO-VALUE (LTV)', 'ORIGINAL COMBINED LOAN-TO-VALUE (CLTV)',\n",
    "       'ORIGINAL DEBT TO INCOME RATIO', 'BORROWER CREDIT SCORE AT ORIGINATION']]"
   ]
  },
  {
   "cell_type": "code",
   "execution_count": 22,
   "metadata": {},
   "outputs": [
    {
     "data": {
      "text/plain": [
       "<matplotlib.axes._subplots.AxesSubplot at 0x28a80db92e8>"
      ]
     },
     "execution_count": 22,
     "metadata": {},
     "output_type": "execute_result"
    },
    {
     "data": {
      "image/png": "[encoded data removed]",
      "text/plain": [
       "<Figure size 720x720 with 2 Axes>"
      ]
     },
     "metadata": {
      "needs_background": "light"
     },
     "output_type": "display_data"
    }
   ],
   "source": [
    "fig, ax = mpl.subplots(figsize=(10,10))\n",
    "sns.heatmap(temp.corr(),annot=True,ax=ax,xticklabels=temp.columns, yticklabels=temp.columns)"
   ]
  },
  {
   "cell_type": "markdown",
   "metadata": {},
   "source": [
    "#### As there is very strong correlation (0.98) between 'LOAN-TO-VALUE (LTV)''ORIGINAL COMBINED LOAN-TO-VALUE (CLTV)' we will drop the variable  'ORIGINAL COMBINED LOAN-TO-VALUE (CLTV)'. "
   ]
  },
  {
   "cell_type": "code",
   "execution_count": 23,
   "metadata": {},
   "outputs": [],
   "source": [
    "mbs3=mbs3.drop(['ORIGINAL COMBINED LOAN-TO-VALUE (CLTV)'], axis=1)"
   ]
  },
  {
   "cell_type": "code",
   "execution_count": 24,
   "metadata": {},
   "outputs": [
    {
     "data": {
      "text/plain": [
       "DEFAULT STATUS\n",
       "0    1798614\n",
       "1       8478\n",
       "dtype: int64"
      ]
     },
     "execution_count": 24,
     "metadata": {},
     "output_type": "execute_result"
    }
   ],
   "source": [
    "# Check the class distributions - '1: Defaulter', ' 0- Non Defaulter'\n",
    "mbs3.groupby(['DEFAULT STATUS']).size()"
   ]
  },
  {
   "cell_type": "code",
   "execution_count": 25,
   "metadata": {},
   "outputs": [
    {
     "name": "stdout",
     "output_type": "stream",
     "text": [
      "                Percentage\n",
      "DEFAULT STATUS            \n",
      "0                 0.995308\n",
      "1                 0.004692\n"
     ]
    }
   ],
   "source": [
    "print (pd.DataFrame({'Percentage': mbs3.groupby('DEFAULT STATUS').size() / len(mbs3)}))"
   ]
  },
  {
   "cell_type": "code",
   "execution_count": 26,
   "metadata": {},
   "outputs": [
    {
     "data": {
      "text/plain": [
       "<matplotlib.axes._subplots.AxesSubplot at 0x28a80d23630>"
      ]
     },
     "execution_count": 26,
     "metadata": {},
     "output_type": "execute_result"
    },
    {
     "data": {
      "image/png": "[encoded data removed]",
      "text/plain": [
       "<Figure size 432x288 with 1 Axes>"
      ]
     },
     "metadata": {
      "needs_background": "light"
     },
     "output_type": "display_data"
    }
   ],
   "source": [
    "sns.countplot(\"DEFAULT STATUS\",data=mbs3)"
   ]
  },
  {
   "cell_type": "markdown",
   "metadata": {},
   "source": [
    "### This is an imbalanced data as the percentage of defaulters if only 0.47%. Hence we will be using the Undersampling and Oversampling techniques before running the ML models."
   ]
  },
  {
   "cell_type": "code",
   "execution_count": 27,
   "metadata": {},
   "outputs": [
    {
     "data": {
      "text/plain": [
       "array([<matplotlib.axes._subplots.AxesSubplot object at 0x0000028A88053438>,\n",
       "       <matplotlib.axes._subplots.AxesSubplot object at 0x0000028A88083C18>],\n",
       "      dtype=object)"
      ]
     },
     "execution_count": 27,
     "metadata": {},
     "output_type": "execute_result"
    },
    {
     "data": {
      "image/png": "[encoded data removed]",
      "text/plain": [
       "<Figure size 864x432 with 2 Axes>"
      ]
     },
     "metadata": {
      "needs_background": "light"
     },
     "output_type": "display_data"
    }
   ],
   "source": [
    "# BORROWER CREDIT SCORE AT ORIGINATION\n",
    "mbs3['BORROWER CREDIT SCORE AT ORIGINATION'].hist(by=mbs3['DEFAULT STATUS'], figsize=(12,6))"
   ]
  },
  {
   "cell_type": "code",
   "execution_count": 28,
   "metadata": {},
   "outputs": [
    {
     "data": {
      "text/plain": [
       "<matplotlib.axes._subplots.AxesSubplot at 0x28a880b5278>"
      ]
     },
     "execution_count": 28,
     "metadata": {},
     "output_type": "execute_result"
    },
    {
     "data": {
      "image/png": "[encoded data removed]",
      "text/plain": [
       "<Figure size 432x288 with 1 Axes>"
      ]
     },
     "metadata": {
      "needs_background": "light"
     },
     "output_type": "display_data"
    }
   ],
   "source": [
    "sns.boxplot(x=\"DEFAULT STATUS\", y=\"BORROWER CREDIT SCORE AT ORIGINATION\", data=mbs3, palette=\"Set1\")"
   ]
  },
  {
   "cell_type": "markdown",
   "metadata": {},
   "source": [
    "#### BORROWER CREDIT SCORE AT ORIGINATION seems to be significant predictor and inversley related. The averaged credit score of non defaulters is higher compared to defaulters."
   ]
  },
  {
   "cell_type": "code",
   "execution_count": 29,
   "metadata": {},
   "outputs": [
    {
     "data": {
      "text/plain": [
       "array([<matplotlib.axes._subplots.AxesSubplot object at 0x0000028A80C0D908>,\n",
       "       <matplotlib.axes._subplots.AxesSubplot object at 0x0000028A80C39278>],\n",
       "      dtype=object)"
      ]
     },
     "execution_count": 29,
     "metadata": {},
     "output_type": "execute_result"
    },
    {
     "data": {
      "image/png": "[encoded data removed]",
      "text/plain": [
       "<Figure size 1152x288 with 2 Axes>"
      ]
     },
     "metadata": {
      "needs_background": "light"
     },
     "output_type": "display_data"
    }
   ],
   "source": [
    "# ORIGINAL UPB\n",
    "mbs3['ORIGINAL UPB'].hist(by=mbs3['DEFAULT STATUS'], figsize=(16,4))"
   ]
  },
  {
   "cell_type": "code",
   "execution_count": 30,
   "metadata": {},
   "outputs": [
    {
     "data": {
      "text/plain": [
       "<matplotlib.axes._subplots.AxesSubplot at 0x28a8019e908>"
      ]
     },
     "execution_count": 30,
     "metadata": {},
     "output_type": "execute_result"
    },
    {
     "data": {
      "image/png": "[encoded data removed]",
      "text/plain": [
       "<Figure size 432x288 with 1 Axes>"
      ]
     },
     "metadata": {
      "needs_background": "light"
     },
     "output_type": "display_data"
    }
   ],
   "source": [
    "sns.boxplot(x=\"DEFAULT STATUS\", y=\"ORIGINAL UPB\", data=mbs3, palette=\"Set1\")"
   ]
  },
  {
   "cell_type": "markdown",
   "metadata": {},
   "source": [
    "#### ORIGINAL UPB seems to be significant predictor. "
   ]
  },
  {
   "cell_type": "code",
   "execution_count": 31,
   "metadata": {},
   "outputs": [
    {
     "data": {
      "text/plain": [
       "array([<matplotlib.axes._subplots.AxesSubplot object at 0x0000028A8047B080>,\n",
       "       <matplotlib.axes._subplots.AxesSubplot object at 0x0000028A804419B0>],\n",
       "      dtype=object)"
      ]
     },
     "execution_count": 31,
     "metadata": {},
     "output_type": "execute_result"
    },
    {
     "data": {
      "image/png": "[encoded data removed]",
      "text/plain": [
       "<Figure size 1152x288 with 2 Axes>"
      ]
     },
     "metadata": {
      "needs_background": "light"
     },
     "output_type": "display_data"
    }
   ],
   "source": [
    "# ORIGINAL LOAN TO VALUE\n",
    "mbs3['ORIGINAL LOAN-TO-VALUE (LTV)'].hist(by=mbs3['DEFAULT STATUS'], figsize=(16,4))"
   ]
  },
  {
   "cell_type": "code",
   "execution_count": 32,
   "metadata": {},
   "outputs": [
    {
     "data": {
      "text/plain": [
       "<matplotlib.axes._subplots.AxesSubplot at 0x28a80496710>"
      ]
     },
     "execution_count": 32,
     "metadata": {},
     "output_type": "execute_result"
    },
    {
     "data": {
      "image/png": "[encoded data removed]",
      "text/plain": [
       "<Figure size 432x288 with 1 Axes>"
      ]
     },
     "metadata": {
      "needs_background": "light"
     },
     "output_type": "display_data"
    }
   ],
   "source": [
    "sns.boxplot(x=\"DEFAULT STATUS\", y=\"ORIGINAL LOAN-TO-VALUE (LTV)\", data=mbs3, palette=\"Set1\")"
   ]
  },
  {
   "cell_type": "markdown",
   "metadata": {},
   "source": [
    "#### ORIGINAL LOAN TO VALUE seems to be significant predictor. More defaulters seem to be in higher LTV ratio."
   ]
  },
  {
   "cell_type": "code",
   "execution_count": 33,
   "metadata": {},
   "outputs": [
    {
     "data": {
      "text/plain": [
       "array([<matplotlib.axes._subplots.AxesSubplot object at 0x0000028A801A7DA0>,\n",
       "       <matplotlib.axes._subplots.AxesSubplot object at 0x0000028A80198DD8>],\n",
       "      dtype=object)"
      ]
     },
     "execution_count": 33,
     "metadata": {},
     "output_type": "execute_result"
    },
    {
     "data": {
      "image/png": "[encoded data removed]",
      "text/plain": [
       "<Figure size 864x432 with 2 Axes>"
      ]
     },
     "metadata": {
      "needs_background": "light"
     },
     "output_type": "display_data"
    }
   ],
   "source": [
    "# DEBT TO INCOME RATIO\n",
    "mbs3['ORIGINAL DEBT TO INCOME RATIO'].hist(by=mbs3['DEFAULT STATUS'], figsize=(12,6))"
   ]
  },
  {
   "cell_type": "code",
   "execution_count": 34,
   "metadata": {},
   "outputs": [
    {
     "data": {
      "text/plain": [
       "<matplotlib.axes._subplots.AxesSubplot at 0x28a80b1acf8>"
      ]
     },
     "execution_count": 34,
     "metadata": {},
     "output_type": "execute_result"
    },
    {
     "data": {
      "image/png": "[encoded data removed]",
      "text/plain": [
       "<Figure size 432x288 with 1 Axes>"
      ]
     },
     "metadata": {
      "needs_background": "light"
     },
     "output_type": "display_data"
    }
   ],
   "source": [
    "sns.boxplot(x=\"DEFAULT STATUS\", y=\"ORIGINAL DEBT TO INCOME RATIO\", data=mbs3, palette=\"Set1\")"
   ]
  },
  {
   "cell_type": "markdown",
   "metadata": {},
   "source": [
    "#### ORIGINAL DEBT TO INCOME RATIO seems to be significant predictor. More defaulters seem to be in higher ratios."
   ]
  },
  {
   "cell_type": "code",
   "execution_count": 35,
   "metadata": {},
   "outputs": [
    {
     "data": {
      "text/plain": [
       "array([<matplotlib.axes._subplots.AxesSubplot object at 0x0000028A803E4208>,\n",
       "       <matplotlib.axes._subplots.AxesSubplot object at 0x0000028A802FD198>],\n",
       "      dtype=object)"
      ]
     },
     "execution_count": 35,
     "metadata": {},
     "output_type": "execute_result"
    },
    {
     "data": {
      "image/png": "[encoded data removed]",
      "text/plain": [
       "<Figure size 864x432 with 2 Axes>"
      ]
     },
     "metadata": {
      "needs_background": "light"
     },
     "output_type": "display_data"
    }
   ],
   "source": [
    "# ORIGINAL INTEREST RATE\n",
    "mbs3['ORIGINAL INTEREST RATE'].hist(by=mbs3['DEFAULT STATUS'], figsize=(12,6))"
   ]
  },
  {
   "cell_type": "code",
   "execution_count": 36,
   "metadata": {},
   "outputs": [
    {
     "data": {
      "text/plain": [
       "<matplotlib.axes._subplots.AxesSubplot at 0x28ad47d8ef0>"
      ]
     },
     "execution_count": 36,
     "metadata": {},
     "output_type": "execute_result"
    },
    {
     "data": {
      "image/png": "[encoded data removed]",
      "text/plain": [
       "<Figure size 432x288 with 1 Axes>"
      ]
     },
     "metadata": {
      "needs_background": "light"
     },
     "output_type": "display_data"
    }
   ],
   "source": [
    "sns.boxplot(x=\"DEFAULT STATUS\", y=\"ORIGINAL INTEREST RATE\", data=mbs3, palette=\"Set1\")"
   ]
  },
  {
   "cell_type": "markdown",
   "metadata": {},
   "source": [
    "#### ORIGINAL INTEREST RATE seems to be significant predictor. More defaulters seem to be in higher interest rate."
   ]
  },
  {
   "cell_type": "code",
   "execution_count": 37,
   "metadata": {},
   "outputs": [
    {
     "data": {
      "text/plain": [
       "array([[<matplotlib.axes._subplots.AxesSubplot object at 0x0000028A8021CF60>,\n",
       "        <matplotlib.axes._subplots.AxesSubplot object at 0x0000028A8026F240>],\n",
       "       [<matplotlib.axes._subplots.AxesSubplot object at 0x0000028A802966A0>,\n",
       "        <matplotlib.axes._subplots.AxesSubplot object at 0x0000028A802BDC18>]],\n",
       "      dtype=object)"
      ]
     },
     "execution_count": 37,
     "metadata": {},
     "output_type": "execute_result"
    },
    {
     "data": {
      "image/png": "[encoded data removed]",
      "text/plain": [
       "<Figure size 864x432 with 4 Axes>"
      ]
     },
     "metadata": {
      "needs_background": "light"
     },
     "output_type": "display_data"
    }
   ],
   "source": [
    "# ORIGINATION CHANNEL\n",
    "ag=mbs3.groupby(['ORIGINATION CHANNEL', 'DEFAULT STATUS']).size()\n",
    "ag.unstack().plot(kind='bar', subplots=True, layout=(2,2), figsize=(12,6))"
   ]
  },
  {
   "cell_type": "markdown",
   "metadata": {},
   "source": [
    "#### ORIGINATION CHANNEL doesnt seem very significant."
   ]
  },
  {
   "cell_type": "code",
   "execution_count": 38,
   "metadata": {},
   "outputs": [
    {
     "data": {
      "text/plain": [
       "Index(['ORIGINATION CHANNEL', 'SELLER NAME', 'ORIGINAL INTEREST RATE',\n",
       "       'ORIGINAL UPB', 'ORIGINAL LOAN TERM', 'ORIGINAL LOAN-TO-VALUE (LTV)',\n",
       "       'NUMBER OF BORROWERS', 'ORIGINAL DEBT TO INCOME RATIO',\n",
       "       'BORROWER CREDIT SCORE AT ORIGINATION',\n",
       "       'FIRST TIME HOME BUYER INDICATOR', 'LOAN PURPOSE', 'PROPERTY TYPE',\n",
       "       'NUMBER OF UNITS', 'OCCUPANCY TYPE', 'PROPERTY STATE', 'PRODUCT TYPE',\n",
       "       'RELOCATION MORTGAGE INDICATOR', 'DEFAULT STATUS'],\n",
       "      dtype='object')"
      ]
     },
     "execution_count": 38,
     "metadata": {},
     "output_type": "execute_result"
    }
   ],
   "source": [
    "mbs3.columns"
   ]
  },
  {
   "cell_type": "code",
   "execution_count": 39,
   "metadata": {},
   "outputs": [
    {
     "data": {
      "text/plain": [
       "array([[<matplotlib.axes._subplots.AxesSubplot object at 0x0000028A8038D5C0>,\n",
       "        <matplotlib.axes._subplots.AxesSubplot object at 0x0000028A809A9320>],\n",
       "       [<matplotlib.axes._subplots.AxesSubplot object at 0x0000028A809CE780>,\n",
       "        <matplotlib.axes._subplots.AxesSubplot object at 0x0000028A809F5CF8>]],\n",
       "      dtype=object)"
      ]
     },
     "execution_count": 39,
     "metadata": {},
     "output_type": "execute_result"
    },
    {
     "data": {
      "image/png": "[encoded data removed]",
      "text/plain": [
       "<Figure size 1296x720 with 4 Axes>"
      ]
     },
     "metadata": {
      "needs_background": "light"
     },
     "output_type": "display_data"
    }
   ],
   "source": [
    "# ORIGINAL LOAN TERM\n",
    "ag=mbs3.groupby(['ORIGINAL LOAN TERM', 'DEFAULT STATUS']).size()\n",
    "ag.unstack().plot(kind='bar', subplots=True, layout=(2,2), figsize=(18,10))"
   ]
  },
  {
   "cell_type": "markdown",
   "metadata": {},
   "source": [
    "#### "
   ]
  },
  {
   "cell_type": "code",
   "execution_count": 40,
   "metadata": {},
   "outputs": [
    {
     "data": {
      "text/plain": [
       "array([[<matplotlib.axes._subplots.AxesSubplot object at 0x0000028A88918828>,\n",
       "        <matplotlib.axes._subplots.AxesSubplot object at 0x0000028A88897D68>],\n",
       "       [<matplotlib.axes._subplots.AxesSubplot object at 0x0000028A89706BE0>,\n",
       "        <matplotlib.axes._subplots.AxesSubplot object at 0x0000028A8971C198>]],\n",
       "      dtype=object)"
      ]
     },
     "execution_count": 40,
     "metadata": {},
     "output_type": "execute_result"
    },
    {
     "data": {
      "image/png": "[encoded data removed]",
      "text/plain": [
       "<Figure size 1296x720 with 4 Axes>"
      ]
     },
     "metadata": {
      "needs_background": "light"
     },
     "output_type": "display_data"
    }
   ],
   "source": [
    "# SELLER NAME\n",
    "ag=mbs3.groupby(['SELLER NAME', 'DEFAULT STATUS']).size()\n",
    "ag.unstack().plot(kind='bar', subplots=True, layout=(2,2), figsize=(18,10))"
   ]
  },
  {
   "cell_type": "markdown",
   "metadata": {},
   "source": [
    "#### SELLER NAME seem to be significant predictor."
   ]
  },
  {
   "cell_type": "code",
   "execution_count": 41,
   "metadata": {},
   "outputs": [
    {
     "data": {
      "text/plain": [
       "array([[<matplotlib.axes._subplots.AxesSubplot object at 0x0000028A892FA6D8>,\n",
       "        <matplotlib.axes._subplots.AxesSubplot object at 0x0000028A8933E320>],\n",
       "       [<matplotlib.axes._subplots.AxesSubplot object at 0x0000028A89363780>,\n",
       "        <matplotlib.axes._subplots.AxesSubplot object at 0x0000028A8938ACF8>]],\n",
       "      dtype=object)"
      ]
     },
     "execution_count": 41,
     "metadata": {},
     "output_type": "execute_result"
    },
    {
     "data": {
      "image/png": "[encoded data removed]",
      "text/plain": [
       "<Figure size 1152x432 with 4 Axes>"
      ]
     },
     "metadata": {
      "needs_background": "light"
     },
     "output_type": "display_data"
    }
   ],
   "source": [
    "# NUMBER OF BORROWERS\n",
    "ag=mbs3.groupby(['NUMBER OF BORROWERS', 'DEFAULT STATUS']).size()\n",
    "ag.unstack().plot(kind='bar', subplots=True, layout=(2,2), figsize=(16,6))"
   ]
  },
  {
   "cell_type": "markdown",
   "metadata": {},
   "source": [
    "#### NO OF BORROWERS seem to be significant predictor."
   ]
  },
  {
   "cell_type": "code",
   "execution_count": 42,
   "metadata": {},
   "outputs": [
    {
     "data": {
      "text/plain": [
       "array([[<matplotlib.axes._subplots.AxesSubplot object at 0x0000028A894406D8>,\n",
       "        <matplotlib.axes._subplots.AxesSubplot object at 0x0000028A8947D5C0>],\n",
       "       [<matplotlib.axes._subplots.AxesSubplot object at 0x0000028A894A3A20>,\n",
       "        <matplotlib.axes._subplots.AxesSubplot object at 0x0000028A894CAF98>]],\n",
       "      dtype=object)"
      ]
     },
     "execution_count": 42,
     "metadata": {},
     "output_type": "execute_result"
    },
    {
     "data": {
      "image/png": "[encoded data removed]",
      "text/plain": [
       "<Figure size 1152x432 with 4 Axes>"
      ]
     },
     "metadata": {
      "needs_background": "light"
     },
     "output_type": "display_data"
    }
   ],
   "source": [
    "# FIRST TIME HOME BUYER INDICATOR\n",
    "ag=mbs3.groupby(['FIRST TIME HOME BUYER INDICATOR', 'DEFAULT STATUS']).size()\n",
    "ag.unstack().plot(kind='bar', subplots=True, layout=(2,2), figsize=(16,6))"
   ]
  },
  {
   "cell_type": "markdown",
   "metadata": {},
   "source": [
    "#### FIRST TIME HOME BUYER INDICATOR seem to be significant predictor."
   ]
  },
  {
   "cell_type": "code",
   "execution_count": 43,
   "metadata": {},
   "outputs": [
    {
     "data": {
      "text/plain": [
       "array([[<matplotlib.axes._subplots.AxesSubplot object at 0x0000028A898DB630>,\n",
       "        <matplotlib.axes._subplots.AxesSubplot object at 0x0000028A89902470>],\n",
       "       [<matplotlib.axes._subplots.AxesSubplot object at 0x0000028A899288D0>,\n",
       "        <matplotlib.axes._subplots.AxesSubplot object at 0x0000028A89950E48>]],\n",
       "      dtype=object)"
      ]
     },
     "execution_count": 43,
     "metadata": {},
     "output_type": "execute_result"
    },
    {
     "data": {
      "image/png": "[encoded data removed]",
      "text/plain": [
       "<Figure size 1152x432 with 4 Axes>"
      ]
     },
     "metadata": {
      "needs_background": "light"
     },
     "output_type": "display_data"
    }
   ],
   "source": [
    "# LOAN PURPOSE\n",
    "ag=mbs3.groupby(['LOAN PURPOSE', 'DEFAULT STATUS']).size()\n",
    "ag.unstack().plot(kind='bar', subplots=True, layout=(2,2), figsize=(16,6))"
   ]
  },
  {
   "cell_type": "code",
   "execution_count": 44,
   "metadata": {},
   "outputs": [],
   "source": [
    "#### lOAN PURPOSE seem to be significant predictor."
   ]
  },
  {
   "cell_type": "code",
   "execution_count": 45,
   "metadata": {},
   "outputs": [
    {
     "data": {
      "text/plain": [
       "array([[<matplotlib.axes._subplots.AxesSubplot object at 0x0000028A898DB2E8>,\n",
       "        <matplotlib.axes._subplots.AxesSubplot object at 0x0000028A89C26A58>],\n",
       "       [<matplotlib.axes._subplots.AxesSubplot object at 0x0000028A89A0EEB8>,\n",
       "        <matplotlib.axes._subplots.AxesSubplot object at 0x0000028A89A3E470>]],\n",
       "      dtype=object)"
      ]
     },
     "execution_count": 45,
     "metadata": {},
     "output_type": "execute_result"
    },
    {
     "data": {
      "image/png": "[encoded data removed]",
      "text/plain": [
       "<Figure size 1152x432 with 4 Axes>"
      ]
     },
     "metadata": {
      "needs_background": "light"
     },
     "output_type": "display_data"
    }
   ],
   "source": [
    "# PROPERTY TYPE\n",
    "ag=mbs3.groupby(['PROPERTY TYPE', 'DEFAULT STATUS']).size()\n",
    "ag.unstack().plot(kind='bar', subplots=True, layout=(2,2), figsize=(16,6))"
   ]
  },
  {
   "cell_type": "markdown",
   "metadata": {},
   "source": [
    "#### PROPERTY TYPE does not seem to be significant predictor."
   ]
  },
  {
   "cell_type": "code",
   "execution_count": 46,
   "metadata": {},
   "outputs": [
    {
     "data": {
      "text/plain": [
       "array([[<matplotlib.axes._subplots.AxesSubplot object at 0x0000028A89AD2BE0>,\n",
       "        <matplotlib.axes._subplots.AxesSubplot object at 0x0000028A89B19908>],\n",
       "       [<matplotlib.axes._subplots.AxesSubplot object at 0x0000028A89B42D68>,\n",
       "        <matplotlib.axes._subplots.AxesSubplot object at 0x0000028A89B72320>]],\n",
       "      dtype=object)"
      ]
     },
     "execution_count": 46,
     "metadata": {},
     "output_type": "execute_result"
    },
    {
     "data": {
      "image/png": "[encoded data removed]",
      "text/plain": [
       "<Figure size 1152x432 with 4 Axes>"
      ]
     },
     "metadata": {
      "needs_background": "light"
     },
     "output_type": "display_data"
    }
   ],
   "source": [
    "# NUMBER OF UNITS\n",
    "ag=mbs3.groupby(['NUMBER OF UNITS', 'DEFAULT STATUS']).size()\n",
    "ag.unstack().plot(kind='bar', subplots=True, layout=(2,2), figsize=(16,6))"
   ]
  },
  {
   "cell_type": "markdown",
   "metadata": {},
   "source": [
    "#### NUMBER OF UNITS does not seem to be significant predictor."
   ]
  },
  {
   "cell_type": "code",
   "execution_count": 47,
   "metadata": {},
   "outputs": [
    {
     "data": {
      "text/plain": [
       "array([[<matplotlib.axes._subplots.AxesSubplot object at 0x0000028A89BFB4E0>,\n",
       "        <matplotlib.axes._subplots.AxesSubplot object at 0x0000028A89F95518>],\n",
       "       [<matplotlib.axes._subplots.AxesSubplot object at 0x0000028A89FBC978>,\n",
       "        <matplotlib.axes._subplots.AxesSubplot object at 0x0000028A89FE7EF0>]],\n",
       "      dtype=object)"
      ]
     },
     "execution_count": 47,
     "metadata": {},
     "output_type": "execute_result"
    },
    {
     "data": {
      "image/png": "[encoded data removed]",
      "text/plain": [
       "<Figure size 1152x432 with 4 Axes>"
      ]
     },
     "metadata": {
      "needs_background": "light"
     },
     "output_type": "display_data"
    }
   ],
   "source": [
    "# OCCUPANCY TYPE\n",
    "ag=mbs3.groupby(['OCCUPANCY TYPE', 'DEFAULT STATUS']).size()\n",
    "ag.unstack().plot(kind='bar', subplots=True, layout=(2,2), figsize=(16,6))"
   ]
  },
  {
   "cell_type": "markdown",
   "metadata": {},
   "source": [
    "#### OCCUPANCY TYPE does not seem to be significant predictor."
   ]
  },
  {
   "cell_type": "code",
   "execution_count": 48,
   "metadata": {},
   "outputs": [
    {
     "data": {
      "text/plain": [
       "array([[<matplotlib.axes._subplots.AxesSubplot object at 0x0000028A8A0898D0>],\n",
       "       [<matplotlib.axes._subplots.AxesSubplot object at 0x0000028A8A2B9860>]],\n",
       "      dtype=object)"
      ]
     },
     "execution_count": 48,
     "metadata": {},
     "output_type": "execute_result"
    },
    {
     "data": {
      "image/png": "[encoded data removed]",
      "text/plain": [
       "<Figure size 1152x720 with 2 Axes>"
      ]
     },
     "metadata": {
      "needs_background": "light"
     },
     "output_type": "display_data"
    }
   ],
   "source": [
    "# PROPERTY STATE\n",
    "ag=mbs3.groupby(['PROPERTY STATE', 'DEFAULT STATUS']).size()\n",
    "ag.unstack().plot(kind='bar', subplots=True, layout=(2,1),figsize=(16,10))"
   ]
  },
  {
   "cell_type": "markdown",
   "metadata": {},
   "source": [
    "#### PROPERTY STATE seems to be significant predictor."
   ]
  },
  {
   "cell_type": "code",
   "execution_count": 49,
   "metadata": {},
   "outputs": [
    {
     "data": {
      "text/plain": [
       "array([[<matplotlib.axes._subplots.AxesSubplot object at 0x0000028ACB18D128>,\n",
       "        <matplotlib.axes._subplots.AxesSubplot object at 0x0000028ACB1E1860>],\n",
       "       [<matplotlib.axes._subplots.AxesSubplot object at 0x0000028ACB202CC0>,\n",
       "        <matplotlib.axes._subplots.AxesSubplot object at 0x0000028A8A333278>]],\n",
       "      dtype=object)"
      ]
     },
     "execution_count": 49,
     "metadata": {},
     "output_type": "execute_result"
    },
    {
     "data": {
      "image/png": "[encoded data removed]",
      "text/plain": [
       "<Figure size 1152x432 with 4 Axes>"
      ]
     },
     "metadata": {
      "needs_background": "light"
     },
     "output_type": "display_data"
    }
   ],
   "source": [
    "# PRODUCT TYPE\n",
    "ag=mbs3.groupby(['PRODUCT TYPE', 'DEFAULT STATUS']).size()\n",
    "ag.unstack().plot(kind='bar', subplots=True, layout=(2,2), figsize=(16,6))"
   ]
  },
  {
   "cell_type": "markdown",
   "metadata": {},
   "source": [
    "#### PRODUCT TYPE is not significant predictor."
   ]
  },
  {
   "cell_type": "code",
   "execution_count": 50,
   "metadata": {},
   "outputs": [
    {
     "data": {
      "text/plain": [
       "array([[<matplotlib.axes._subplots.AxesSubplot object at 0x0000028ACB151908>,\n",
       "        <matplotlib.axes._subplots.AxesSubplot object at 0x0000028A8A3E89B0>],\n",
       "       [<matplotlib.axes._subplots.AxesSubplot object at 0x0000028A8A411E10>,\n",
       "        <matplotlib.axes._subplots.AxesSubplot object at 0x0000028A8A4413C8>]],\n",
       "      dtype=object)"
      ]
     },
     "execution_count": 50,
     "metadata": {},
     "output_type": "execute_result"
    },
    {
     "data": {
      "image/png": "[encoded data removed]",
      "text/plain": [
       "<Figure size 1152x432 with 4 Axes>"
      ]
     },
     "metadata": {
      "needs_background": "light"
     },
     "output_type": "display_data"
    }
   ],
   "source": [
    "# RELOCATION MORTGAGE INDICATOR\n",
    "ag=mbs3.groupby(['RELOCATION MORTGAGE INDICATOR', 'DEFAULT STATUS']).size()\n",
    "ag.unstack().plot(kind='bar', subplots=True, layout=(2,2), figsize=(16,6))"
   ]
  },
  {
   "cell_type": "markdown",
   "metadata": {},
   "source": [
    "#### RELOCATION MORTGAGE INDICATOR is not significant predictor."
   ]
  },
  {
   "cell_type": "code",
   "execution_count": 51,
   "metadata": {},
   "outputs": [],
   "source": [
    "# As RELOCATION MORTGAGE INDICATOR and PRODUCT TYPE have only single value categorical data we delete these coloumns\n",
    "mbs3=mbs3.drop(['RELOCATION MORTGAGE INDICATOR', 'PRODUCT TYPE'], axis=1)"
   ]
  },
  {
   "cell_type": "markdown",
   "metadata": {},
   "source": [
    "# FEATURE ENGINEERING"
   ]
  },
  {
   "cell_type": "code",
   "execution_count": 52,
   "metadata": {},
   "outputs": [],
   "source": [
    "# Creating dummies for all the categorical variables\n",
    "mbs_final = pd.get_dummies(mbs3,drop_first=True,columns=['ORIGINATION CHANNEL', 'SELLER NAME',\n",
    "       'NUMBER OF BORROWERS','FIRST TIME HOME BUYER INDICATOR', 'LOAN PURPOSE', 'PROPERTY TYPE',\n",
    "       'NUMBER OF UNITS', 'OCCUPANCY TYPE', 'PROPERTY STATE'])"
   ]
  },
  {
   "cell_type": "code",
   "execution_count": 53,
   "metadata": {},
   "outputs": [
    {
     "data": {
      "text/html": [
       "<div>\n",
       "<style scoped>\n",
       "    .dataframe tbody tr th:only-of-type {\n",
       "        vertical-align: middle;\n",
       "    }\n",
       "\n",
       "    .dataframe tbody tr th {\n",
       "        vertical-align: top;\n",
       "    }\n",
       "\n",
       "    .dataframe thead th {\n",
       "        text-align: right;\n",
       "    }\n",
       "</style>\n",
       "<table border=\"1\" class=\"dataframe\">\n",
       "  <thead>\n",
       "    <tr style=\"text-align: right;\">\n",
       "      <th></th>\n",
       "      <th>ORIGINAL INTEREST RATE</th>\n",
       "      <th>ORIGINAL UPB</th>\n",
       "      <th>ORIGINAL LOAN TERM</th>\n",
       "      <th>ORIGINAL LOAN-TO-VALUE (LTV)</th>\n",
       "      <th>ORIGINAL DEBT TO INCOME RATIO</th>\n",
       "      <th>BORROWER CREDIT SCORE AT ORIGINATION</th>\n",
       "      <th>DEFAULT STATUS</th>\n",
       "      <th>ORIGINATION CHANNEL_C</th>\n",
       "      <th>ORIGINATION CHANNEL_R</th>\n",
       "      <th>SELLER NAME_CALIBER HOME LOANS, INC.</th>\n",
       "      <th>SELLER NAME_CITIMORTGAGE, INC.</th>\n",
       "      <th>SELLER NAME_DITECH FINANCIAL LLC</th>\n",
       "      <th>SELLER NAME_FAIRWAY INDEPENDENT MORTGAGE CORPORATION</th>\n",
       "      <th>SELLER NAME_FLAGSTAR BANK, FSB</th>\n",
       "      <th>SELLER NAME_FRANKLIN AMERICAN MORTGAGE COMPANY</th>\n",
       "      <th>SELLER NAME_FREEDOM MORTGAGE CORP.</th>\n",
       "      <th>SELLER NAME_GUILD MORTGAGE COMPANY</th>\n",
       "      <th>SELLER NAME_JPMORGAN CHASE BANK, NATIONAL ASSOCIATION</th>\n",
       "      <th>SELLER NAME_LOANDEPOT.COM, LLC</th>\n",
       "      <th>SELLER NAME_MOVEMENT MORTGAGE, LLC</th>\n",
       "      <th>SELLER NAME_NATIONSTAR MORTGAGE, LLC</th>\n",
       "      <th>SELLER NAME_OTHER</th>\n",
       "      <th>SELLER NAME_PENNYMAC CORP.</th>\n",
       "      <th>SELLER NAME_PMTT4</th>\n",
       "      <th>SELLER NAME_QUICKEN LOANS INC.</th>\n",
       "      <th>SELLER NAME_SUNTRUST BANK</th>\n",
       "      <th>SELLER NAME_U.S. BANK N.A.</th>\n",
       "      <th>SELLER NAME_UNITED SHORE FINANCIAL SERVICES, LLC D/B/A UNITED WHOLESALE MORTGAGE</th>\n",
       "      <th>SELLER NAME_WELLS FARGO BANK, N.A.</th>\n",
       "      <th>NUMBER OF BORROWERS_2</th>\n",
       "      <th>NUMBER OF BORROWERS_3</th>\n",
       "      <th>NUMBER OF BORROWERS_4</th>\n",
       "      <th>NUMBER OF BORROWERS_5</th>\n",
       "      <th>NUMBER OF BORROWERS_6</th>\n",
       "      <th>FIRST TIME HOME BUYER INDICATOR_Y</th>\n",
       "      <th>LOAN PURPOSE_P</th>\n",
       "      <th>LOAN PURPOSE_R</th>\n",
       "      <th>PROPERTY TYPE_CP</th>\n",
       "      <th>PROPERTY TYPE_MH</th>\n",
       "      <th>PROPERTY TYPE_PU</th>\n",
       "      <th>PROPERTY TYPE_SF</th>\n",
       "      <th>NUMBER OF UNITS_2</th>\n",
       "      <th>NUMBER OF UNITS_3</th>\n",
       "      <th>NUMBER OF UNITS_4</th>\n",
       "      <th>OCCUPANCY TYPE_P</th>\n",
       "      <th>OCCUPANCY TYPE_S</th>\n",
       "      <th>PROPERTY STATE_AL</th>\n",
       "      <th>PROPERTY STATE_AR</th>\n",
       "      <th>PROPERTY STATE_AZ</th>\n",
       "      <th>PROPERTY STATE_CA</th>\n",
       "      <th>PROPERTY STATE_CO</th>\n",
       "      <th>PROPERTY STATE_CT</th>\n",
       "      <th>PROPERTY STATE_DC</th>\n",
       "      <th>PROPERTY STATE_DE</th>\n",
       "      <th>PROPERTY STATE_FL</th>\n",
       "      <th>PROPERTY STATE_GA</th>\n",
       "      <th>PROPERTY STATE_GU</th>\n",
       "      <th>PROPERTY STATE_HI</th>\n",
       "      <th>PROPERTY STATE_IA</th>\n",
       "      <th>PROPERTY STATE_ID</th>\n",
       "      <th>PROPERTY STATE_IL</th>\n",
       "      <th>PROPERTY STATE_IN</th>\n",
       "      <th>PROPERTY STATE_KS</th>\n",
       "      <th>PROPERTY STATE_KY</th>\n",
       "      <th>PROPERTY STATE_LA</th>\n",
       "      <th>PROPERTY STATE_MA</th>\n",
       "      <th>PROPERTY STATE_MD</th>\n",
       "      <th>PROPERTY STATE_ME</th>\n",
       "      <th>PROPERTY STATE_MI</th>\n",
       "      <th>PROPERTY STATE_MN</th>\n",
       "      <th>PROPERTY STATE_MO</th>\n",
       "      <th>PROPERTY STATE_MS</th>\n",
       "      <th>PROPERTY STATE_MT</th>\n",
       "      <th>PROPERTY STATE_NC</th>\n",
       "      <th>PROPERTY STATE_ND</th>\n",
       "      <th>PROPERTY STATE_NE</th>\n",
       "      <th>PROPERTY STATE_NH</th>\n",
       "      <th>PROPERTY STATE_NJ</th>\n",
       "      <th>PROPERTY STATE_NM</th>\n",
       "      <th>PROPERTY STATE_NV</th>\n",
       "      <th>PROPERTY STATE_NY</th>\n",
       "      <th>PROPERTY STATE_OH</th>\n",
       "      <th>PROPERTY STATE_OK</th>\n",
       "      <th>PROPERTY STATE_OR</th>\n",
       "      <th>PROPERTY STATE_PA</th>\n",
       "      <th>PROPERTY STATE_PR</th>\n",
       "      <th>PROPERTY STATE_RI</th>\n",
       "      <th>PROPERTY STATE_SC</th>\n",
       "      <th>PROPERTY STATE_SD</th>\n",
       "      <th>PROPERTY STATE_TN</th>\n",
       "      <th>PROPERTY STATE_TX</th>\n",
       "      <th>PROPERTY STATE_UT</th>\n",
       "      <th>PROPERTY STATE_VA</th>\n",
       "      <th>PROPERTY STATE_VI</th>\n",
       "      <th>PROPERTY STATE_VT</th>\n",
       "      <th>PROPERTY STATE_WA</th>\n",
       "      <th>PROPERTY STATE_WI</th>\n",
       "      <th>PROPERTY STATE_WV</th>\n",
       "      <th>PROPERTY STATE_WY</th>\n",
       "    </tr>\n",
       "  </thead>\n",
       "  <tbody>\n",
       "    <tr>\n",
       "      <th>0</th>\n",
       "      <td>4.250</td>\n",
       "      <td>220000</td>\n",
       "      <td>360</td>\n",
       "      <td>80</td>\n",
       "      <td>32.0</td>\n",
       "      <td>735.0</td>\n",
       "      <td>0</td>\n",
       "      <td>1</td>\n",
       "      <td>0</td>\n",
       "      <td>0</td>\n",
       "      <td>0</td>\n",
       "      <td>0</td>\n",
       "      <td>0</td>\n",
       "      <td>0</td>\n",
       "      <td>0</td>\n",
       "      <td>0</td>\n",
       "      <td>0</td>\n",
       "      <td>0</td>\n",
       "      <td>0</td>\n",
       "      <td>0</td>\n",
       "      <td>0</td>\n",
       "      <td>0</td>\n",
       "      <td>0</td>\n",
       "      <td>1</td>\n",
       "      <td>0</td>\n",
       "      <td>0</td>\n",
       "      <td>0</td>\n",
       "      <td>0</td>\n",
       "      <td>0</td>\n",
       "      <td>0</td>\n",
       "      <td>0</td>\n",
       "      <td>0</td>\n",
       "      <td>0</td>\n",
       "      <td>0</td>\n",
       "      <td>0</td>\n",
       "      <td>0</td>\n",
       "      <td>0</td>\n",
       "      <td>0</td>\n",
       "      <td>0</td>\n",
       "      <td>0</td>\n",
       "      <td>1</td>\n",
       "      <td>0</td>\n",
       "      <td>0</td>\n",
       "      <td>0</td>\n",
       "      <td>1</td>\n",
       "      <td>0</td>\n",
       "      <td>0</td>\n",
       "      <td>0</td>\n",
       "      <td>0</td>\n",
       "      <td>0</td>\n",
       "      <td>0</td>\n",
       "      <td>0</td>\n",
       "      <td>0</td>\n",
       "      <td>0</td>\n",
       "      <td>0</td>\n",
       "      <td>0</td>\n",
       "      <td>0</td>\n",
       "      <td>0</td>\n",
       "      <td>0</td>\n",
       "      <td>0</td>\n",
       "      <td>0</td>\n",
       "      <td>0</td>\n",
       "      <td>0</td>\n",
       "      <td>0</td>\n",
       "      <td>0</td>\n",
       "      <td>0</td>\n",
       "      <td>1</td>\n",
       "      <td>0</td>\n",
       "      <td>0</td>\n",
       "      <td>0</td>\n",
       "      <td>0</td>\n",
       "      <td>0</td>\n",
       "      <td>0</td>\n",
       "      <td>0</td>\n",
       "      <td>0</td>\n",
       "      <td>0</td>\n",
       "      <td>0</td>\n",
       "      <td>0</td>\n",
       "      <td>0</td>\n",
       "      <td>0</td>\n",
       "      <td>0</td>\n",
       "      <td>0</td>\n",
       "      <td>0</td>\n",
       "      <td>0</td>\n",
       "      <td>0</td>\n",
       "      <td>0</td>\n",
       "      <td>0</td>\n",
       "      <td>0</td>\n",
       "      <td>0</td>\n",
       "      <td>0</td>\n",
       "      <td>0</td>\n",
       "      <td>0</td>\n",
       "      <td>0</td>\n",
       "      <td>0</td>\n",
       "      <td>0</td>\n",
       "      <td>0</td>\n",
       "      <td>0</td>\n",
       "      <td>0</td>\n",
       "      <td>0</td>\n",
       "    </tr>\n",
       "    <tr>\n",
       "      <th>1</th>\n",
       "      <td>3.990</td>\n",
       "      <td>118000</td>\n",
       "      <td>360</td>\n",
       "      <td>95</td>\n",
       "      <td>36.0</td>\n",
       "      <td>763.0</td>\n",
       "      <td>0</td>\n",
       "      <td>0</td>\n",
       "      <td>1</td>\n",
       "      <td>0</td>\n",
       "      <td>0</td>\n",
       "      <td>0</td>\n",
       "      <td>0</td>\n",
       "      <td>0</td>\n",
       "      <td>0</td>\n",
       "      <td>0</td>\n",
       "      <td>0</td>\n",
       "      <td>0</td>\n",
       "      <td>0</td>\n",
       "      <td>0</td>\n",
       "      <td>0</td>\n",
       "      <td>1</td>\n",
       "      <td>0</td>\n",
       "      <td>0</td>\n",
       "      <td>0</td>\n",
       "      <td>0</td>\n",
       "      <td>0</td>\n",
       "      <td>0</td>\n",
       "      <td>0</td>\n",
       "      <td>0</td>\n",
       "      <td>0</td>\n",
       "      <td>0</td>\n",
       "      <td>0</td>\n",
       "      <td>0</td>\n",
       "      <td>0</td>\n",
       "      <td>1</td>\n",
       "      <td>0</td>\n",
       "      <td>0</td>\n",
       "      <td>0</td>\n",
       "      <td>0</td>\n",
       "      <td>1</td>\n",
       "      <td>0</td>\n",
       "      <td>0</td>\n",
       "      <td>0</td>\n",
       "      <td>1</td>\n",
       "      <td>0</td>\n",
       "      <td>0</td>\n",
       "      <td>0</td>\n",
       "      <td>0</td>\n",
       "      <td>0</td>\n",
       "      <td>0</td>\n",
       "      <td>0</td>\n",
       "      <td>0</td>\n",
       "      <td>0</td>\n",
       "      <td>0</td>\n",
       "      <td>0</td>\n",
       "      <td>0</td>\n",
       "      <td>0</td>\n",
       "      <td>0</td>\n",
       "      <td>0</td>\n",
       "      <td>0</td>\n",
       "      <td>0</td>\n",
       "      <td>0</td>\n",
       "      <td>0</td>\n",
       "      <td>0</td>\n",
       "      <td>0</td>\n",
       "      <td>0</td>\n",
       "      <td>0</td>\n",
       "      <td>1</td>\n",
       "      <td>0</td>\n",
       "      <td>0</td>\n",
       "      <td>0</td>\n",
       "      <td>0</td>\n",
       "      <td>0</td>\n",
       "      <td>0</td>\n",
       "      <td>0</td>\n",
       "      <td>0</td>\n",
       "      <td>0</td>\n",
       "      <td>0</td>\n",
       "      <td>0</td>\n",
       "      <td>0</td>\n",
       "      <td>0</td>\n",
       "      <td>0</td>\n",
       "      <td>0</td>\n",
       "      <td>0</td>\n",
       "      <td>0</td>\n",
       "      <td>0</td>\n",
       "      <td>0</td>\n",
       "      <td>0</td>\n",
       "      <td>0</td>\n",
       "      <td>0</td>\n",
       "      <td>0</td>\n",
       "      <td>0</td>\n",
       "      <td>0</td>\n",
       "      <td>0</td>\n",
       "      <td>0</td>\n",
       "      <td>0</td>\n",
       "      <td>0</td>\n",
       "      <td>0</td>\n",
       "    </tr>\n",
       "    <tr>\n",
       "      <th>2</th>\n",
       "      <td>4.375</td>\n",
       "      <td>215000</td>\n",
       "      <td>360</td>\n",
       "      <td>76</td>\n",
       "      <td>32.0</td>\n",
       "      <td>761.0</td>\n",
       "      <td>0</td>\n",
       "      <td>1</td>\n",
       "      <td>0</td>\n",
       "      <td>0</td>\n",
       "      <td>0</td>\n",
       "      <td>0</td>\n",
       "      <td>0</td>\n",
       "      <td>0</td>\n",
       "      <td>0</td>\n",
       "      <td>0</td>\n",
       "      <td>0</td>\n",
       "      <td>0</td>\n",
       "      <td>0</td>\n",
       "      <td>0</td>\n",
       "      <td>0</td>\n",
       "      <td>1</td>\n",
       "      <td>0</td>\n",
       "      <td>0</td>\n",
       "      <td>0</td>\n",
       "      <td>0</td>\n",
       "      <td>0</td>\n",
       "      <td>0</td>\n",
       "      <td>0</td>\n",
       "      <td>1</td>\n",
       "      <td>0</td>\n",
       "      <td>0</td>\n",
       "      <td>0</td>\n",
       "      <td>0</td>\n",
       "      <td>0</td>\n",
       "      <td>1</td>\n",
       "      <td>0</td>\n",
       "      <td>0</td>\n",
       "      <td>0</td>\n",
       "      <td>1</td>\n",
       "      <td>0</td>\n",
       "      <td>0</td>\n",
       "      <td>0</td>\n",
       "      <td>0</td>\n",
       "      <td>1</td>\n",
       "      <td>0</td>\n",
       "      <td>0</td>\n",
       "      <td>0</td>\n",
       "      <td>0</td>\n",
       "      <td>0</td>\n",
       "      <td>0</td>\n",
       "      <td>0</td>\n",
       "      <td>0</td>\n",
       "      <td>0</td>\n",
       "      <td>0</td>\n",
       "      <td>1</td>\n",
       "      <td>0</td>\n",
       "      <td>0</td>\n",
       "      <td>0</td>\n",
       "      <td>0</td>\n",
       "      <td>0</td>\n",
       "      <td>0</td>\n",
       "      <td>0</td>\n",
       "      <td>0</td>\n",
       "      <td>0</td>\n",
       "      <td>0</td>\n",
       "      <td>0</td>\n",
       "      <td>0</td>\n",
       "      <td>0</td>\n",
       "      <td>0</td>\n",
       "      <td>0</td>\n",
       "      <td>0</td>\n",
       "      <td>0</td>\n",
       "      <td>0</td>\n",
       "      <td>0</td>\n",
       "      <td>0</td>\n",
       "      <td>0</td>\n",
       "      <td>0</td>\n",
       "      <td>0</td>\n",
       "      <td>0</td>\n",
       "      <td>0</td>\n",
       "      <td>0</td>\n",
       "      <td>0</td>\n",
       "      <td>0</td>\n",
       "      <td>0</td>\n",
       "      <td>0</td>\n",
       "      <td>0</td>\n",
       "      <td>0</td>\n",
       "      <td>0</td>\n",
       "      <td>0</td>\n",
       "      <td>0</td>\n",
       "      <td>0</td>\n",
       "      <td>0</td>\n",
       "      <td>0</td>\n",
       "      <td>0</td>\n",
       "      <td>0</td>\n",
       "      <td>0</td>\n",
       "      <td>0</td>\n",
       "      <td>0</td>\n",
       "    </tr>\n",
       "    <tr>\n",
       "      <th>3</th>\n",
       "      <td>3.875</td>\n",
       "      <td>194000</td>\n",
       "      <td>240</td>\n",
       "      <td>80</td>\n",
       "      <td>28.0</td>\n",
       "      <td>761.0</td>\n",
       "      <td>0</td>\n",
       "      <td>1</td>\n",
       "      <td>0</td>\n",
       "      <td>0</td>\n",
       "      <td>0</td>\n",
       "      <td>0</td>\n",
       "      <td>0</td>\n",
       "      <td>0</td>\n",
       "      <td>0</td>\n",
       "      <td>0</td>\n",
       "      <td>0</td>\n",
       "      <td>0</td>\n",
       "      <td>0</td>\n",
       "      <td>0</td>\n",
       "      <td>0</td>\n",
       "      <td>1</td>\n",
       "      <td>0</td>\n",
       "      <td>0</td>\n",
       "      <td>0</td>\n",
       "      <td>0</td>\n",
       "      <td>0</td>\n",
       "      <td>0</td>\n",
       "      <td>0</td>\n",
       "      <td>0</td>\n",
       "      <td>0</td>\n",
       "      <td>0</td>\n",
       "      <td>0</td>\n",
       "      <td>0</td>\n",
       "      <td>0</td>\n",
       "      <td>0</td>\n",
       "      <td>1</td>\n",
       "      <td>0</td>\n",
       "      <td>0</td>\n",
       "      <td>0</td>\n",
       "      <td>1</td>\n",
       "      <td>0</td>\n",
       "      <td>0</td>\n",
       "      <td>0</td>\n",
       "      <td>1</td>\n",
       "      <td>0</td>\n",
       "      <td>0</td>\n",
       "      <td>0</td>\n",
       "      <td>0</td>\n",
       "      <td>0</td>\n",
       "      <td>0</td>\n",
       "      <td>0</td>\n",
       "      <td>0</td>\n",
       "      <td>0</td>\n",
       "      <td>0</td>\n",
       "      <td>0</td>\n",
       "      <td>0</td>\n",
       "      <td>0</td>\n",
       "      <td>0</td>\n",
       "      <td>0</td>\n",
       "      <td>0</td>\n",
       "      <td>1</td>\n",
       "      <td>0</td>\n",
       "      <td>0</td>\n",
       "      <td>0</td>\n",
       "      <td>0</td>\n",
       "      <td>0</td>\n",
       "      <td>0</td>\n",
       "      <td>0</td>\n",
       "      <td>0</td>\n",
       "      <td>0</td>\n",
       "      <td>0</td>\n",
       "      <td>0</td>\n",
       "      <td>0</td>\n",
       "      <td>0</td>\n",
       "      <td>0</td>\n",
       "      <td>0</td>\n",
       "      <td>0</td>\n",
       "      <td>0</td>\n",
       "      <td>0</td>\n",
       "      <td>0</td>\n",
       "      <td>0</td>\n",
       "      <td>0</td>\n",
       "      <td>0</td>\n",
       "      <td>0</td>\n",
       "      <td>0</td>\n",
       "      <td>0</td>\n",
       "      <td>0</td>\n",
       "      <td>0</td>\n",
       "      <td>0</td>\n",
       "      <td>0</td>\n",
       "      <td>0</td>\n",
       "      <td>0</td>\n",
       "      <td>0</td>\n",
       "      <td>0</td>\n",
       "      <td>0</td>\n",
       "      <td>0</td>\n",
       "      <td>0</td>\n",
       "      <td>0</td>\n",
       "    </tr>\n",
       "    <tr>\n",
       "      <th>4</th>\n",
       "      <td>4.625</td>\n",
       "      <td>110000</td>\n",
       "      <td>360</td>\n",
       "      <td>80</td>\n",
       "      <td>32.0</td>\n",
       "      <td>771.0</td>\n",
       "      <td>0</td>\n",
       "      <td>0</td>\n",
       "      <td>1</td>\n",
       "      <td>0</td>\n",
       "      <td>0</td>\n",
       "      <td>0</td>\n",
       "      <td>0</td>\n",
       "      <td>0</td>\n",
       "      <td>0</td>\n",
       "      <td>0</td>\n",
       "      <td>0</td>\n",
       "      <td>0</td>\n",
       "      <td>0</td>\n",
       "      <td>0</td>\n",
       "      <td>0</td>\n",
       "      <td>1</td>\n",
       "      <td>0</td>\n",
       "      <td>0</td>\n",
       "      <td>0</td>\n",
       "      <td>0</td>\n",
       "      <td>0</td>\n",
       "      <td>0</td>\n",
       "      <td>0</td>\n",
       "      <td>0</td>\n",
       "      <td>0</td>\n",
       "      <td>0</td>\n",
       "      <td>0</td>\n",
       "      <td>0</td>\n",
       "      <td>0</td>\n",
       "      <td>0</td>\n",
       "      <td>0</td>\n",
       "      <td>0</td>\n",
       "      <td>0</td>\n",
       "      <td>0</td>\n",
       "      <td>1</td>\n",
       "      <td>0</td>\n",
       "      <td>0</td>\n",
       "      <td>0</td>\n",
       "      <td>1</td>\n",
       "      <td>0</td>\n",
       "      <td>0</td>\n",
       "      <td>0</td>\n",
       "      <td>0</td>\n",
       "      <td>0</td>\n",
       "      <td>0</td>\n",
       "      <td>0</td>\n",
       "      <td>0</td>\n",
       "      <td>0</td>\n",
       "      <td>0</td>\n",
       "      <td>0</td>\n",
       "      <td>0</td>\n",
       "      <td>0</td>\n",
       "      <td>0</td>\n",
       "      <td>0</td>\n",
       "      <td>0</td>\n",
       "      <td>0</td>\n",
       "      <td>0</td>\n",
       "      <td>0</td>\n",
       "      <td>0</td>\n",
       "      <td>0</td>\n",
       "      <td>0</td>\n",
       "      <td>0</td>\n",
       "      <td>0</td>\n",
       "      <td>0</td>\n",
       "      <td>0</td>\n",
       "      <td>0</td>\n",
       "      <td>0</td>\n",
       "      <td>0</td>\n",
       "      <td>0</td>\n",
       "      <td>0</td>\n",
       "      <td>0</td>\n",
       "      <td>0</td>\n",
       "      <td>0</td>\n",
       "      <td>0</td>\n",
       "      <td>0</td>\n",
       "      <td>0</td>\n",
       "      <td>0</td>\n",
       "      <td>0</td>\n",
       "      <td>0</td>\n",
       "      <td>0</td>\n",
       "      <td>0</td>\n",
       "      <td>0</td>\n",
       "      <td>0</td>\n",
       "      <td>0</td>\n",
       "      <td>1</td>\n",
       "      <td>0</td>\n",
       "      <td>0</td>\n",
       "      <td>0</td>\n",
       "      <td>0</td>\n",
       "      <td>0</td>\n",
       "      <td>0</td>\n",
       "      <td>0</td>\n",
       "      <td>0</td>\n",
       "    </tr>\n",
       "  </tbody>\n",
       "</table>\n",
       "</div>"
      ],
      "text/plain": [
       "   ORIGINAL INTEREST RATE  ORIGINAL UPB  ORIGINAL LOAN TERM  \\\n",
       "0                   4.250        220000                 360   \n",
       "1                   3.990        118000                 360   \n",
       "2                   4.375        215000                 360   \n",
       "3                   3.875        194000                 240   \n",
       "4                   4.625        110000                 360   \n",
       "\n",
       "   ORIGINAL LOAN-TO-VALUE (LTV)  ORIGINAL DEBT TO INCOME RATIO  \\\n",
       "0                            80                           32.0   \n",
       "1                            95                           36.0   \n",
       "2                            76                           32.0   \n",
       "3                            80                           28.0   \n",
       "4                            80                           32.0   \n",
       "\n",
       "   BORROWER CREDIT SCORE AT ORIGINATION  DEFAULT STATUS  \\\n",
       "0                                 735.0               0   \n",
       "1                                 763.0               0   \n",
       "2                                 761.0               0   \n",
       "3                                 761.0               0   \n",
       "4                                 771.0               0   \n",
       "\n",
       "   ORIGINATION CHANNEL_C  ORIGINATION CHANNEL_R  \\\n",
       "0                      1                      0   \n",
       "1                      0                      1   \n",
       "2                      1                      0   \n",
       "3                      1                      0   \n",
       "4                      0                      1   \n",
       "\n",
       "   SELLER NAME_CALIBER HOME LOANS, INC.  SELLER NAME_CITIMORTGAGE, INC.  \\\n",
       "0                                     0                               0   \n",
       "1                                     0                               0   \n",
       "2                                     0                               0   \n",
       "3                                     0                               0   \n",
       "4                                     0                               0   \n",
       "\n",
       "   SELLER NAME_DITECH FINANCIAL LLC  \\\n",
       "0                                 0   \n",
       "1                                 0   \n",
       "2                                 0   \n",
       "3                                 0   \n",
       "4                                 0   \n",
       "\n",
       "   SELLER NAME_FAIRWAY INDEPENDENT MORTGAGE CORPORATION  \\\n",
       "0                                                  0      \n",
       "1                                                  0      \n",
       "2                                                  0      \n",
       "3                                                  0      \n",
       "4                                                  0      \n",
       "\n",
       "   SELLER NAME_FLAGSTAR BANK, FSB  \\\n",
       "0                               0   \n",
       "1                               0   \n",
       "2                               0   \n",
       "3                               0   \n",
       "4                               0   \n",
       "\n",
       "   SELLER NAME_FRANKLIN AMERICAN MORTGAGE COMPANY  \\\n",
       "0                                               0   \n",
       "1                                               0   \n",
       "2                                               0   \n",
       "3                                               0   \n",
       "4                                               0   \n",
       "\n",
       "   SELLER NAME_FREEDOM MORTGAGE CORP.  SELLER NAME_GUILD MORTGAGE COMPANY  \\\n",
       "0                                   0                                   0   \n",
       "1                                   0                                   0   \n",
       "2                                   0                                   0   \n",
       "3                                   0                                   0   \n",
       "4                                   0                                   0   \n",
       "\n",
       "   SELLER NAME_JPMORGAN CHASE BANK, NATIONAL ASSOCIATION  \\\n",
       "0                                                  0       \n",
       "1                                                  0       \n",
       "2                                                  0       \n",
       "3                                                  0       \n",
       "4                                                  0       \n",
       "\n",
       "   SELLER NAME_LOANDEPOT.COM, LLC  SELLER NAME_MOVEMENT MORTGAGE, LLC  \\\n",
       "0                               0                                   0   \n",
       "1                               0                                   0   \n",
       "2                               0                                   0   \n",
       "3                               0                                   0   \n",
       "4                               0                                   0   \n",
       "\n",
       "   SELLER NAME_NATIONSTAR MORTGAGE, LLC  SELLER NAME_OTHER  \\\n",
       "0                                     0                  0   \n",
       "1                                     0                  1   \n",
       "2                                     0                  1   \n",
       "3                                     0                  1   \n",
       "4                                     0                  1   \n",
       "\n",
       "   SELLER NAME_PENNYMAC CORP.  SELLER NAME_PMTT4  \\\n",
       "0                           0                  1   \n",
       "1                           0                  0   \n",
       "2                           0                  0   \n",
       "3                           0                  0   \n",
       "4                           0                  0   \n",
       "\n",
       "   SELLER NAME_QUICKEN LOANS INC.  SELLER NAME_SUNTRUST BANK  \\\n",
       "0                               0                          0   \n",
       "1                               0                          0   \n",
       "2                               0                          0   \n",
       "3                               0                          0   \n",
       "4                               0                          0   \n",
       "\n",
       "   SELLER NAME_U.S. BANK N.A.  \\\n",
       "0                           0   \n",
       "1                           0   \n",
       "2                           0   \n",
       "3                           0   \n",
       "4                           0   \n",
       "\n",
       "   SELLER NAME_UNITED SHORE FINANCIAL SERVICES, LLC D/B/A UNITED WHOLESALE MORTGAGE  \\\n",
       "0                                                  0                                  \n",
       "1                                                  0                                  \n",
       "2                                                  0                                  \n",
       "3                                                  0                                  \n",
       "4                                                  0                                  \n",
       "\n",
       "   SELLER NAME_WELLS FARGO BANK, N.A.  NUMBER OF BORROWERS_2  \\\n",
       "0                                   0                      0   \n",
       "1                                   0                      0   \n",
       "2                                   0                      1   \n",
       "3                                   0                      0   \n",
       "4                                   0                      0   \n",
       "\n",
       "   NUMBER OF BORROWERS_3  NUMBER OF BORROWERS_4  NUMBER OF BORROWERS_5  \\\n",
       "0                      0                      0                      0   \n",
       "1                      0                      0                      0   \n",
       "2                      0                      0                      0   \n",
       "3                      0                      0                      0   \n",
       "4                      0                      0                      0   \n",
       "\n",
       "   NUMBER OF BORROWERS_6  FIRST TIME HOME BUYER INDICATOR_Y  LOAN PURPOSE_P  \\\n",
       "0                      0                                  0               0   \n",
       "1                      0                                  0               1   \n",
       "2                      0                                  0               1   \n",
       "3                      0                                  0               0   \n",
       "4                      0                                  0               0   \n",
       "\n",
       "   LOAN PURPOSE_R  PROPERTY TYPE_CP  PROPERTY TYPE_MH  PROPERTY TYPE_PU  \\\n",
       "0               0                 0                 0                 0   \n",
       "1               0                 0                 0                 0   \n",
       "2               0                 0                 0                 1   \n",
       "3               1                 0                 0                 0   \n",
       "4               0                 0                 0                 0   \n",
       "\n",
       "   PROPERTY TYPE_SF  NUMBER OF UNITS_2  NUMBER OF UNITS_3  NUMBER OF UNITS_4  \\\n",
       "0                 1                  0                  0                  0   \n",
       "1                 1                  0                  0                  0   \n",
       "2                 0                  0                  0                  0   \n",
       "3                 1                  0                  0                  0   \n",
       "4                 1                  0                  0                  0   \n",
       "\n",
       "   OCCUPANCY TYPE_P  OCCUPANCY TYPE_S  PROPERTY STATE_AL  PROPERTY STATE_AR  \\\n",
       "0                 1                 0                  0                  0   \n",
       "1                 1                 0                  0                  0   \n",
       "2                 1                 0                  0                  0   \n",
       "3                 1                 0                  0                  0   \n",
       "4                 1                 0                  0                  0   \n",
       "\n",
       "   PROPERTY STATE_AZ  PROPERTY STATE_CA  PROPERTY STATE_CO  PROPERTY STATE_CT  \\\n",
       "0                  0                  0                  0                  0   \n",
       "1                  0                  0                  0                  0   \n",
       "2                  0                  0                  0                  0   \n",
       "3                  0                  0                  0                  0   \n",
       "4                  0                  0                  0                  0   \n",
       "\n",
       "   PROPERTY STATE_DC  PROPERTY STATE_DE  PROPERTY STATE_FL  PROPERTY STATE_GA  \\\n",
       "0                  0                  0                  0                  0   \n",
       "1                  0                  0                  0                  0   \n",
       "2                  0                  0                  0                  1   \n",
       "3                  0                  0                  0                  0   \n",
       "4                  0                  0                  0                  0   \n",
       "\n",
       "   PROPERTY STATE_GU  PROPERTY STATE_HI  PROPERTY STATE_IA  PROPERTY STATE_ID  \\\n",
       "0                  0                  0                  0                  0   \n",
       "1                  0                  0                  0                  0   \n",
       "2                  0                  0                  0                  0   \n",
       "3                  0                  0                  0                  0   \n",
       "4                  0                  0                  0                  0   \n",
       "\n",
       "   PROPERTY STATE_IL  PROPERTY STATE_IN  PROPERTY STATE_KS  PROPERTY STATE_KY  \\\n",
       "0                  0                  0                  0                  0   \n",
       "1                  0                  0                  0                  0   \n",
       "2                  0                  0                  0                  0   \n",
       "3                  0                  1                  0                  0   \n",
       "4                  0                  0                  0                  0   \n",
       "\n",
       "   PROPERTY STATE_LA  PROPERTY STATE_MA  PROPERTY STATE_MD  PROPERTY STATE_ME  \\\n",
       "0                  0                  0                  1                  0   \n",
       "1                  0                  0                  0                  0   \n",
       "2                  0                  0                  0                  0   \n",
       "3                  0                  0                  0                  0   \n",
       "4                  0                  0                  0                  0   \n",
       "\n",
       "   PROPERTY STATE_MI  PROPERTY STATE_MN  PROPERTY STATE_MO  PROPERTY STATE_MS  \\\n",
       "0                  0                  0                  0                  0   \n",
       "1                  1                  0                  0                  0   \n",
       "2                  0                  0                  0                  0   \n",
       "3                  0                  0                  0                  0   \n",
       "4                  0                  0                  0                  0   \n",
       "\n",
       "   PROPERTY STATE_MT  PROPERTY STATE_NC  PROPERTY STATE_ND  PROPERTY STATE_NE  \\\n",
       "0                  0                  0                  0                  0   \n",
       "1                  0                  0                  0                  0   \n",
       "2                  0                  0                  0                  0   \n",
       "3                  0                  0                  0                  0   \n",
       "4                  0                  0                  0                  0   \n",
       "\n",
       "   PROPERTY STATE_NH  PROPERTY STATE_NJ  PROPERTY STATE_NM  PROPERTY STATE_NV  \\\n",
       "0                  0                  0                  0                  0   \n",
       "1                  0                  0                  0                  0   \n",
       "2                  0                  0                  0                  0   \n",
       "3                  0                  0                  0                  0   \n",
       "4                  0                  0                  0                  0   \n",
       "\n",
       "   PROPERTY STATE_NY  PROPERTY STATE_OH  PROPERTY STATE_OK  PROPERTY STATE_OR  \\\n",
       "0                  0                  0                  0                  0   \n",
       "1                  0                  0                  0                  0   \n",
       "2                  0                  0                  0                  0   \n",
       "3                  0                  0                  0                  0   \n",
       "4                  0                  0                  0                  0   \n",
       "\n",
       "   PROPERTY STATE_PA  PROPERTY STATE_PR  PROPERTY STATE_RI  PROPERTY STATE_SC  \\\n",
       "0                  0                  0                  0                  0   \n",
       "1                  0                  0                  0                  0   \n",
       "2                  0                  0                  0                  0   \n",
       "3                  0                  0                  0                  0   \n",
       "4                  0                  0                  0                  0   \n",
       "\n",
       "   PROPERTY STATE_SD  PROPERTY STATE_TN  PROPERTY STATE_TX  PROPERTY STATE_UT  \\\n",
       "0                  0                  0                  0                  0   \n",
       "1                  0                  0                  0                  0   \n",
       "2                  0                  0                  0                  0   \n",
       "3                  0                  0                  0                  0   \n",
       "4                  0                  0                  1                  0   \n",
       "\n",
       "   PROPERTY STATE_VA  PROPERTY STATE_VI  PROPERTY STATE_VT  PROPERTY STATE_WA  \\\n",
       "0                  0                  0                  0                  0   \n",
       "1                  0                  0                  0                  0   \n",
       "2                  0                  0                  0                  0   \n",
       "3                  0                  0                  0                  0   \n",
       "4                  0                  0                  0                  0   \n",
       "\n",
       "   PROPERTY STATE_WI  PROPERTY STATE_WV  PROPERTY STATE_WY  \n",
       "0                  0                  0                  0  \n",
       "1                  0                  0                  0  \n",
       "2                  0                  0                  0  \n",
       "3                  0                  0                  0  \n",
       "4                  0                  0                  0  "
      ]
     },
     "execution_count": 53,
     "metadata": {},
     "output_type": "execute_result"
    }
   ],
   "source": [
    "mbs_final.head()"
   ]
  },
  {
   "cell_type": "code",
   "execution_count": 54,
   "metadata": {},
   "outputs": [
    {
     "data": {
      "text/plain": [
       "(1807092, 99)"
      ]
     },
     "execution_count": 54,
     "metadata": {},
     "output_type": "execute_result"
    }
   ],
   "source": [
    "mbs_final.shape"
   ]
  },
  {
   "cell_type": "code",
   "execution_count": 55,
   "metadata": {},
   "outputs": [],
   "source": [
    "# Standardizing all the continuous variables\n",
    "from sklearn.preprocessing import StandardScaler"
   ]
  },
  {
   "cell_type": "code",
   "execution_count": 56,
   "metadata": {},
   "outputs": [],
   "source": [
    "mbs_toscale=mbs_final[['ORIGINAL INTEREST RATE', 'ORIGINAL UPB', 'ORIGINAL LOAN TERM',\n",
    "       'ORIGINAL LOAN-TO-VALUE (LTV)','ORIGINAL DEBT TO INCOME RATIO', 'BORROWER CREDIT SCORE AT ORIGINATION']]       "
   ]
  },
  {
   "cell_type": "code",
   "execution_count": 57,
   "metadata": {},
   "outputs": [],
   "source": [
    "std_scale = StandardScaler().fit(mbs_toscale)"
   ]
  },
  {
   "cell_type": "code",
   "execution_count": 58,
   "metadata": {},
   "outputs": [],
   "source": [
    "mbs_scaled = std_scale.transform(mbs_toscale)"
   ]
  },
  {
   "cell_type": "code",
   "execution_count": 59,
   "metadata": {},
   "outputs": [
    {
     "data": {
      "text/plain": [
       "array([[ 0.26345795, -0.05428173,  0.54505628,  0.31888296, -0.27460199,\n",
       "        -0.32316785],\n",
       "       [-0.26186311, -0.91541725,  0.54505628,  1.18742702,  0.16245004,\n",
       "         0.26886796],\n",
       "       [ 0.51601615, -0.09649425,  0.54505628,  0.08727121, -0.27460199,\n",
       "         0.22657969],\n",
       "       [-0.49421666, -0.27378686, -1.080196  ,  0.31888296, -0.71165402,\n",
       "         0.22657969],\n",
       "       [ 1.02113255, -0.98295729,  0.54505628,  0.31888296, -0.27460199,\n",
       "         0.43802105]])"
      ]
     },
     "execution_count": 59,
     "metadata": {},
     "output_type": "execute_result"
    }
   ],
   "source": [
    "mbs_scaled[:5,]"
   ]
  },
  {
   "cell_type": "code",
   "execution_count": 60,
   "metadata": {},
   "outputs": [],
   "source": [
    "mbs_scaled_df = pd.DataFrame(mbs_scaled, index=mbs_toscale.index, columns=mbs_toscale.columns)"
   ]
  },
  {
   "cell_type": "code",
   "execution_count": 61,
   "metadata": {},
   "outputs": [
    {
     "data": {
      "text/html": [
       "<div>\n",
       "<style scoped>\n",
       "    .dataframe tbody tr th:only-of-type {\n",
       "        vertical-align: middle;\n",
       "    }\n",
       "\n",
       "    .dataframe tbody tr th {\n",
       "        vertical-align: top;\n",
       "    }\n",
       "\n",
       "    .dataframe thead th {\n",
       "        text-align: right;\n",
       "    }\n",
       "</style>\n",
       "<table border=\"1\" class=\"dataframe\">\n",
       "  <thead>\n",
       "    <tr style=\"text-align: right;\">\n",
       "      <th></th>\n",
       "      <th>ORIGINAL INTEREST RATE</th>\n",
       "      <th>ORIGINAL UPB</th>\n",
       "      <th>ORIGINAL LOAN TERM</th>\n",
       "      <th>ORIGINAL LOAN-TO-VALUE (LTV)</th>\n",
       "      <th>ORIGINAL DEBT TO INCOME RATIO</th>\n",
       "      <th>BORROWER CREDIT SCORE AT ORIGINATION</th>\n",
       "    </tr>\n",
       "  </thead>\n",
       "  <tbody>\n",
       "    <tr>\n",
       "      <th>0</th>\n",
       "      <td>0.263458</td>\n",
       "      <td>-0.054282</td>\n",
       "      <td>0.545056</td>\n",
       "      <td>0.318883</td>\n",
       "      <td>-0.274602</td>\n",
       "      <td>-0.323168</td>\n",
       "    </tr>\n",
       "    <tr>\n",
       "      <th>1</th>\n",
       "      <td>-0.261863</td>\n",
       "      <td>-0.915417</td>\n",
       "      <td>0.545056</td>\n",
       "      <td>1.187427</td>\n",
       "      <td>0.162450</td>\n",
       "      <td>0.268868</td>\n",
       "    </tr>\n",
       "    <tr>\n",
       "      <th>2</th>\n",
       "      <td>0.516016</td>\n",
       "      <td>-0.096494</td>\n",
       "      <td>0.545056</td>\n",
       "      <td>0.087271</td>\n",
       "      <td>-0.274602</td>\n",
       "      <td>0.226580</td>\n",
       "    </tr>\n",
       "    <tr>\n",
       "      <th>3</th>\n",
       "      <td>-0.494217</td>\n",
       "      <td>-0.273787</td>\n",
       "      <td>-1.080196</td>\n",
       "      <td>0.318883</td>\n",
       "      <td>-0.711654</td>\n",
       "      <td>0.226580</td>\n",
       "    </tr>\n",
       "    <tr>\n",
       "      <th>4</th>\n",
       "      <td>1.021133</td>\n",
       "      <td>-0.982957</td>\n",
       "      <td>0.545056</td>\n",
       "      <td>0.318883</td>\n",
       "      <td>-0.274602</td>\n",
       "      <td>0.438021</td>\n",
       "    </tr>\n",
       "  </tbody>\n",
       "</table>\n",
       "</div>"
      ],
      "text/plain": [
       "   ORIGINAL INTEREST RATE  ORIGINAL UPB  ORIGINAL LOAN TERM  \\\n",
       "0                0.263458     -0.054282            0.545056   \n",
       "1               -0.261863     -0.915417            0.545056   \n",
       "2                0.516016     -0.096494            0.545056   \n",
       "3               -0.494217     -0.273787           -1.080196   \n",
       "4                1.021133     -0.982957            0.545056   \n",
       "\n",
       "   ORIGINAL LOAN-TO-VALUE (LTV)  ORIGINAL DEBT TO INCOME RATIO  \\\n",
       "0                      0.318883                      -0.274602   \n",
       "1                      1.187427                       0.162450   \n",
       "2                      0.087271                      -0.274602   \n",
       "3                      0.318883                      -0.711654   \n",
       "4                      0.318883                      -0.274602   \n",
       "\n",
       "   BORROWER CREDIT SCORE AT ORIGINATION  \n",
       "0                             -0.323168  \n",
       "1                              0.268868  \n",
       "2                              0.226580  \n",
       "3                              0.226580  \n",
       "4                              0.438021  "
      ]
     },
     "execution_count": 61,
     "metadata": {},
     "output_type": "execute_result"
    }
   ],
   "source": [
    "mbs_scaled_df.head()"
   ]
  },
  {
   "cell_type": "code",
   "execution_count": 62,
   "metadata": {},
   "outputs": [],
   "source": [
    "mbs_scaled_final= pd.concat([mbs_scaled_df,mbs_final.drop(['ORIGINAL INTEREST RATE', 'ORIGINAL UPB', 'ORIGINAL LOAN TERM',\n",
    "       'ORIGINAL LOAN-TO-VALUE (LTV)', \n",
    "       'ORIGINAL DEBT TO INCOME RATIO', 'BORROWER CREDIT SCORE AT ORIGINATION'], axis=1)], axis=1, sort=False)\n"
   ]
  },
  {
   "cell_type": "code",
   "execution_count": 63,
   "metadata": {},
   "outputs": [
    {
     "data": {
      "text/html": [
       "<div>\n",
       "<style scoped>\n",
       "    .dataframe tbody tr th:only-of-type {\n",
       "        vertical-align: middle;\n",
       "    }\n",
       "\n",
       "    .dataframe tbody tr th {\n",
       "        vertical-align: top;\n",
       "    }\n",
       "\n",
       "    .dataframe thead th {\n",
       "        text-align: right;\n",
       "    }\n",
       "</style>\n",
       "<table border=\"1\" class=\"dataframe\">\n",
       "  <thead>\n",
       "    <tr style=\"text-align: right;\">\n",
       "      <th></th>\n",
       "      <th>ORIGINAL INTEREST RATE</th>\n",
       "      <th>ORIGINAL UPB</th>\n",
       "      <th>ORIGINAL LOAN TERM</th>\n",
       "      <th>ORIGINAL LOAN-TO-VALUE (LTV)</th>\n",
       "      <th>ORIGINAL DEBT TO INCOME RATIO</th>\n",
       "      <th>BORROWER CREDIT SCORE AT ORIGINATION</th>\n",
       "      <th>DEFAULT STATUS</th>\n",
       "      <th>ORIGINATION CHANNEL_C</th>\n",
       "      <th>ORIGINATION CHANNEL_R</th>\n",
       "      <th>SELLER NAME_CALIBER HOME LOANS, INC.</th>\n",
       "      <th>SELLER NAME_CITIMORTGAGE, INC.</th>\n",
       "      <th>SELLER NAME_DITECH FINANCIAL LLC</th>\n",
       "      <th>SELLER NAME_FAIRWAY INDEPENDENT MORTGAGE CORPORATION</th>\n",
       "      <th>SELLER NAME_FLAGSTAR BANK, FSB</th>\n",
       "      <th>SELLER NAME_FRANKLIN AMERICAN MORTGAGE COMPANY</th>\n",
       "      <th>SELLER NAME_FREEDOM MORTGAGE CORP.</th>\n",
       "      <th>SELLER NAME_GUILD MORTGAGE COMPANY</th>\n",
       "      <th>SELLER NAME_JPMORGAN CHASE BANK, NATIONAL ASSOCIATION</th>\n",
       "      <th>SELLER NAME_LOANDEPOT.COM, LLC</th>\n",
       "      <th>SELLER NAME_MOVEMENT MORTGAGE, LLC</th>\n",
       "      <th>SELLER NAME_NATIONSTAR MORTGAGE, LLC</th>\n",
       "      <th>SELLER NAME_OTHER</th>\n",
       "      <th>SELLER NAME_PENNYMAC CORP.</th>\n",
       "      <th>SELLER NAME_PMTT4</th>\n",
       "      <th>SELLER NAME_QUICKEN LOANS INC.</th>\n",
       "      <th>SELLER NAME_SUNTRUST BANK</th>\n",
       "      <th>SELLER NAME_U.S. BANK N.A.</th>\n",
       "      <th>SELLER NAME_UNITED SHORE FINANCIAL SERVICES, LLC D/B/A UNITED WHOLESALE MORTGAGE</th>\n",
       "      <th>SELLER NAME_WELLS FARGO BANK, N.A.</th>\n",
       "      <th>NUMBER OF BORROWERS_2</th>\n",
       "      <th>NUMBER OF BORROWERS_3</th>\n",
       "      <th>NUMBER OF BORROWERS_4</th>\n",
       "      <th>NUMBER OF BORROWERS_5</th>\n",
       "      <th>NUMBER OF BORROWERS_6</th>\n",
       "      <th>FIRST TIME HOME BUYER INDICATOR_Y</th>\n",
       "      <th>LOAN PURPOSE_P</th>\n",
       "      <th>LOAN PURPOSE_R</th>\n",
       "      <th>PROPERTY TYPE_CP</th>\n",
       "      <th>PROPERTY TYPE_MH</th>\n",
       "      <th>PROPERTY TYPE_PU</th>\n",
       "      <th>PROPERTY TYPE_SF</th>\n",
       "      <th>NUMBER OF UNITS_2</th>\n",
       "      <th>NUMBER OF UNITS_3</th>\n",
       "      <th>NUMBER OF UNITS_4</th>\n",
       "      <th>OCCUPANCY TYPE_P</th>\n",
       "      <th>OCCUPANCY TYPE_S</th>\n",
       "      <th>PROPERTY STATE_AL</th>\n",
       "      <th>PROPERTY STATE_AR</th>\n",
       "      <th>PROPERTY STATE_AZ</th>\n",
       "      <th>PROPERTY STATE_CA</th>\n",
       "      <th>PROPERTY STATE_CO</th>\n",
       "      <th>PROPERTY STATE_CT</th>\n",
       "      <th>PROPERTY STATE_DC</th>\n",
       "      <th>PROPERTY STATE_DE</th>\n",
       "      <th>PROPERTY STATE_FL</th>\n",
       "      <th>PROPERTY STATE_GA</th>\n",
       "      <th>PROPERTY STATE_GU</th>\n",
       "      <th>PROPERTY STATE_HI</th>\n",
       "      <th>PROPERTY STATE_IA</th>\n",
       "      <th>PROPERTY STATE_ID</th>\n",
       "      <th>PROPERTY STATE_IL</th>\n",
       "      <th>PROPERTY STATE_IN</th>\n",
       "      <th>PROPERTY STATE_KS</th>\n",
       "      <th>PROPERTY STATE_KY</th>\n",
       "      <th>PROPERTY STATE_LA</th>\n",
       "      <th>PROPERTY STATE_MA</th>\n",
       "      <th>PROPERTY STATE_MD</th>\n",
       "      <th>PROPERTY STATE_ME</th>\n",
       "      <th>PROPERTY STATE_MI</th>\n",
       "      <th>PROPERTY STATE_MN</th>\n",
       "      <th>PROPERTY STATE_MO</th>\n",
       "      <th>PROPERTY STATE_MS</th>\n",
       "      <th>PROPERTY STATE_MT</th>\n",
       "      <th>PROPERTY STATE_NC</th>\n",
       "      <th>PROPERTY STATE_ND</th>\n",
       "      <th>PROPERTY STATE_NE</th>\n",
       "      <th>PROPERTY STATE_NH</th>\n",
       "      <th>PROPERTY STATE_NJ</th>\n",
       "      <th>PROPERTY STATE_NM</th>\n",
       "      <th>PROPERTY STATE_NV</th>\n",
       "      <th>PROPERTY STATE_NY</th>\n",
       "      <th>PROPERTY STATE_OH</th>\n",
       "      <th>PROPERTY STATE_OK</th>\n",
       "      <th>PROPERTY STATE_OR</th>\n",
       "      <th>PROPERTY STATE_PA</th>\n",
       "      <th>PROPERTY STATE_PR</th>\n",
       "      <th>PROPERTY STATE_RI</th>\n",
       "      <th>PROPERTY STATE_SC</th>\n",
       "      <th>PROPERTY STATE_SD</th>\n",
       "      <th>PROPERTY STATE_TN</th>\n",
       "      <th>PROPERTY STATE_TX</th>\n",
       "      <th>PROPERTY STATE_UT</th>\n",
       "      <th>PROPERTY STATE_VA</th>\n",
       "      <th>PROPERTY STATE_VI</th>\n",
       "      <th>PROPERTY STATE_VT</th>\n",
       "      <th>PROPERTY STATE_WA</th>\n",
       "      <th>PROPERTY STATE_WI</th>\n",
       "      <th>PROPERTY STATE_WV</th>\n",
       "      <th>PROPERTY STATE_WY</th>\n",
       "    </tr>\n",
       "  </thead>\n",
       "  <tbody>\n",
       "    <tr>\n",
       "      <th>0</th>\n",
       "      <td>0.263458</td>\n",
       "      <td>-0.054282</td>\n",
       "      <td>0.545056</td>\n",
       "      <td>0.318883</td>\n",
       "      <td>-0.274602</td>\n",
       "      <td>-0.323168</td>\n",
       "      <td>0</td>\n",
       "      <td>1</td>\n",
       "      <td>0</td>\n",
       "      <td>0</td>\n",
       "      <td>0</td>\n",
       "      <td>0</td>\n",
       "      <td>0</td>\n",
       "      <td>0</td>\n",
       "      <td>0</td>\n",
       "      <td>0</td>\n",
       "      <td>0</td>\n",
       "      <td>0</td>\n",
       "      <td>0</td>\n",
       "      <td>0</td>\n",
       "      <td>0</td>\n",
       "      <td>0</td>\n",
       "      <td>0</td>\n",
       "      <td>1</td>\n",
       "      <td>0</td>\n",
       "      <td>0</td>\n",
       "      <td>0</td>\n",
       "      <td>0</td>\n",
       "      <td>0</td>\n",
       "      <td>0</td>\n",
       "      <td>0</td>\n",
       "      <td>0</td>\n",
       "      <td>0</td>\n",
       "      <td>0</td>\n",
       "      <td>0</td>\n",
       "      <td>0</td>\n",
       "      <td>0</td>\n",
       "      <td>0</td>\n",
       "      <td>0</td>\n",
       "      <td>0</td>\n",
       "      <td>1</td>\n",
       "      <td>0</td>\n",
       "      <td>0</td>\n",
       "      <td>0</td>\n",
       "      <td>1</td>\n",
       "      <td>0</td>\n",
       "      <td>0</td>\n",
       "      <td>0</td>\n",
       "      <td>0</td>\n",
       "      <td>0</td>\n",
       "      <td>0</td>\n",
       "      <td>0</td>\n",
       "      <td>0</td>\n",
       "      <td>0</td>\n",
       "      <td>0</td>\n",
       "      <td>0</td>\n",
       "      <td>0</td>\n",
       "      <td>0</td>\n",
       "      <td>0</td>\n",
       "      <td>0</td>\n",
       "      <td>0</td>\n",
       "      <td>0</td>\n",
       "      <td>0</td>\n",
       "      <td>0</td>\n",
       "      <td>0</td>\n",
       "      <td>0</td>\n",
       "      <td>1</td>\n",
       "      <td>0</td>\n",
       "      <td>0</td>\n",
       "      <td>0</td>\n",
       "      <td>0</td>\n",
       "      <td>0</td>\n",
       "      <td>0</td>\n",
       "      <td>0</td>\n",
       "      <td>0</td>\n",
       "      <td>0</td>\n",
       "      <td>0</td>\n",
       "      <td>0</td>\n",
       "      <td>0</td>\n",
       "      <td>0</td>\n",
       "      <td>0</td>\n",
       "      <td>0</td>\n",
       "      <td>0</td>\n",
       "      <td>0</td>\n",
       "      <td>0</td>\n",
       "      <td>0</td>\n",
       "      <td>0</td>\n",
       "      <td>0</td>\n",
       "      <td>0</td>\n",
       "      <td>0</td>\n",
       "      <td>0</td>\n",
       "      <td>0</td>\n",
       "      <td>0</td>\n",
       "      <td>0</td>\n",
       "      <td>0</td>\n",
       "      <td>0</td>\n",
       "      <td>0</td>\n",
       "      <td>0</td>\n",
       "      <td>0</td>\n",
       "    </tr>\n",
       "    <tr>\n",
       "      <th>1</th>\n",
       "      <td>-0.261863</td>\n",
       "      <td>-0.915417</td>\n",
       "      <td>0.545056</td>\n",
       "      <td>1.187427</td>\n",
       "      <td>0.162450</td>\n",
       "      <td>0.268868</td>\n",
       "      <td>0</td>\n",
       "      <td>0</td>\n",
       "      <td>1</td>\n",
       "      <td>0</td>\n",
       "      <td>0</td>\n",
       "      <td>0</td>\n",
       "      <td>0</td>\n",
       "      <td>0</td>\n",
       "      <td>0</td>\n",
       "      <td>0</td>\n",
       "      <td>0</td>\n",
       "      <td>0</td>\n",
       "      <td>0</td>\n",
       "      <td>0</td>\n",
       "      <td>0</td>\n",
       "      <td>1</td>\n",
       "      <td>0</td>\n",
       "      <td>0</td>\n",
       "      <td>0</td>\n",
       "      <td>0</td>\n",
       "      <td>0</td>\n",
       "      <td>0</td>\n",
       "      <td>0</td>\n",
       "      <td>0</td>\n",
       "      <td>0</td>\n",
       "      <td>0</td>\n",
       "      <td>0</td>\n",
       "      <td>0</td>\n",
       "      <td>0</td>\n",
       "      <td>1</td>\n",
       "      <td>0</td>\n",
       "      <td>0</td>\n",
       "      <td>0</td>\n",
       "      <td>0</td>\n",
       "      <td>1</td>\n",
       "      <td>0</td>\n",
       "      <td>0</td>\n",
       "      <td>0</td>\n",
       "      <td>1</td>\n",
       "      <td>0</td>\n",
       "      <td>0</td>\n",
       "      <td>0</td>\n",
       "      <td>0</td>\n",
       "      <td>0</td>\n",
       "      <td>0</td>\n",
       "      <td>0</td>\n",
       "      <td>0</td>\n",
       "      <td>0</td>\n",
       "      <td>0</td>\n",
       "      <td>0</td>\n",
       "      <td>0</td>\n",
       "      <td>0</td>\n",
       "      <td>0</td>\n",
       "      <td>0</td>\n",
       "      <td>0</td>\n",
       "      <td>0</td>\n",
       "      <td>0</td>\n",
       "      <td>0</td>\n",
       "      <td>0</td>\n",
       "      <td>0</td>\n",
       "      <td>0</td>\n",
       "      <td>0</td>\n",
       "      <td>1</td>\n",
       "      <td>0</td>\n",
       "      <td>0</td>\n",
       "      <td>0</td>\n",
       "      <td>0</td>\n",
       "      <td>0</td>\n",
       "      <td>0</td>\n",
       "      <td>0</td>\n",
       "      <td>0</td>\n",
       "      <td>0</td>\n",
       "      <td>0</td>\n",
       "      <td>0</td>\n",
       "      <td>0</td>\n",
       "      <td>0</td>\n",
       "      <td>0</td>\n",
       "      <td>0</td>\n",
       "      <td>0</td>\n",
       "      <td>0</td>\n",
       "      <td>0</td>\n",
       "      <td>0</td>\n",
       "      <td>0</td>\n",
       "      <td>0</td>\n",
       "      <td>0</td>\n",
       "      <td>0</td>\n",
       "      <td>0</td>\n",
       "      <td>0</td>\n",
       "      <td>0</td>\n",
       "      <td>0</td>\n",
       "      <td>0</td>\n",
       "      <td>0</td>\n",
       "      <td>0</td>\n",
       "    </tr>\n",
       "    <tr>\n",
       "      <th>2</th>\n",
       "      <td>0.516016</td>\n",
       "      <td>-0.096494</td>\n",
       "      <td>0.545056</td>\n",
       "      <td>0.087271</td>\n",
       "      <td>-0.274602</td>\n",
       "      <td>0.226580</td>\n",
       "      <td>0</td>\n",
       "      <td>1</td>\n",
       "      <td>0</td>\n",
       "      <td>0</td>\n",
       "      <td>0</td>\n",
       "      <td>0</td>\n",
       "      <td>0</td>\n",
       "      <td>0</td>\n",
       "      <td>0</td>\n",
       "      <td>0</td>\n",
       "      <td>0</td>\n",
       "      <td>0</td>\n",
       "      <td>0</td>\n",
       "      <td>0</td>\n",
       "      <td>0</td>\n",
       "      <td>1</td>\n",
       "      <td>0</td>\n",
       "      <td>0</td>\n",
       "      <td>0</td>\n",
       "      <td>0</td>\n",
       "      <td>0</td>\n",
       "      <td>0</td>\n",
       "      <td>0</td>\n",
       "      <td>1</td>\n",
       "      <td>0</td>\n",
       "      <td>0</td>\n",
       "      <td>0</td>\n",
       "      <td>0</td>\n",
       "      <td>0</td>\n",
       "      <td>1</td>\n",
       "      <td>0</td>\n",
       "      <td>0</td>\n",
       "      <td>0</td>\n",
       "      <td>1</td>\n",
       "      <td>0</td>\n",
       "      <td>0</td>\n",
       "      <td>0</td>\n",
       "      <td>0</td>\n",
       "      <td>1</td>\n",
       "      <td>0</td>\n",
       "      <td>0</td>\n",
       "      <td>0</td>\n",
       "      <td>0</td>\n",
       "      <td>0</td>\n",
       "      <td>0</td>\n",
       "      <td>0</td>\n",
       "      <td>0</td>\n",
       "      <td>0</td>\n",
       "      <td>0</td>\n",
       "      <td>1</td>\n",
       "      <td>0</td>\n",
       "      <td>0</td>\n",
       "      <td>0</td>\n",
       "      <td>0</td>\n",
       "      <td>0</td>\n",
       "      <td>0</td>\n",
       "      <td>0</td>\n",
       "      <td>0</td>\n",
       "      <td>0</td>\n",
       "      <td>0</td>\n",
       "      <td>0</td>\n",
       "      <td>0</td>\n",
       "      <td>0</td>\n",
       "      <td>0</td>\n",
       "      <td>0</td>\n",
       "      <td>0</td>\n",
       "      <td>0</td>\n",
       "      <td>0</td>\n",
       "      <td>0</td>\n",
       "      <td>0</td>\n",
       "      <td>0</td>\n",
       "      <td>0</td>\n",
       "      <td>0</td>\n",
       "      <td>0</td>\n",
       "      <td>0</td>\n",
       "      <td>0</td>\n",
       "      <td>0</td>\n",
       "      <td>0</td>\n",
       "      <td>0</td>\n",
       "      <td>0</td>\n",
       "      <td>0</td>\n",
       "      <td>0</td>\n",
       "      <td>0</td>\n",
       "      <td>0</td>\n",
       "      <td>0</td>\n",
       "      <td>0</td>\n",
       "      <td>0</td>\n",
       "      <td>0</td>\n",
       "      <td>0</td>\n",
       "      <td>0</td>\n",
       "      <td>0</td>\n",
       "      <td>0</td>\n",
       "      <td>0</td>\n",
       "    </tr>\n",
       "    <tr>\n",
       "      <th>3</th>\n",
       "      <td>-0.494217</td>\n",
       "      <td>-0.273787</td>\n",
       "      <td>-1.080196</td>\n",
       "      <td>0.318883</td>\n",
       "      <td>-0.711654</td>\n",
       "      <td>0.226580</td>\n",
       "      <td>0</td>\n",
       "      <td>1</td>\n",
       "      <td>0</td>\n",
       "      <td>0</td>\n",
       "      <td>0</td>\n",
       "      <td>0</td>\n",
       "      <td>0</td>\n",
       "      <td>0</td>\n",
       "      <td>0</td>\n",
       "      <td>0</td>\n",
       "      <td>0</td>\n",
       "      <td>0</td>\n",
       "      <td>0</td>\n",
       "      <td>0</td>\n",
       "      <td>0</td>\n",
       "      <td>1</td>\n",
       "      <td>0</td>\n",
       "      <td>0</td>\n",
       "      <td>0</td>\n",
       "      <td>0</td>\n",
       "      <td>0</td>\n",
       "      <td>0</td>\n",
       "      <td>0</td>\n",
       "      <td>0</td>\n",
       "      <td>0</td>\n",
       "      <td>0</td>\n",
       "      <td>0</td>\n",
       "      <td>0</td>\n",
       "      <td>0</td>\n",
       "      <td>0</td>\n",
       "      <td>1</td>\n",
       "      <td>0</td>\n",
       "      <td>0</td>\n",
       "      <td>0</td>\n",
       "      <td>1</td>\n",
       "      <td>0</td>\n",
       "      <td>0</td>\n",
       "      <td>0</td>\n",
       "      <td>1</td>\n",
       "      <td>0</td>\n",
       "      <td>0</td>\n",
       "      <td>0</td>\n",
       "      <td>0</td>\n",
       "      <td>0</td>\n",
       "      <td>0</td>\n",
       "      <td>0</td>\n",
       "      <td>0</td>\n",
       "      <td>0</td>\n",
       "      <td>0</td>\n",
       "      <td>0</td>\n",
       "      <td>0</td>\n",
       "      <td>0</td>\n",
       "      <td>0</td>\n",
       "      <td>0</td>\n",
       "      <td>0</td>\n",
       "      <td>1</td>\n",
       "      <td>0</td>\n",
       "      <td>0</td>\n",
       "      <td>0</td>\n",
       "      <td>0</td>\n",
       "      <td>0</td>\n",
       "      <td>0</td>\n",
       "      <td>0</td>\n",
       "      <td>0</td>\n",
       "      <td>0</td>\n",
       "      <td>0</td>\n",
       "      <td>0</td>\n",
       "      <td>0</td>\n",
       "      <td>0</td>\n",
       "      <td>0</td>\n",
       "      <td>0</td>\n",
       "      <td>0</td>\n",
       "      <td>0</td>\n",
       "      <td>0</td>\n",
       "      <td>0</td>\n",
       "      <td>0</td>\n",
       "      <td>0</td>\n",
       "      <td>0</td>\n",
       "      <td>0</td>\n",
       "      <td>0</td>\n",
       "      <td>0</td>\n",
       "      <td>0</td>\n",
       "      <td>0</td>\n",
       "      <td>0</td>\n",
       "      <td>0</td>\n",
       "      <td>0</td>\n",
       "      <td>0</td>\n",
       "      <td>0</td>\n",
       "      <td>0</td>\n",
       "      <td>0</td>\n",
       "      <td>0</td>\n",
       "      <td>0</td>\n",
       "      <td>0</td>\n",
       "    </tr>\n",
       "    <tr>\n",
       "      <th>4</th>\n",
       "      <td>1.021133</td>\n",
       "      <td>-0.982957</td>\n",
       "      <td>0.545056</td>\n",
       "      <td>0.318883</td>\n",
       "      <td>-0.274602</td>\n",
       "      <td>0.438021</td>\n",
       "      <td>0</td>\n",
       "      <td>0</td>\n",
       "      <td>1</td>\n",
       "      <td>0</td>\n",
       "      <td>0</td>\n",
       "      <td>0</td>\n",
       "      <td>0</td>\n",
       "      <td>0</td>\n",
       "      <td>0</td>\n",
       "      <td>0</td>\n",
       "      <td>0</td>\n",
       "      <td>0</td>\n",
       "      <td>0</td>\n",
       "      <td>0</td>\n",
       "      <td>0</td>\n",
       "      <td>1</td>\n",
       "      <td>0</td>\n",
       "      <td>0</td>\n",
       "      <td>0</td>\n",
       "      <td>0</td>\n",
       "      <td>0</td>\n",
       "      <td>0</td>\n",
       "      <td>0</td>\n",
       "      <td>0</td>\n",
       "      <td>0</td>\n",
       "      <td>0</td>\n",
       "      <td>0</td>\n",
       "      <td>0</td>\n",
       "      <td>0</td>\n",
       "      <td>0</td>\n",
       "      <td>0</td>\n",
       "      <td>0</td>\n",
       "      <td>0</td>\n",
       "      <td>0</td>\n",
       "      <td>1</td>\n",
       "      <td>0</td>\n",
       "      <td>0</td>\n",
       "      <td>0</td>\n",
       "      <td>1</td>\n",
       "      <td>0</td>\n",
       "      <td>0</td>\n",
       "      <td>0</td>\n",
       "      <td>0</td>\n",
       "      <td>0</td>\n",
       "      <td>0</td>\n",
       "      <td>0</td>\n",
       "      <td>0</td>\n",
       "      <td>0</td>\n",
       "      <td>0</td>\n",
       "      <td>0</td>\n",
       "      <td>0</td>\n",
       "      <td>0</td>\n",
       "      <td>0</td>\n",
       "      <td>0</td>\n",
       "      <td>0</td>\n",
       "      <td>0</td>\n",
       "      <td>0</td>\n",
       "      <td>0</td>\n",
       "      <td>0</td>\n",
       "      <td>0</td>\n",
       "      <td>0</td>\n",
       "      <td>0</td>\n",
       "      <td>0</td>\n",
       "      <td>0</td>\n",
       "      <td>0</td>\n",
       "      <td>0</td>\n",
       "      <td>0</td>\n",
       "      <td>0</td>\n",
       "      <td>0</td>\n",
       "      <td>0</td>\n",
       "      <td>0</td>\n",
       "      <td>0</td>\n",
       "      <td>0</td>\n",
       "      <td>0</td>\n",
       "      <td>0</td>\n",
       "      <td>0</td>\n",
       "      <td>0</td>\n",
       "      <td>0</td>\n",
       "      <td>0</td>\n",
       "      <td>0</td>\n",
       "      <td>0</td>\n",
       "      <td>0</td>\n",
       "      <td>0</td>\n",
       "      <td>0</td>\n",
       "      <td>1</td>\n",
       "      <td>0</td>\n",
       "      <td>0</td>\n",
       "      <td>0</td>\n",
       "      <td>0</td>\n",
       "      <td>0</td>\n",
       "      <td>0</td>\n",
       "      <td>0</td>\n",
       "      <td>0</td>\n",
       "    </tr>\n",
       "  </tbody>\n",
       "</table>\n",
       "</div>"
      ],
      "text/plain": [
       "   ORIGINAL INTEREST RATE  ORIGINAL UPB  ORIGINAL LOAN TERM  \\\n",
       "0                0.263458     -0.054282            0.545056   \n",
       "1               -0.261863     -0.915417            0.545056   \n",
       "2                0.516016     -0.096494            0.545056   \n",
       "3               -0.494217     -0.273787           -1.080196   \n",
       "4                1.021133     -0.982957            0.545056   \n",
       "\n",
       "   ORIGINAL LOAN-TO-VALUE (LTV)  ORIGINAL DEBT TO INCOME RATIO  \\\n",
       "0                      0.318883                      -0.274602   \n",
       "1                      1.187427                       0.162450   \n",
       "2                      0.087271                      -0.274602   \n",
       "3                      0.318883                      -0.711654   \n",
       "4                      0.318883                      -0.274602   \n",
       "\n",
       "   BORROWER CREDIT SCORE AT ORIGINATION  DEFAULT STATUS  \\\n",
       "0                             -0.323168               0   \n",
       "1                              0.268868               0   \n",
       "2                              0.226580               0   \n",
       "3                              0.226580               0   \n",
       "4                              0.438021               0   \n",
       "\n",
       "   ORIGINATION CHANNEL_C  ORIGINATION CHANNEL_R  \\\n",
       "0                      1                      0   \n",
       "1                      0                      1   \n",
       "2                      1                      0   \n",
       "3                      1                      0   \n",
       "4                      0                      1   \n",
       "\n",
       "   SELLER NAME_CALIBER HOME LOANS, INC.  SELLER NAME_CITIMORTGAGE, INC.  \\\n",
       "0                                     0                               0   \n",
       "1                                     0                               0   \n",
       "2                                     0                               0   \n",
       "3                                     0                               0   \n",
       "4                                     0                               0   \n",
       "\n",
       "   SELLER NAME_DITECH FINANCIAL LLC  \\\n",
       "0                                 0   \n",
       "1                                 0   \n",
       "2                                 0   \n",
       "3                                 0   \n",
       "4                                 0   \n",
       "\n",
       "   SELLER NAME_FAIRWAY INDEPENDENT MORTGAGE CORPORATION  \\\n",
       "0                                                  0      \n",
       "1                                                  0      \n",
       "2                                                  0      \n",
       "3                                                  0      \n",
       "4                                                  0      \n",
       "\n",
       "   SELLER NAME_FLAGSTAR BANK, FSB  \\\n",
       "0                               0   \n",
       "1                               0   \n",
       "2                               0   \n",
       "3                               0   \n",
       "4                               0   \n",
       "\n",
       "   SELLER NAME_FRANKLIN AMERICAN MORTGAGE COMPANY  \\\n",
       "0                                               0   \n",
       "1                                               0   \n",
       "2                                               0   \n",
       "3                                               0   \n",
       "4                                               0   \n",
       "\n",
       "   SELLER NAME_FREEDOM MORTGAGE CORP.  SELLER NAME_GUILD MORTGAGE COMPANY  \\\n",
       "0                                   0                                   0   \n",
       "1                                   0                                   0   \n",
       "2                                   0                                   0   \n",
       "3                                   0                                   0   \n",
       "4                                   0                                   0   \n",
       "\n",
       "   SELLER NAME_JPMORGAN CHASE BANK, NATIONAL ASSOCIATION  \\\n",
       "0                                                  0       \n",
       "1                                                  0       \n",
       "2                                                  0       \n",
       "3                                                  0       \n",
       "4                                                  0       \n",
       "\n",
       "   SELLER NAME_LOANDEPOT.COM, LLC  SELLER NAME_MOVEMENT MORTGAGE, LLC  \\\n",
       "0                               0                                   0   \n",
       "1                               0                                   0   \n",
       "2                               0                                   0   \n",
       "3                               0                                   0   \n",
       "4                               0                                   0   \n",
       "\n",
       "   SELLER NAME_NATIONSTAR MORTGAGE, LLC  SELLER NAME_OTHER  \\\n",
       "0                                     0                  0   \n",
       "1                                     0                  1   \n",
       "2                                     0                  1   \n",
       "3                                     0                  1   \n",
       "4                                     0                  1   \n",
       "\n",
       "   SELLER NAME_PENNYMAC CORP.  SELLER NAME_PMTT4  \\\n",
       "0                           0                  1   \n",
       "1                           0                  0   \n",
       "2                           0                  0   \n",
       "3                           0                  0   \n",
       "4                           0                  0   \n",
       "\n",
       "   SELLER NAME_QUICKEN LOANS INC.  SELLER NAME_SUNTRUST BANK  \\\n",
       "0                               0                          0   \n",
       "1                               0                          0   \n",
       "2                               0                          0   \n",
       "3                               0                          0   \n",
       "4                               0                          0   \n",
       "\n",
       "   SELLER NAME_U.S. BANK N.A.  \\\n",
       "0                           0   \n",
       "1                           0   \n",
       "2                           0   \n",
       "3                           0   \n",
       "4                           0   \n",
       "\n",
       "   SELLER NAME_UNITED SHORE FINANCIAL SERVICES, LLC D/B/A UNITED WHOLESALE MORTGAGE  \\\n",
       "0                                                  0                                  \n",
       "1                                                  0                                  \n",
       "2                                                  0                                  \n",
       "3                                                  0                                  \n",
       "4                                                  0                                  \n",
       "\n",
       "   SELLER NAME_WELLS FARGO BANK, N.A.  NUMBER OF BORROWERS_2  \\\n",
       "0                                   0                      0   \n",
       "1                                   0                      0   \n",
       "2                                   0                      1   \n",
       "3                                   0                      0   \n",
       "4                                   0                      0   \n",
       "\n",
       "   NUMBER OF BORROWERS_3  NUMBER OF BORROWERS_4  NUMBER OF BORROWERS_5  \\\n",
       "0                      0                      0                      0   \n",
       "1                      0                      0                      0   \n",
       "2                      0                      0                      0   \n",
       "3                      0                      0                      0   \n",
       "4                      0                      0                      0   \n",
       "\n",
       "   NUMBER OF BORROWERS_6  FIRST TIME HOME BUYER INDICATOR_Y  LOAN PURPOSE_P  \\\n",
       "0                      0                                  0               0   \n",
       "1                      0                                  0               1   \n",
       "2                      0                                  0               1   \n",
       "3                      0                                  0               0   \n",
       "4                      0                                  0               0   \n",
       "\n",
       "   LOAN PURPOSE_R  PROPERTY TYPE_CP  PROPERTY TYPE_MH  PROPERTY TYPE_PU  \\\n",
       "0               0                 0                 0                 0   \n",
       "1               0                 0                 0                 0   \n",
       "2               0                 0                 0                 1   \n",
       "3               1                 0                 0                 0   \n",
       "4               0                 0                 0                 0   \n",
       "\n",
       "   PROPERTY TYPE_SF  NUMBER OF UNITS_2  NUMBER OF UNITS_3  NUMBER OF UNITS_4  \\\n",
       "0                 1                  0                  0                  0   \n",
       "1                 1                  0                  0                  0   \n",
       "2                 0                  0                  0                  0   \n",
       "3                 1                  0                  0                  0   \n",
       "4                 1                  0                  0                  0   \n",
       "\n",
       "   OCCUPANCY TYPE_P  OCCUPANCY TYPE_S  PROPERTY STATE_AL  PROPERTY STATE_AR  \\\n",
       "0                 1                 0                  0                  0   \n",
       "1                 1                 0                  0                  0   \n",
       "2                 1                 0                  0                  0   \n",
       "3                 1                 0                  0                  0   \n",
       "4                 1                 0                  0                  0   \n",
       "\n",
       "   PROPERTY STATE_AZ  PROPERTY STATE_CA  PROPERTY STATE_CO  PROPERTY STATE_CT  \\\n",
       "0                  0                  0                  0                  0   \n",
       "1                  0                  0                  0                  0   \n",
       "2                  0                  0                  0                  0   \n",
       "3                  0                  0                  0                  0   \n",
       "4                  0                  0                  0                  0   \n",
       "\n",
       "   PROPERTY STATE_DC  PROPERTY STATE_DE  PROPERTY STATE_FL  PROPERTY STATE_GA  \\\n",
       "0                  0                  0                  0                  0   \n",
       "1                  0                  0                  0                  0   \n",
       "2                  0                  0                  0                  1   \n",
       "3                  0                  0                  0                  0   \n",
       "4                  0                  0                  0                  0   \n",
       "\n",
       "   PROPERTY STATE_GU  PROPERTY STATE_HI  PROPERTY STATE_IA  PROPERTY STATE_ID  \\\n",
       "0                  0                  0                  0                  0   \n",
       "1                  0                  0                  0                  0   \n",
       "2                  0                  0                  0                  0   \n",
       "3                  0                  0                  0                  0   \n",
       "4                  0                  0                  0                  0   \n",
       "\n",
       "   PROPERTY STATE_IL  PROPERTY STATE_IN  PROPERTY STATE_KS  PROPERTY STATE_KY  \\\n",
       "0                  0                  0                  0                  0   \n",
       "1                  0                  0                  0                  0   \n",
       "2                  0                  0                  0                  0   \n",
       "3                  0                  1                  0                  0   \n",
       "4                  0                  0                  0                  0   \n",
       "\n",
       "   PROPERTY STATE_LA  PROPERTY STATE_MA  PROPERTY STATE_MD  PROPERTY STATE_ME  \\\n",
       "0                  0                  0                  1                  0   \n",
       "1                  0                  0                  0                  0   \n",
       "2                  0                  0                  0                  0   \n",
       "3                  0                  0                  0                  0   \n",
       "4                  0                  0                  0                  0   \n",
       "\n",
       "   PROPERTY STATE_MI  PROPERTY STATE_MN  PROPERTY STATE_MO  PROPERTY STATE_MS  \\\n",
       "0                  0                  0                  0                  0   \n",
       "1                  1                  0                  0                  0   \n",
       "2                  0                  0                  0                  0   \n",
       "3                  0                  0                  0                  0   \n",
       "4                  0                  0                  0                  0   \n",
       "\n",
       "   PROPERTY STATE_MT  PROPERTY STATE_NC  PROPERTY STATE_ND  PROPERTY STATE_NE  \\\n",
       "0                  0                  0                  0                  0   \n",
       "1                  0                  0                  0                  0   \n",
       "2                  0                  0                  0                  0   \n",
       "3                  0                  0                  0                  0   \n",
       "4                  0                  0                  0                  0   \n",
       "\n",
       "   PROPERTY STATE_NH  PROPERTY STATE_NJ  PROPERTY STATE_NM  PROPERTY STATE_NV  \\\n",
       "0                  0                  0                  0                  0   \n",
       "1                  0                  0                  0                  0   \n",
       "2                  0                  0                  0                  0   \n",
       "3                  0                  0                  0                  0   \n",
       "4                  0                  0                  0                  0   \n",
       "\n",
       "   PROPERTY STATE_NY  PROPERTY STATE_OH  PROPERTY STATE_OK  PROPERTY STATE_OR  \\\n",
       "0                  0                  0                  0                  0   \n",
       "1                  0                  0                  0                  0   \n",
       "2                  0                  0                  0                  0   \n",
       "3                  0                  0                  0                  0   \n",
       "4                  0                  0                  0                  0   \n",
       "\n",
       "   PROPERTY STATE_PA  PROPERTY STATE_PR  PROPERTY STATE_RI  PROPERTY STATE_SC  \\\n",
       "0                  0                  0                  0                  0   \n",
       "1                  0                  0                  0                  0   \n",
       "2                  0                  0                  0                  0   \n",
       "3                  0                  0                  0                  0   \n",
       "4                  0                  0                  0                  0   \n",
       "\n",
       "   PROPERTY STATE_SD  PROPERTY STATE_TN  PROPERTY STATE_TX  PROPERTY STATE_UT  \\\n",
       "0                  0                  0                  0                  0   \n",
       "1                  0                  0                  0                  0   \n",
       "2                  0                  0                  0                  0   \n",
       "3                  0                  0                  0                  0   \n",
       "4                  0                  0                  1                  0   \n",
       "\n",
       "   PROPERTY STATE_VA  PROPERTY STATE_VI  PROPERTY STATE_VT  PROPERTY STATE_WA  \\\n",
       "0                  0                  0                  0                  0   \n",
       "1                  0                  0                  0                  0   \n",
       "2                  0                  0                  0                  0   \n",
       "3                  0                  0                  0                  0   \n",
       "4                  0                  0                  0                  0   \n",
       "\n",
       "   PROPERTY STATE_WI  PROPERTY STATE_WV  PROPERTY STATE_WY  \n",
       "0                  0                  0                  0  \n",
       "1                  0                  0                  0  \n",
       "2                  0                  0                  0  \n",
       "3                  0                  0                  0  \n",
       "4                  0                  0                  0  "
      ]
     },
     "execution_count": 63,
     "metadata": {},
     "output_type": "execute_result"
    }
   ],
   "source": [
    "mbs_scaled_final.head()"
   ]
  },
  {
   "cell_type": "code",
   "execution_count": 64,
   "metadata": {},
   "outputs": [
    {
     "data": {
      "text/plain": [
       "(1807092, 99)"
      ]
     },
     "execution_count": 64,
     "metadata": {},
     "output_type": "execute_result"
    }
   ],
   "source": [
    "mbs_scaled_final.shape"
   ]
  },
  {
   "cell_type": "code",
   "execution_count": 65,
   "metadata": {},
   "outputs": [],
   "source": [
    "# Saving the clean , standardized data data \n",
    "#mbs_scaled_final.to_csv(\"C:\\\\DATASCIENCE\\\\11-DONO-PROJECT\\\\2-Jigsaw_Dono\\\\DATASTORE\\\\mbs_scaled_final1234.csv\", sep='\\t')"
   ]
  },
  {
   "cell_type": "markdown",
   "metadata": {},
   "source": [
    "## UNDERSAMPLING"
   ]
  },
  {
   "cell_type": "code",
   "execution_count": 66,
   "metadata": {},
   "outputs": [],
   "source": [
    "# for undersampling we need a portion of majority class and will take whole data of minority class\n",
    "\n",
    "Default_indices= np.array(mbs_scaled_final[mbs_scaled_final['DEFAULT STATUS']==1].index)\n",
    "normal_indices = np.array(mbs_scaled_final[mbs_scaled_final['DEFAULT STATUS']==0].index)\n",
    "\n",
    "Normal_indices_undersample = np.array(np.random.choice(normal_indices, len(Default_indices),replace=False))\n",
    "undersample_data= np.concatenate([Default_indices,Normal_indices_undersample])"
   ]
  },
  {
   "cell_type": "code",
   "execution_count": 67,
   "metadata": {},
   "outputs": [],
   "source": [
    "undersample_data = mbs_scaled_final.loc[undersample_data]"
   ]
  },
  {
   "cell_type": "code",
   "execution_count": 68,
   "metadata": {},
   "outputs": [
    {
     "data": {
      "text/plain": [
       "DEFAULT STATUS\n",
       "0    8478\n",
       "1    8478\n",
       "dtype: int64"
      ]
     },
     "execution_count": 68,
     "metadata": {},
     "output_type": "execute_result"
    }
   ],
   "source": [
    "undersample_data .groupby(['DEFAULT STATUS']).size()"
   ]
  },
  {
   "cell_type": "markdown",
   "metadata": {},
   "source": [
    "### Various proportion of data wrt Default status ('1') were tried however 50% default status yeilded best prediction result. "
   ]
  },
  {
   "cell_type": "markdown",
   "metadata": {},
   "source": [
    "## TEST TRAIN SPLIT"
   ]
  },
  {
   "cell_type": "code",
   "execution_count": 69,
   "metadata": {},
   "outputs": [],
   "source": [
    "from sklearn.model_selection import train_test_split\n",
    "\n",
    "X_train, X_test, y_train, y_test = train_test_split(undersample_data.drop(\"DEFAULT STATUS\", axis=1),\n",
    "                                                    undersample_data[[\"DEFAULT STATUS\"]], test_size = 0.3,\\\n",
    "                                                    random_state=111)"
   ]
  },
  {
   "cell_type": "code",
   "execution_count": 70,
   "metadata": {},
   "outputs": [
    {
     "data": {
      "text/html": [
       "<div>\n",
       "<style scoped>\n",
       "    .dataframe tbody tr th:only-of-type {\n",
       "        vertical-align: middle;\n",
       "    }\n",
       "\n",
       "    .dataframe tbody tr th {\n",
       "        vertical-align: top;\n",
       "    }\n",
       "\n",
       "    .dataframe thead th {\n",
       "        text-align: right;\n",
       "    }\n",
       "</style>\n",
       "<table border=\"1\" class=\"dataframe\">\n",
       "  <thead>\n",
       "    <tr style=\"text-align: right;\">\n",
       "      <th></th>\n",
       "      <th>ORIGINAL INTEREST RATE</th>\n",
       "      <th>ORIGINAL UPB</th>\n",
       "      <th>ORIGINAL LOAN TERM</th>\n",
       "      <th>ORIGINAL LOAN-TO-VALUE (LTV)</th>\n",
       "      <th>ORIGINAL DEBT TO INCOME RATIO</th>\n",
       "      <th>BORROWER CREDIT SCORE AT ORIGINATION</th>\n",
       "      <th>ORIGINATION CHANNEL_C</th>\n",
       "      <th>ORIGINATION CHANNEL_R</th>\n",
       "      <th>SELLER NAME_CALIBER HOME LOANS, INC.</th>\n",
       "      <th>SELLER NAME_CITIMORTGAGE, INC.</th>\n",
       "      <th>SELLER NAME_DITECH FINANCIAL LLC</th>\n",
       "      <th>SELLER NAME_FAIRWAY INDEPENDENT MORTGAGE CORPORATION</th>\n",
       "      <th>SELLER NAME_FLAGSTAR BANK, FSB</th>\n",
       "      <th>SELLER NAME_FRANKLIN AMERICAN MORTGAGE COMPANY</th>\n",
       "      <th>SELLER NAME_FREEDOM MORTGAGE CORP.</th>\n",
       "      <th>SELLER NAME_GUILD MORTGAGE COMPANY</th>\n",
       "      <th>SELLER NAME_JPMORGAN CHASE BANK, NATIONAL ASSOCIATION</th>\n",
       "      <th>SELLER NAME_LOANDEPOT.COM, LLC</th>\n",
       "      <th>SELLER NAME_MOVEMENT MORTGAGE, LLC</th>\n",
       "      <th>SELLER NAME_NATIONSTAR MORTGAGE, LLC</th>\n",
       "      <th>SELLER NAME_OTHER</th>\n",
       "      <th>SELLER NAME_PENNYMAC CORP.</th>\n",
       "      <th>SELLER NAME_PMTT4</th>\n",
       "      <th>SELLER NAME_QUICKEN LOANS INC.</th>\n",
       "      <th>SELLER NAME_SUNTRUST BANK</th>\n",
       "      <th>SELLER NAME_U.S. BANK N.A.</th>\n",
       "      <th>SELLER NAME_UNITED SHORE FINANCIAL SERVICES, LLC D/B/A UNITED WHOLESALE MORTGAGE</th>\n",
       "      <th>SELLER NAME_WELLS FARGO BANK, N.A.</th>\n",
       "      <th>NUMBER OF BORROWERS_2</th>\n",
       "      <th>NUMBER OF BORROWERS_3</th>\n",
       "      <th>NUMBER OF BORROWERS_4</th>\n",
       "      <th>NUMBER OF BORROWERS_5</th>\n",
       "      <th>NUMBER OF BORROWERS_6</th>\n",
       "      <th>FIRST TIME HOME BUYER INDICATOR_Y</th>\n",
       "      <th>LOAN PURPOSE_P</th>\n",
       "      <th>LOAN PURPOSE_R</th>\n",
       "      <th>PROPERTY TYPE_CP</th>\n",
       "      <th>PROPERTY TYPE_MH</th>\n",
       "      <th>PROPERTY TYPE_PU</th>\n",
       "      <th>PROPERTY TYPE_SF</th>\n",
       "      <th>NUMBER OF UNITS_2</th>\n",
       "      <th>NUMBER OF UNITS_3</th>\n",
       "      <th>NUMBER OF UNITS_4</th>\n",
       "      <th>OCCUPANCY TYPE_P</th>\n",
       "      <th>OCCUPANCY TYPE_S</th>\n",
       "      <th>PROPERTY STATE_AL</th>\n",
       "      <th>PROPERTY STATE_AR</th>\n",
       "      <th>PROPERTY STATE_AZ</th>\n",
       "      <th>PROPERTY STATE_CA</th>\n",
       "      <th>PROPERTY STATE_CO</th>\n",
       "      <th>PROPERTY STATE_CT</th>\n",
       "      <th>PROPERTY STATE_DC</th>\n",
       "      <th>PROPERTY STATE_DE</th>\n",
       "      <th>PROPERTY STATE_FL</th>\n",
       "      <th>PROPERTY STATE_GA</th>\n",
       "      <th>PROPERTY STATE_GU</th>\n",
       "      <th>PROPERTY STATE_HI</th>\n",
       "      <th>PROPERTY STATE_IA</th>\n",
       "      <th>PROPERTY STATE_ID</th>\n",
       "      <th>PROPERTY STATE_IL</th>\n",
       "      <th>PROPERTY STATE_IN</th>\n",
       "      <th>PROPERTY STATE_KS</th>\n",
       "      <th>PROPERTY STATE_KY</th>\n",
       "      <th>PROPERTY STATE_LA</th>\n",
       "      <th>PROPERTY STATE_MA</th>\n",
       "      <th>PROPERTY STATE_MD</th>\n",
       "      <th>PROPERTY STATE_ME</th>\n",
       "      <th>PROPERTY STATE_MI</th>\n",
       "      <th>PROPERTY STATE_MN</th>\n",
       "      <th>PROPERTY STATE_MO</th>\n",
       "      <th>PROPERTY STATE_MS</th>\n",
       "      <th>PROPERTY STATE_MT</th>\n",
       "      <th>PROPERTY STATE_NC</th>\n",
       "      <th>PROPERTY STATE_ND</th>\n",
       "      <th>PROPERTY STATE_NE</th>\n",
       "      <th>PROPERTY STATE_NH</th>\n",
       "      <th>PROPERTY STATE_NJ</th>\n",
       "      <th>PROPERTY STATE_NM</th>\n",
       "      <th>PROPERTY STATE_NV</th>\n",
       "      <th>PROPERTY STATE_NY</th>\n",
       "      <th>PROPERTY STATE_OH</th>\n",
       "      <th>PROPERTY STATE_OK</th>\n",
       "      <th>PROPERTY STATE_OR</th>\n",
       "      <th>PROPERTY STATE_PA</th>\n",
       "      <th>PROPERTY STATE_PR</th>\n",
       "      <th>PROPERTY STATE_RI</th>\n",
       "      <th>PROPERTY STATE_SC</th>\n",
       "      <th>PROPERTY STATE_SD</th>\n",
       "      <th>PROPERTY STATE_TN</th>\n",
       "      <th>PROPERTY STATE_TX</th>\n",
       "      <th>PROPERTY STATE_UT</th>\n",
       "      <th>PROPERTY STATE_VA</th>\n",
       "      <th>PROPERTY STATE_VI</th>\n",
       "      <th>PROPERTY STATE_VT</th>\n",
       "      <th>PROPERTY STATE_WA</th>\n",
       "      <th>PROPERTY STATE_WI</th>\n",
       "      <th>PROPERTY STATE_WV</th>\n",
       "      <th>PROPERTY STATE_WY</th>\n",
       "    </tr>\n",
       "  </thead>\n",
       "  <tbody>\n",
       "    <tr>\n",
       "      <th>973031</th>\n",
       "      <td>2.283924</td>\n",
       "      <td>0.958819</td>\n",
       "      <td>0.545056</td>\n",
       "      <td>-0.028535</td>\n",
       "      <td>1.145817</td>\n",
       "      <td>-2.268428</td>\n",
       "      <td>1</td>\n",
       "      <td>0</td>\n",
       "      <td>0</td>\n",
       "      <td>0</td>\n",
       "      <td>0</td>\n",
       "      <td>0</td>\n",
       "      <td>0</td>\n",
       "      <td>0</td>\n",
       "      <td>0</td>\n",
       "      <td>0</td>\n",
       "      <td>0</td>\n",
       "      <td>0</td>\n",
       "      <td>0</td>\n",
       "      <td>0</td>\n",
       "      <td>0</td>\n",
       "      <td>0</td>\n",
       "      <td>0</td>\n",
       "      <td>0</td>\n",
       "      <td>0</td>\n",
       "      <td>0</td>\n",
       "      <td>0</td>\n",
       "      <td>1</td>\n",
       "      <td>0</td>\n",
       "      <td>0</td>\n",
       "      <td>0</td>\n",
       "      <td>0</td>\n",
       "      <td>0</td>\n",
       "      <td>0</td>\n",
       "      <td>0</td>\n",
       "      <td>0</td>\n",
       "      <td>0</td>\n",
       "      <td>0</td>\n",
       "      <td>0</td>\n",
       "      <td>1</td>\n",
       "      <td>0</td>\n",
       "      <td>0</td>\n",
       "      <td>0</td>\n",
       "      <td>1</td>\n",
       "      <td>0</td>\n",
       "      <td>0</td>\n",
       "      <td>0</td>\n",
       "      <td>0</td>\n",
       "      <td>0</td>\n",
       "      <td>0</td>\n",
       "      <td>0</td>\n",
       "      <td>0</td>\n",
       "      <td>0</td>\n",
       "      <td>0</td>\n",
       "      <td>0</td>\n",
       "      <td>0</td>\n",
       "      <td>0</td>\n",
       "      <td>0</td>\n",
       "      <td>0</td>\n",
       "      <td>0</td>\n",
       "      <td>0</td>\n",
       "      <td>0</td>\n",
       "      <td>0</td>\n",
       "      <td>0</td>\n",
       "      <td>0</td>\n",
       "      <td>0</td>\n",
       "      <td>0</td>\n",
       "      <td>0</td>\n",
       "      <td>0</td>\n",
       "      <td>0</td>\n",
       "      <td>0</td>\n",
       "      <td>0</td>\n",
       "      <td>0</td>\n",
       "      <td>0</td>\n",
       "      <td>0</td>\n",
       "      <td>0</td>\n",
       "      <td>1</td>\n",
       "      <td>0</td>\n",
       "      <td>0</td>\n",
       "      <td>0</td>\n",
       "      <td>0</td>\n",
       "      <td>0</td>\n",
       "      <td>0</td>\n",
       "      <td>0</td>\n",
       "      <td>0</td>\n",
       "      <td>0</td>\n",
       "      <td>0</td>\n",
       "      <td>0</td>\n",
       "      <td>0</td>\n",
       "      <td>0</td>\n",
       "      <td>0</td>\n",
       "      <td>0</td>\n",
       "      <td>0</td>\n",
       "      <td>0</td>\n",
       "      <td>0</td>\n",
       "      <td>0</td>\n",
       "      <td>0</td>\n",
       "      <td>0</td>\n",
       "    </tr>\n",
       "    <tr>\n",
       "      <th>1704200</th>\n",
       "      <td>0.516016</td>\n",
       "      <td>-0.771895</td>\n",
       "      <td>0.545056</td>\n",
       "      <td>0.029368</td>\n",
       "      <td>-2.132073</td>\n",
       "      <td>1.262642</td>\n",
       "      <td>0</td>\n",
       "      <td>1</td>\n",
       "      <td>0</td>\n",
       "      <td>0</td>\n",
       "      <td>0</td>\n",
       "      <td>0</td>\n",
       "      <td>0</td>\n",
       "      <td>0</td>\n",
       "      <td>0</td>\n",
       "      <td>0</td>\n",
       "      <td>0</td>\n",
       "      <td>0</td>\n",
       "      <td>0</td>\n",
       "      <td>0</td>\n",
       "      <td>1</td>\n",
       "      <td>0</td>\n",
       "      <td>0</td>\n",
       "      <td>0</td>\n",
       "      <td>0</td>\n",
       "      <td>0</td>\n",
       "      <td>0</td>\n",
       "      <td>0</td>\n",
       "      <td>1</td>\n",
       "      <td>0</td>\n",
       "      <td>0</td>\n",
       "      <td>0</td>\n",
       "      <td>0</td>\n",
       "      <td>1</td>\n",
       "      <td>1</td>\n",
       "      <td>0</td>\n",
       "      <td>0</td>\n",
       "      <td>0</td>\n",
       "      <td>0</td>\n",
       "      <td>1</td>\n",
       "      <td>0</td>\n",
       "      <td>0</td>\n",
       "      <td>0</td>\n",
       "      <td>1</td>\n",
       "      <td>0</td>\n",
       "      <td>0</td>\n",
       "      <td>0</td>\n",
       "      <td>0</td>\n",
       "      <td>0</td>\n",
       "      <td>0</td>\n",
       "      <td>0</td>\n",
       "      <td>0</td>\n",
       "      <td>0</td>\n",
       "      <td>0</td>\n",
       "      <td>0</td>\n",
       "      <td>0</td>\n",
       "      <td>0</td>\n",
       "      <td>0</td>\n",
       "      <td>0</td>\n",
       "      <td>0</td>\n",
       "      <td>0</td>\n",
       "      <td>0</td>\n",
       "      <td>0</td>\n",
       "      <td>0</td>\n",
       "      <td>0</td>\n",
       "      <td>0</td>\n",
       "      <td>0</td>\n",
       "      <td>0</td>\n",
       "      <td>0</td>\n",
       "      <td>0</td>\n",
       "      <td>0</td>\n",
       "      <td>0</td>\n",
       "      <td>0</td>\n",
       "      <td>0</td>\n",
       "      <td>0</td>\n",
       "      <td>0</td>\n",
       "      <td>0</td>\n",
       "      <td>0</td>\n",
       "      <td>0</td>\n",
       "      <td>0</td>\n",
       "      <td>0</td>\n",
       "      <td>0</td>\n",
       "      <td>0</td>\n",
       "      <td>0</td>\n",
       "      <td>0</td>\n",
       "      <td>0</td>\n",
       "      <td>0</td>\n",
       "      <td>0</td>\n",
       "      <td>0</td>\n",
       "      <td>0</td>\n",
       "      <td>0</td>\n",
       "      <td>0</td>\n",
       "      <td>0</td>\n",
       "      <td>0</td>\n",
       "      <td>0</td>\n",
       "      <td>1</td>\n",
       "      <td>0</td>\n",
       "      <td>0</td>\n",
       "    </tr>\n",
       "    <tr>\n",
       "      <th>1045820</th>\n",
       "      <td>1.273691</td>\n",
       "      <td>-0.358212</td>\n",
       "      <td>0.545056</td>\n",
       "      <td>0.087271</td>\n",
       "      <td>0.380976</td>\n",
       "      <td>-1.887834</td>\n",
       "      <td>0</td>\n",
       "      <td>1</td>\n",
       "      <td>0</td>\n",
       "      <td>0</td>\n",
       "      <td>0</td>\n",
       "      <td>0</td>\n",
       "      <td>0</td>\n",
       "      <td>0</td>\n",
       "      <td>0</td>\n",
       "      <td>0</td>\n",
       "      <td>0</td>\n",
       "      <td>0</td>\n",
       "      <td>0</td>\n",
       "      <td>0</td>\n",
       "      <td>1</td>\n",
       "      <td>0</td>\n",
       "      <td>0</td>\n",
       "      <td>0</td>\n",
       "      <td>0</td>\n",
       "      <td>0</td>\n",
       "      <td>0</td>\n",
       "      <td>0</td>\n",
       "      <td>0</td>\n",
       "      <td>0</td>\n",
       "      <td>0</td>\n",
       "      <td>0</td>\n",
       "      <td>0</td>\n",
       "      <td>0</td>\n",
       "      <td>0</td>\n",
       "      <td>0</td>\n",
       "      <td>0</td>\n",
       "      <td>0</td>\n",
       "      <td>0</td>\n",
       "      <td>1</td>\n",
       "      <td>0</td>\n",
       "      <td>0</td>\n",
       "      <td>0</td>\n",
       "      <td>1</td>\n",
       "      <td>0</td>\n",
       "      <td>0</td>\n",
       "      <td>0</td>\n",
       "      <td>0</td>\n",
       "      <td>0</td>\n",
       "      <td>0</td>\n",
       "      <td>0</td>\n",
       "      <td>0</td>\n",
       "      <td>0</td>\n",
       "      <td>1</td>\n",
       "      <td>0</td>\n",
       "      <td>0</td>\n",
       "      <td>0</td>\n",
       "      <td>0</td>\n",
       "      <td>0</td>\n",
       "      <td>0</td>\n",
       "      <td>0</td>\n",
       "      <td>0</td>\n",
       "      <td>0</td>\n",
       "      <td>0</td>\n",
       "      <td>0</td>\n",
       "      <td>0</td>\n",
       "      <td>0</td>\n",
       "      <td>0</td>\n",
       "      <td>0</td>\n",
       "      <td>0</td>\n",
       "      <td>0</td>\n",
       "      <td>0</td>\n",
       "      <td>0</td>\n",
       "      <td>0</td>\n",
       "      <td>0</td>\n",
       "      <td>0</td>\n",
       "      <td>0</td>\n",
       "      <td>0</td>\n",
       "      <td>0</td>\n",
       "      <td>0</td>\n",
       "      <td>0</td>\n",
       "      <td>0</td>\n",
       "      <td>0</td>\n",
       "      <td>0</td>\n",
       "      <td>0</td>\n",
       "      <td>0</td>\n",
       "      <td>0</td>\n",
       "      <td>0</td>\n",
       "      <td>0</td>\n",
       "      <td>0</td>\n",
       "      <td>0</td>\n",
       "      <td>0</td>\n",
       "      <td>0</td>\n",
       "      <td>0</td>\n",
       "      <td>0</td>\n",
       "      <td>0</td>\n",
       "      <td>0</td>\n",
       "      <td>0</td>\n",
       "    </tr>\n",
       "    <tr>\n",
       "      <th>1576682</th>\n",
       "      <td>1.021133</td>\n",
       "      <td>-0.898532</td>\n",
       "      <td>-1.892822</td>\n",
       "      <td>-0.318049</td>\n",
       "      <td>1.036554</td>\n",
       "      <td>-2.437581</td>\n",
       "      <td>0</td>\n",
       "      <td>1</td>\n",
       "      <td>0</td>\n",
       "      <td>0</td>\n",
       "      <td>0</td>\n",
       "      <td>0</td>\n",
       "      <td>0</td>\n",
       "      <td>0</td>\n",
       "      <td>0</td>\n",
       "      <td>0</td>\n",
       "      <td>0</td>\n",
       "      <td>0</td>\n",
       "      <td>0</td>\n",
       "      <td>0</td>\n",
       "      <td>0</td>\n",
       "      <td>0</td>\n",
       "      <td>0</td>\n",
       "      <td>1</td>\n",
       "      <td>0</td>\n",
       "      <td>0</td>\n",
       "      <td>0</td>\n",
       "      <td>0</td>\n",
       "      <td>0</td>\n",
       "      <td>0</td>\n",
       "      <td>0</td>\n",
       "      <td>0</td>\n",
       "      <td>0</td>\n",
       "      <td>0</td>\n",
       "      <td>0</td>\n",
       "      <td>0</td>\n",
       "      <td>0</td>\n",
       "      <td>0</td>\n",
       "      <td>0</td>\n",
       "      <td>1</td>\n",
       "      <td>0</td>\n",
       "      <td>0</td>\n",
       "      <td>0</td>\n",
       "      <td>1</td>\n",
       "      <td>0</td>\n",
       "      <td>0</td>\n",
       "      <td>0</td>\n",
       "      <td>0</td>\n",
       "      <td>0</td>\n",
       "      <td>0</td>\n",
       "      <td>0</td>\n",
       "      <td>0</td>\n",
       "      <td>0</td>\n",
       "      <td>0</td>\n",
       "      <td>0</td>\n",
       "      <td>0</td>\n",
       "      <td>0</td>\n",
       "      <td>0</td>\n",
       "      <td>0</td>\n",
       "      <td>0</td>\n",
       "      <td>0</td>\n",
       "      <td>0</td>\n",
       "      <td>0</td>\n",
       "      <td>0</td>\n",
       "      <td>0</td>\n",
       "      <td>0</td>\n",
       "      <td>0</td>\n",
       "      <td>0</td>\n",
       "      <td>0</td>\n",
       "      <td>0</td>\n",
       "      <td>0</td>\n",
       "      <td>0</td>\n",
       "      <td>0</td>\n",
       "      <td>0</td>\n",
       "      <td>0</td>\n",
       "      <td>0</td>\n",
       "      <td>0</td>\n",
       "      <td>0</td>\n",
       "      <td>0</td>\n",
       "      <td>0</td>\n",
       "      <td>0</td>\n",
       "      <td>0</td>\n",
       "      <td>0</td>\n",
       "      <td>0</td>\n",
       "      <td>0</td>\n",
       "      <td>0</td>\n",
       "      <td>0</td>\n",
       "      <td>0</td>\n",
       "      <td>0</td>\n",
       "      <td>1</td>\n",
       "      <td>0</td>\n",
       "      <td>0</td>\n",
       "      <td>0</td>\n",
       "      <td>0</td>\n",
       "      <td>0</td>\n",
       "      <td>0</td>\n",
       "      <td>0</td>\n",
       "      <td>0</td>\n",
       "    </tr>\n",
       "    <tr>\n",
       "      <th>1078028</th>\n",
       "      <td>1.374714</td>\n",
       "      <td>0.815296</td>\n",
       "      <td>0.545056</td>\n",
       "      <td>1.187427</td>\n",
       "      <td>1.145817</td>\n",
       "      <td>-1.507239</td>\n",
       "      <td>0</td>\n",
       "      <td>1</td>\n",
       "      <td>1</td>\n",
       "      <td>0</td>\n",
       "      <td>0</td>\n",
       "      <td>0</td>\n",
       "      <td>0</td>\n",
       "      <td>0</td>\n",
       "      <td>0</td>\n",
       "      <td>0</td>\n",
       "      <td>0</td>\n",
       "      <td>0</td>\n",
       "      <td>0</td>\n",
       "      <td>0</td>\n",
       "      <td>0</td>\n",
       "      <td>0</td>\n",
       "      <td>0</td>\n",
       "      <td>0</td>\n",
       "      <td>0</td>\n",
       "      <td>0</td>\n",
       "      <td>0</td>\n",
       "      <td>0</td>\n",
       "      <td>0</td>\n",
       "      <td>0</td>\n",
       "      <td>0</td>\n",
       "      <td>0</td>\n",
       "      <td>0</td>\n",
       "      <td>0</td>\n",
       "      <td>1</td>\n",
       "      <td>0</td>\n",
       "      <td>0</td>\n",
       "      <td>0</td>\n",
       "      <td>1</td>\n",
       "      <td>0</td>\n",
       "      <td>0</td>\n",
       "      <td>0</td>\n",
       "      <td>0</td>\n",
       "      <td>1</td>\n",
       "      <td>0</td>\n",
       "      <td>0</td>\n",
       "      <td>0</td>\n",
       "      <td>0</td>\n",
       "      <td>0</td>\n",
       "      <td>0</td>\n",
       "      <td>0</td>\n",
       "      <td>0</td>\n",
       "      <td>0</td>\n",
       "      <td>0</td>\n",
       "      <td>0</td>\n",
       "      <td>0</td>\n",
       "      <td>0</td>\n",
       "      <td>0</td>\n",
       "      <td>0</td>\n",
       "      <td>0</td>\n",
       "      <td>0</td>\n",
       "      <td>0</td>\n",
       "      <td>0</td>\n",
       "      <td>0</td>\n",
       "      <td>0</td>\n",
       "      <td>0</td>\n",
       "      <td>0</td>\n",
       "      <td>0</td>\n",
       "      <td>0</td>\n",
       "      <td>0</td>\n",
       "      <td>0</td>\n",
       "      <td>0</td>\n",
       "      <td>0</td>\n",
       "      <td>0</td>\n",
       "      <td>0</td>\n",
       "      <td>0</td>\n",
       "      <td>0</td>\n",
       "      <td>0</td>\n",
       "      <td>0</td>\n",
       "      <td>0</td>\n",
       "      <td>0</td>\n",
       "      <td>0</td>\n",
       "      <td>0</td>\n",
       "      <td>0</td>\n",
       "      <td>0</td>\n",
       "      <td>0</td>\n",
       "      <td>0</td>\n",
       "      <td>0</td>\n",
       "      <td>0</td>\n",
       "      <td>1</td>\n",
       "      <td>0</td>\n",
       "      <td>0</td>\n",
       "      <td>0</td>\n",
       "      <td>0</td>\n",
       "      <td>0</td>\n",
       "      <td>0</td>\n",
       "      <td>0</td>\n",
       "      <td>0</td>\n",
       "    </tr>\n",
       "  </tbody>\n",
       "</table>\n",
       "</div>"
      ],
      "text/plain": [
       "         ORIGINAL INTEREST RATE  ORIGINAL UPB  ORIGINAL LOAN TERM  \\\n",
       "973031                 2.283924      0.958819            0.545056   \n",
       "1704200                0.516016     -0.771895            0.545056   \n",
       "1045820                1.273691     -0.358212            0.545056   \n",
       "1576682                1.021133     -0.898532           -1.892822   \n",
       "1078028                1.374714      0.815296            0.545056   \n",
       "\n",
       "         ORIGINAL LOAN-TO-VALUE (LTV)  ORIGINAL DEBT TO INCOME RATIO  \\\n",
       "973031                      -0.028535                       1.145817   \n",
       "1704200                      0.029368                      -2.132073   \n",
       "1045820                      0.087271                       0.380976   \n",
       "1576682                     -0.318049                       1.036554   \n",
       "1078028                      1.187427                       1.145817   \n",
       "\n",
       "         BORROWER CREDIT SCORE AT ORIGINATION  ORIGINATION CHANNEL_C  \\\n",
       "973031                              -2.268428                      1   \n",
       "1704200                              1.262642                      0   \n",
       "1045820                             -1.887834                      0   \n",
       "1576682                             -2.437581                      0   \n",
       "1078028                             -1.507239                      0   \n",
       "\n",
       "         ORIGINATION CHANNEL_R  SELLER NAME_CALIBER HOME LOANS, INC.  \\\n",
       "973031                       0                                     0   \n",
       "1704200                      1                                     0   \n",
       "1045820                      1                                     0   \n",
       "1576682                      1                                     0   \n",
       "1078028                      1                                     1   \n",
       "\n",
       "         SELLER NAME_CITIMORTGAGE, INC.  SELLER NAME_DITECH FINANCIAL LLC  \\\n",
       "973031                                0                                 0   \n",
       "1704200                               0                                 0   \n",
       "1045820                               0                                 0   \n",
       "1576682                               0                                 0   \n",
       "1078028                               0                                 0   \n",
       "\n",
       "         SELLER NAME_FAIRWAY INDEPENDENT MORTGAGE CORPORATION  \\\n",
       "973031                                                   0      \n",
       "1704200                                                  0      \n",
       "1045820                                                  0      \n",
       "1576682                                                  0      \n",
       "1078028                                                  0      \n",
       "\n",
       "         SELLER NAME_FLAGSTAR BANK, FSB  \\\n",
       "973031                                0   \n",
       "1704200                               0   \n",
       "1045820                               0   \n",
       "1576682                               0   \n",
       "1078028                               0   \n",
       "\n",
       "         SELLER NAME_FRANKLIN AMERICAN MORTGAGE COMPANY  \\\n",
       "973031                                                0   \n",
       "1704200                                               0   \n",
       "1045820                                               0   \n",
       "1576682                                               0   \n",
       "1078028                                               0   \n",
       "\n",
       "         SELLER NAME_FREEDOM MORTGAGE CORP.  \\\n",
       "973031                                    0   \n",
       "1704200                                   0   \n",
       "1045820                                   0   \n",
       "1576682                                   0   \n",
       "1078028                                   0   \n",
       "\n",
       "         SELLER NAME_GUILD MORTGAGE COMPANY  \\\n",
       "973031                                    0   \n",
       "1704200                                   0   \n",
       "1045820                                   0   \n",
       "1576682                                   0   \n",
       "1078028                                   0   \n",
       "\n",
       "         SELLER NAME_JPMORGAN CHASE BANK, NATIONAL ASSOCIATION  \\\n",
       "973031                                                   0       \n",
       "1704200                                                  0       \n",
       "1045820                                                  0       \n",
       "1576682                                                  0       \n",
       "1078028                                                  0       \n",
       "\n",
       "         SELLER NAME_LOANDEPOT.COM, LLC  SELLER NAME_MOVEMENT MORTGAGE, LLC  \\\n",
       "973031                                0                                   0   \n",
       "1704200                               0                                   0   \n",
       "1045820                               0                                   0   \n",
       "1576682                               0                                   0   \n",
       "1078028                               0                                   0   \n",
       "\n",
       "         SELLER NAME_NATIONSTAR MORTGAGE, LLC  SELLER NAME_OTHER  \\\n",
       "973031                                      0                  0   \n",
       "1704200                                     0                  1   \n",
       "1045820                                     0                  1   \n",
       "1576682                                     0                  0   \n",
       "1078028                                     0                  0   \n",
       "\n",
       "         SELLER NAME_PENNYMAC CORP.  SELLER NAME_PMTT4  \\\n",
       "973031                            0                  0   \n",
       "1704200                           0                  0   \n",
       "1045820                           0                  0   \n",
       "1576682                           0                  0   \n",
       "1078028                           0                  0   \n",
       "\n",
       "         SELLER NAME_QUICKEN LOANS INC.  SELLER NAME_SUNTRUST BANK  \\\n",
       "973031                                0                          0   \n",
       "1704200                               0                          0   \n",
       "1045820                               0                          0   \n",
       "1576682                               1                          0   \n",
       "1078028                               0                          0   \n",
       "\n",
       "         SELLER NAME_U.S. BANK N.A.  \\\n",
       "973031                            0   \n",
       "1704200                           0   \n",
       "1045820                           0   \n",
       "1576682                           0   \n",
       "1078028                           0   \n",
       "\n",
       "         SELLER NAME_UNITED SHORE FINANCIAL SERVICES, LLC D/B/A UNITED WHOLESALE MORTGAGE  \\\n",
       "973031                                                   0                                  \n",
       "1704200                                                  0                                  \n",
       "1045820                                                  0                                  \n",
       "1576682                                                  0                                  \n",
       "1078028                                                  0                                  \n",
       "\n",
       "         SELLER NAME_WELLS FARGO BANK, N.A.  NUMBER OF BORROWERS_2  \\\n",
       "973031                                    1                      0   \n",
       "1704200                                   0                      1   \n",
       "1045820                                   0                      0   \n",
       "1576682                                   0                      0   \n",
       "1078028                                   0                      0   \n",
       "\n",
       "         NUMBER OF BORROWERS_3  NUMBER OF BORROWERS_4  NUMBER OF BORROWERS_5  \\\n",
       "973031                       0                      0                      0   \n",
       "1704200                      0                      0                      0   \n",
       "1045820                      0                      0                      0   \n",
       "1576682                      0                      0                      0   \n",
       "1078028                      0                      0                      0   \n",
       "\n",
       "         NUMBER OF BORROWERS_6  FIRST TIME HOME BUYER INDICATOR_Y  \\\n",
       "973031                       0                                  0   \n",
       "1704200                      0                                  1   \n",
       "1045820                      0                                  0   \n",
       "1576682                      0                                  0   \n",
       "1078028                      0                                  0   \n",
       "\n",
       "         LOAN PURPOSE_P  LOAN PURPOSE_R  PROPERTY TYPE_CP  PROPERTY TYPE_MH  \\\n",
       "973031                0               0                 0                 0   \n",
       "1704200               1               0                 0                 0   \n",
       "1045820               0               0                 0                 0   \n",
       "1576682               0               0                 0                 0   \n",
       "1078028               1               0                 0                 0   \n",
       "\n",
       "         PROPERTY TYPE_PU  PROPERTY TYPE_SF  NUMBER OF UNITS_2  \\\n",
       "973031                  0                 1                  0   \n",
       "1704200                 0                 1                  0   \n",
       "1045820                 0                 1                  0   \n",
       "1576682                 0                 1                  0   \n",
       "1078028                 1                 0                  0   \n",
       "\n",
       "         NUMBER OF UNITS_3  NUMBER OF UNITS_4  OCCUPANCY TYPE_P  \\\n",
       "973031                   0                  0                 1   \n",
       "1704200                  0                  0                 1   \n",
       "1045820                  0                  0                 1   \n",
       "1576682                  0                  0                 1   \n",
       "1078028                  0                  0                 1   \n",
       "\n",
       "         OCCUPANCY TYPE_S  PROPERTY STATE_AL  PROPERTY STATE_AR  \\\n",
       "973031                  0                  0                  0   \n",
       "1704200                 0                  0                  0   \n",
       "1045820                 0                  0                  0   \n",
       "1576682                 0                  0                  0   \n",
       "1078028                 0                  0                  0   \n",
       "\n",
       "         PROPERTY STATE_AZ  PROPERTY STATE_CA  PROPERTY STATE_CO  \\\n",
       "973031                   0                  0                  0   \n",
       "1704200                  0                  0                  0   \n",
       "1045820                  0                  0                  0   \n",
       "1576682                  0                  0                  0   \n",
       "1078028                  0                  0                  0   \n",
       "\n",
       "         PROPERTY STATE_CT  PROPERTY STATE_DC  PROPERTY STATE_DE  \\\n",
       "973031                   0                  0                  0   \n",
       "1704200                  0                  0                  0   \n",
       "1045820                  0                  0                  0   \n",
       "1576682                  0                  0                  0   \n",
       "1078028                  0                  0                  0   \n",
       "\n",
       "         PROPERTY STATE_FL  PROPERTY STATE_GA  PROPERTY STATE_GU  \\\n",
       "973031                   0                  0                  0   \n",
       "1704200                  0                  0                  0   \n",
       "1045820                  1                  0                  0   \n",
       "1576682                  0                  0                  0   \n",
       "1078028                  0                  0                  0   \n",
       "\n",
       "         PROPERTY STATE_HI  PROPERTY STATE_IA  PROPERTY STATE_ID  \\\n",
       "973031                   0                  0                  0   \n",
       "1704200                  0                  0                  0   \n",
       "1045820                  0                  0                  0   \n",
       "1576682                  0                  0                  0   \n",
       "1078028                  0                  0                  0   \n",
       "\n",
       "         PROPERTY STATE_IL  PROPERTY STATE_IN  PROPERTY STATE_KS  \\\n",
       "973031                   0                  0                  0   \n",
       "1704200                  0                  0                  0   \n",
       "1045820                  0                  0                  0   \n",
       "1576682                  0                  0                  0   \n",
       "1078028                  0                  0                  0   \n",
       "\n",
       "         PROPERTY STATE_KY  PROPERTY STATE_LA  PROPERTY STATE_MA  \\\n",
       "973031                   0                  0                  0   \n",
       "1704200                  0                  0                  0   \n",
       "1045820                  0                  0                  0   \n",
       "1576682                  0                  0                  0   \n",
       "1078028                  0                  0                  0   \n",
       "\n",
       "         PROPERTY STATE_MD  PROPERTY STATE_ME  PROPERTY STATE_MI  \\\n",
       "973031                   0                  0                  0   \n",
       "1704200                  0                  0                  0   \n",
       "1045820                  0                  0                  0   \n",
       "1576682                  0                  0                  0   \n",
       "1078028                  0                  0                  0   \n",
       "\n",
       "         PROPERTY STATE_MN  PROPERTY STATE_MO  PROPERTY STATE_MS  \\\n",
       "973031                   0                  0                  0   \n",
       "1704200                  0                  0                  0   \n",
       "1045820                  0                  0                  0   \n",
       "1576682                  0                  0                  0   \n",
       "1078028                  0                  0                  0   \n",
       "\n",
       "         PROPERTY STATE_MT  PROPERTY STATE_NC  PROPERTY STATE_ND  \\\n",
       "973031                   0                  0                  0   \n",
       "1704200                  0                  0                  0   \n",
       "1045820                  0                  0                  0   \n",
       "1576682                  0                  0                  0   \n",
       "1078028                  0                  0                  0   \n",
       "\n",
       "         PROPERTY STATE_NE  PROPERTY STATE_NH  PROPERTY STATE_NJ  \\\n",
       "973031                   0                  0                  1   \n",
       "1704200                  0                  0                  0   \n",
       "1045820                  0                  0                  0   \n",
       "1576682                  0                  0                  0   \n",
       "1078028                  0                  0                  0   \n",
       "\n",
       "         PROPERTY STATE_NM  PROPERTY STATE_NV  PROPERTY STATE_NY  \\\n",
       "973031                   0                  0                  0   \n",
       "1704200                  0                  0                  0   \n",
       "1045820                  0                  0                  0   \n",
       "1576682                  0                  0                  0   \n",
       "1078028                  0                  0                  0   \n",
       "\n",
       "         PROPERTY STATE_OH  PROPERTY STATE_OK  PROPERTY STATE_OR  \\\n",
       "973031                   0                  0                  0   \n",
       "1704200                  0                  0                  0   \n",
       "1045820                  0                  0                  0   \n",
       "1576682                  0                  0                  0   \n",
       "1078028                  0                  0                  0   \n",
       "\n",
       "         PROPERTY STATE_PA  PROPERTY STATE_PR  PROPERTY STATE_RI  \\\n",
       "973031                   0                  0                  0   \n",
       "1704200                  0                  0                  0   \n",
       "1045820                  0                  0                  0   \n",
       "1576682                  0                  0                  0   \n",
       "1078028                  0                  0                  0   \n",
       "\n",
       "         PROPERTY STATE_SC  PROPERTY STATE_SD  PROPERTY STATE_TN  \\\n",
       "973031                   0                  0                  0   \n",
       "1704200                  0                  0                  0   \n",
       "1045820                  0                  0                  0   \n",
       "1576682                  0                  0                  0   \n",
       "1078028                  0                  0                  0   \n",
       "\n",
       "         PROPERTY STATE_TX  PROPERTY STATE_UT  PROPERTY STATE_VA  \\\n",
       "973031                   0                  0                  0   \n",
       "1704200                  0                  0                  0   \n",
       "1045820                  0                  0                  0   \n",
       "1576682                  1                  0                  0   \n",
       "1078028                  1                  0                  0   \n",
       "\n",
       "         PROPERTY STATE_VI  PROPERTY STATE_VT  PROPERTY STATE_WA  \\\n",
       "973031                   0                  0                  0   \n",
       "1704200                  0                  0                  0   \n",
       "1045820                  0                  0                  0   \n",
       "1576682                  0                  0                  0   \n",
       "1078028                  0                  0                  0   \n",
       "\n",
       "         PROPERTY STATE_WI  PROPERTY STATE_WV  PROPERTY STATE_WY  \n",
       "973031                   0                  0                  0  \n",
       "1704200                  1                  0                  0  \n",
       "1045820                  0                  0                  0  \n",
       "1576682                  0                  0                  0  \n",
       "1078028                  0                  0                  0  "
      ]
     },
     "execution_count": 70,
     "metadata": {},
     "output_type": "execute_result"
    }
   ],
   "source": [
    "X_train.head()"
   ]
  },
  {
   "cell_type": "code",
   "execution_count": 71,
   "metadata": {},
   "outputs": [
    {
     "data": {
      "text/plain": [
       "(11869, 98)"
      ]
     },
     "execution_count": 71,
     "metadata": {},
     "output_type": "execute_result"
    }
   ],
   "source": [
    "X_train.shape"
   ]
  },
  {
   "cell_type": "code",
   "execution_count": 72,
   "metadata": {},
   "outputs": [
    {
     "data": {
      "text/plain": [
       "(5087, 98)"
      ]
     },
     "execution_count": 72,
     "metadata": {},
     "output_type": "execute_result"
    }
   ],
   "source": [
    "X_test.shape"
   ]
  },
  {
   "cell_type": "code",
   "execution_count": 73,
   "metadata": {},
   "outputs": [],
   "source": [
    "# Saving these files to use in ANN\n",
    "#X_train.to_csv(\"C:\\\\DATASCIENCE\\\\11-DONO-PROJECT\\\\2-Jigsaw_Dono\\\\DATASTORE\\\\X_trainundersample.csv\", sep='\\t')"
   ]
  },
  {
   "cell_type": "code",
   "execution_count": 74,
   "metadata": {},
   "outputs": [],
   "source": [
    "# Saving these files to use in ANN\n",
    "#y_train.to_csv(\"C:\\\\DATASCIENCE\\\\11-DONO-PROJECT\\\\2-Jigsaw_Dono\\\\DATASTORE\\\\y_trainundersample.csv\", sep='\\t')"
   ]
  },
  {
   "cell_type": "markdown",
   "metadata": {},
   "source": [
    "## LOGISTIC REGRESSION WITH UNDERSAMPLING"
   ]
  },
  {
   "cell_type": "code",
   "execution_count": 75,
   "metadata": {},
   "outputs": [
    {
     "name": "stdout",
     "output_type": "stream",
     "text": [
      " Accuracy Score: 0.7888735993709456\n",
      "              precision    recall  f1-score   support\n",
      "\n",
      "           0       0.80      0.79      0.79      2588\n",
      "           1       0.78      0.79      0.79      2499\n",
      "\n",
      "   micro avg       0.79      0.79      0.79      5087\n",
      "   macro avg       0.79      0.79      0.79      5087\n",
      "weighted avg       0.79      0.79      0.79      5087\n",
      "\n"
     ]
    },
    {
     "data": {
      "text/html": [
       "<div>\n",
       "<style scoped>\n",
       "    .dataframe tbody tr th:only-of-type {\n",
       "        vertical-align: middle;\n",
       "    }\n",
       "\n",
       "    .dataframe tbody tr th {\n",
       "        vertical-align: top;\n",
       "    }\n",
       "\n",
       "    .dataframe thead th {\n",
       "        text-align: right;\n",
       "    }\n",
       "</style>\n",
       "<table border=\"1\" class=\"dataframe\">\n",
       "  <thead>\n",
       "    <tr style=\"text-align: right;\">\n",
       "      <th></th>\n",
       "      <th>Predicted neg</th>\n",
       "      <th>Predicted pos</th>\n",
       "    </tr>\n",
       "  </thead>\n",
       "  <tbody>\n",
       "    <tr>\n",
       "      <th>Actual neg</th>\n",
       "      <td>2037</td>\n",
       "      <td>551</td>\n",
       "    </tr>\n",
       "    <tr>\n",
       "      <th>Actual pos</th>\n",
       "      <td>523</td>\n",
       "      <td>1976</td>\n",
       "    </tr>\n",
       "  </tbody>\n",
       "</table>\n",
       "</div>"
      ],
      "text/plain": [
       "            Predicted neg  Predicted pos\n",
       "Actual neg           2037            551\n",
       "Actual pos            523           1976"
      ]
     },
     "execution_count": 75,
     "metadata": {},
     "output_type": "execute_result"
    }
   ],
   "source": [
    "from sklearn.linear_model import LogisticRegression\n",
    "from sklearn.metrics import accuracy_score,precision_score, recall_score\n",
    "from sklearn.metrics import confusion_matrix\n",
    "%matplotlib inline\n",
    "from sklearn.metrics import classification_report\n",
    "\n",
    "\n",
    "logit1 = LogisticRegression()\n",
    "logit1.fit(X_train, y_train)\n",
    "predictions = logit1.predict(X_test)\n",
    "print(\" Accuracy Score:\",logit1.score(X_test, y_test))\n",
    "print(classification_report(y_test,predictions))\n",
    "\n",
    "confusion_mat = confusion_matrix(y_test, predictions)\n",
    "confusion_df = pd.DataFrame(confusion_mat, index=['Actual neg','Actual pos'], columns=['Predicted neg','Predicted pos'])\n",
    "confusion_df"
   ]
  },
  {
   "cell_type": "code",
   "execution_count": 76,
   "metadata": {},
   "outputs": [
    {
     "name": "stdout",
     "output_type": "stream",
     "text": [
      "AUC: 0.8647579588249519\n",
      "Optimal_threshold: 0.4320816104717653\n"
     ]
    },
    {
     "data": {
      "image/png": "[encoded data removed]",
      "text/plain": [
       "<Figure size 432x288 with 1 Axes>"
      ]
     },
     "metadata": {
      "needs_background": "light"
     },
     "output_type": "display_data"
    }
   ],
   "source": [
    "from sklearn.metrics import roc_curve, roc_auc_score\n",
    "probs = logit1.predict_proba(X_test)[:, 1]\n",
    "fpr, tpr, threshold = roc_curve(y_test, probs)\n",
    "\n",
    "auc = roc_auc_score(y_test, probs)\n",
    "print(\"AUC:\",auc)\n",
    "\n",
    "optimal_idx = np.argmax(tpr - fpr)\n",
    "optimal_threshold = threshold[optimal_idx]\n",
    "print(\"Optimal_threshold:\",optimal_threshold)\n",
    "\n",
    "\n",
    "fpr, tpr, threshold = roc_curve(y_test, probs)\n",
    "mpl.title('Receiver Operating Characteristic')\n",
    "mpl.plot(fpr, tpr, 'b', label = 'AUC = %0.2f' % auc)\n",
    "mpl.legend(loc = 'lower right')\n",
    "mpl.plot([0, 1], [0, 1],'r--')\n",
    "mpl.xlim([0, 1])\n",
    "mpl.ylim([0, 1])\n",
    "mpl.ylabel('True Positive Rate')\n",
    "mpl.xlabel('False Positive Rate')\n",
    "mpl.show()\n"
   ]
  },
  {
   "cell_type": "code",
   "execution_count": 77,
   "metadata": {},
   "outputs": [
    {
     "name": "stdout",
     "output_type": "stream",
     "text": [
      "              precision    recall  f1-score   support\n",
      "\n",
      "           0       0.83      0.74      0.78      2588\n",
      "           1       0.76      0.84      0.80      2499\n",
      "\n",
      "   micro avg       0.79      0.79      0.79      5087\n",
      "   macro avg       0.79      0.79      0.79      5087\n",
      "weighted avg       0.79      0.79      0.79      5087\n",
      "\n"
     ]
    },
    {
     "data": {
      "text/html": [
       "<div>\n",
       "<style scoped>\n",
       "    .dataframe tbody tr th:only-of-type {\n",
       "        vertical-align: middle;\n",
       "    }\n",
       "\n",
       "    .dataframe tbody tr th {\n",
       "        vertical-align: top;\n",
       "    }\n",
       "\n",
       "    .dataframe thead th {\n",
       "        text-align: right;\n",
       "    }\n",
       "</style>\n",
       "<table border=\"1\" class=\"dataframe\">\n",
       "  <thead>\n",
       "    <tr style=\"text-align: right;\">\n",
       "      <th></th>\n",
       "      <th>Predicted neg</th>\n",
       "      <th>Predicted pos</th>\n",
       "    </tr>\n",
       "  </thead>\n",
       "  <tbody>\n",
       "    <tr>\n",
       "      <th>Actual neg</th>\n",
       "      <td>1912</td>\n",
       "      <td>676</td>\n",
       "    </tr>\n",
       "    <tr>\n",
       "      <th>Actual pos</th>\n",
       "      <td>392</td>\n",
       "      <td>2107</td>\n",
       "    </tr>\n",
       "  </tbody>\n",
       "</table>\n",
       "</div>"
      ],
      "text/plain": [
       "            Predicted neg  Predicted pos\n",
       "Actual neg           1912            676\n",
       "Actual pos            392           2107"
      ]
     },
     "execution_count": 77,
     "metadata": {},
     "output_type": "execute_result"
    }
   ],
   "source": [
    "new_predictions = np.where(probs>optimal_threshold, 1, 0)\n",
    "\n",
    "print(classification_report(y_test,new_predictions))\n",
    "\n",
    "new_confusion_mat = confusion_matrix(y_test, new_predictions)\n",
    "new_confusion_df = pd.DataFrame(new_confusion_mat, index=['Actual neg','Actual pos'], columns=['Predicted neg','Predicted pos'])\n",
    "new_confusion_df"
   ]
  },
  {
   "cell_type": "code",
   "execution_count": 78,
   "metadata": {},
   "outputs": [],
   "source": [
    "coefficients = pd.concat([pd.DataFrame(X_train.columns),pd.DataFrame(np.transpose(logit1.coef_))], axis = 1)"
   ]
  },
  {
   "cell_type": "code",
   "execution_count": 79,
   "metadata": {},
   "outputs": [],
   "source": [
    "coefficients.columns=['Variable','Coefficient']\n",
    "coefficients = coefficients.sort_values('Coefficient', ascending=False)"
   ]
  },
  {
   "cell_type": "code",
   "execution_count": 80,
   "metadata": {},
   "outputs": [],
   "source": [
    "coefficients.to_csv(\"C:\\\\DATASCIENCE\\\\11-DONO-PROJECT\\\\2-Jigsaw_Dono\\\\DATASTORE\\\\coefficients.csv\", sep=',')"
   ]
  },
  {
   "cell_type": "code",
   "execution_count": 108,
   "metadata": {},
   "outputs": [
    {
     "data": {
      "text/html": [
       "<div>\n",
       "<style scoped>\n",
       "    .dataframe tbody tr th:only-of-type {\n",
       "        vertical-align: middle;\n",
       "    }\n",
       "\n",
       "    .dataframe tbody tr th {\n",
       "        vertical-align: top;\n",
       "    }\n",
       "\n",
       "    .dataframe thead th {\n",
       "        text-align: right;\n",
       "    }\n",
       "</style>\n",
       "<table border=\"1\" class=\"dataframe\">\n",
       "  <thead>\n",
       "    <tr style=\"text-align: right;\">\n",
       "      <th></th>\n",
       "      <th>Variable</th>\n",
       "      <th>Coefficient</th>\n",
       "    </tr>\n",
       "  </thead>\n",
       "  <tbody>\n",
       "    <tr>\n",
       "      <th>24</th>\n",
       "      <td>SELLER NAME_SUNTRUST BANK</td>\n",
       "      <td>-0.291811</td>\n",
       "    </tr>\n",
       "    <tr>\n",
       "      <th>22</th>\n",
       "      <td>SELLER NAME_PMTT4</td>\n",
       "      <td>-0.340766</td>\n",
       "    </tr>\n",
       "    <tr>\n",
       "      <th>25</th>\n",
       "      <td>SELLER NAME_U.S. BANK N.A.</td>\n",
       "      <td>-0.356149</td>\n",
       "    </tr>\n",
       "    <tr>\n",
       "      <th>78</th>\n",
       "      <td>PROPERTY STATE_NV</td>\n",
       "      <td>-0.373004</td>\n",
       "    </tr>\n",
       "    <tr>\n",
       "      <th>9</th>\n",
       "      <td>SELLER NAME_CITIMORTGAGE, INC.</td>\n",
       "      <td>-0.416734</td>\n",
       "    </tr>\n",
       "    <tr>\n",
       "      <th>86</th>\n",
       "      <td>PROPERTY STATE_SC</td>\n",
       "      <td>-0.425348</td>\n",
       "    </tr>\n",
       "    <tr>\n",
       "      <th>29</th>\n",
       "      <td>NUMBER OF BORROWERS_3</td>\n",
       "      <td>-0.500317</td>\n",
       "    </tr>\n",
       "    <tr>\n",
       "      <th>51</th>\n",
       "      <td>PROPERTY STATE_DC</td>\n",
       "      <td>-0.514436</td>\n",
       "    </tr>\n",
       "    <tr>\n",
       "      <th>67</th>\n",
       "      <td>PROPERTY STATE_MI</td>\n",
       "      <td>-0.519407</td>\n",
       "    </tr>\n",
       "    <tr>\n",
       "      <th>91</th>\n",
       "      <td>PROPERTY STATE_VA</td>\n",
       "      <td>-0.541897</td>\n",
       "    </tr>\n",
       "    <tr>\n",
       "      <th>30</th>\n",
       "      <td>NUMBER OF BORROWERS_4</td>\n",
       "      <td>-0.578603</td>\n",
       "    </tr>\n",
       "    <tr>\n",
       "      <th>28</th>\n",
       "      <td>NUMBER OF BORROWERS_2</td>\n",
       "      <td>-0.617775</td>\n",
       "    </tr>\n",
       "    <tr>\n",
       "      <th>82</th>\n",
       "      <td>PROPERTY STATE_OR</td>\n",
       "      <td>-0.644378</td>\n",
       "    </tr>\n",
       "    <tr>\n",
       "      <th>49</th>\n",
       "      <td>PROPERTY STATE_CO</td>\n",
       "      <td>-0.646593</td>\n",
       "    </tr>\n",
       "    <tr>\n",
       "      <th>58</th>\n",
       "      <td>PROPERTY STATE_ID</td>\n",
       "      <td>-0.714716</td>\n",
       "    </tr>\n",
       "    <tr>\n",
       "      <th>75</th>\n",
       "      <td>PROPERTY STATE_NH</td>\n",
       "      <td>-0.737140</td>\n",
       "    </tr>\n",
       "    <tr>\n",
       "      <th>87</th>\n",
       "      <td>PROPERTY STATE_SD</td>\n",
       "      <td>-0.796718</td>\n",
       "    </tr>\n",
       "    <tr>\n",
       "      <th>5</th>\n",
       "      <td>BORROWER CREDIT SCORE AT ORIGINATION</td>\n",
       "      <td>-0.823100</td>\n",
       "    </tr>\n",
       "    <tr>\n",
       "      <th>36</th>\n",
       "      <td>PROPERTY TYPE_CP</td>\n",
       "      <td>-1.202175</td>\n",
       "    </tr>\n",
       "    <tr>\n",
       "      <th>66</th>\n",
       "      <td>PROPERTY STATE_ME</td>\n",
       "      <td>-1.400838</td>\n",
       "    </tr>\n",
       "  </tbody>\n",
       "</table>\n",
       "</div>"
      ],
      "text/plain": [
       "                                Variable  Coefficient\n",
       "24             SELLER NAME_SUNTRUST BANK    -0.291811\n",
       "22                     SELLER NAME_PMTT4    -0.340766\n",
       "25            SELLER NAME_U.S. BANK N.A.    -0.356149\n",
       "78                     PROPERTY STATE_NV    -0.373004\n",
       "9         SELLER NAME_CITIMORTGAGE, INC.    -0.416734\n",
       "86                     PROPERTY STATE_SC    -0.425348\n",
       "29                 NUMBER OF BORROWERS_3    -0.500317\n",
       "51                     PROPERTY STATE_DC    -0.514436\n",
       "67                     PROPERTY STATE_MI    -0.519407\n",
       "91                     PROPERTY STATE_VA    -0.541897\n",
       "30                 NUMBER OF BORROWERS_4    -0.578603\n",
       "28                 NUMBER OF BORROWERS_2    -0.617775\n",
       "82                     PROPERTY STATE_OR    -0.644378\n",
       "49                     PROPERTY STATE_CO    -0.646593\n",
       "58                     PROPERTY STATE_ID    -0.714716\n",
       "75                     PROPERTY STATE_NH    -0.737140\n",
       "87                     PROPERTY STATE_SD    -0.796718\n",
       "5   BORROWER CREDIT SCORE AT ORIGINATION    -0.823100\n",
       "36                      PROPERTY TYPE_CP    -1.202175\n",
       "66                     PROPERTY STATE_ME    -1.400838"
      ]
     },
     "execution_count": 108,
     "metadata": {},
     "output_type": "execute_result"
    }
   ],
   "source": [
    "coefficients.tail(20)"
   ]
  },
  {
   "cell_type": "markdown",
   "metadata": {},
   "source": [
    "## LOGISTIC REGRESSION WITH GRID SEARCH CV"
   ]
  },
  {
   "cell_type": "code",
   "execution_count": 82,
   "metadata": {},
   "outputs": [
    {
     "data": {
      "text/plain": [
       "GridSearchCV(cv=12, error_score='raise-deprecating',\n",
       "       estimator=LogisticRegression(C=1.0, class_weight=None, dual=False, fit_intercept=True,\n",
       "          intercept_scaling=1, max_iter=100, multi_class='warn',\n",
       "          n_jobs=None, penalty='l2', random_state=None, solver='warn',\n",
       "          tol=0.0001, verbose=0, warm_start=False),\n",
       "       fit_params=None, iid='warn', n_jobs=None,\n",
       "       param_grid={'penalty': ['l1', 'l2'], 'C': [0.01, 0.1, 1, 10]},\n",
       "       pre_dispatch='2*n_jobs', refit=True, return_train_score='warn',\n",
       "       scoring=None, verbose=0)"
      ]
     },
     "execution_count": 82,
     "metadata": {},
     "output_type": "execute_result"
    }
   ],
   "source": [
    "from sklearn.model_selection import GridSearchCV\n",
    "grid_values = {'penalty': ['l1','l2'], 'C': [0.01,0.1,1,10]}\n",
    "lr = LogisticRegression()\n",
    "model_lr = GridSearchCV(lr, param_grid=grid_values, cv=12)\n",
    "model_lr.fit(X_train, y_train)"
   ]
  },
  {
   "cell_type": "code",
   "execution_count": 83,
   "metadata": {},
   "outputs": [
    {
     "data": {
      "text/plain": [
       "[{'C': 0.01, 'penalty': 'l1'},\n",
       " {'C': 0.01, 'penalty': 'l2'},\n",
       " {'C': 0.1, 'penalty': 'l1'},\n",
       " {'C': 0.1, 'penalty': 'l2'},\n",
       " {'C': 1, 'penalty': 'l1'},\n",
       " {'C': 1, 'penalty': 'l2'},\n",
       " {'C': 10, 'penalty': 'l1'},\n",
       " {'C': 10, 'penalty': 'l2'}]"
      ]
     },
     "execution_count": 83,
     "metadata": {},
     "output_type": "execute_result"
    }
   ],
   "source": [
    "model_lr.cv_results_['params']"
   ]
  },
  {
   "cell_type": "code",
   "execution_count": 84,
   "metadata": {},
   "outputs": [
    {
     "data": {
      "text/plain": [
       "{'C': 0.1, 'penalty': 'l1'}"
      ]
     },
     "execution_count": 84,
     "metadata": {},
     "output_type": "execute_result"
    }
   ],
   "source": [
    "model_lr.best_params_"
   ]
  },
  {
   "cell_type": "code",
   "execution_count": 85,
   "metadata": {},
   "outputs": [
    {
     "name": "stdout",
     "output_type": "stream",
     "text": [
      "[LibLinear] Accuracy Score: 0.7900530764694319\n",
      "              precision    recall  f1-score   support\n",
      "\n",
      "           0       0.80      0.79      0.79      2588\n",
      "           1       0.78      0.79      0.79      2499\n",
      "\n",
      "   micro avg       0.79      0.79      0.79      5087\n",
      "   macro avg       0.79      0.79      0.79      5087\n",
      "weighted avg       0.79      0.79      0.79      5087\n",
      "\n"
     ]
    },
    {
     "data": {
      "text/html": [
       "<div>\n",
       "<style scoped>\n",
       "    .dataframe tbody tr th:only-of-type {\n",
       "        vertical-align: middle;\n",
       "    }\n",
       "\n",
       "    .dataframe tbody tr th {\n",
       "        vertical-align: top;\n",
       "    }\n",
       "\n",
       "    .dataframe thead th {\n",
       "        text-align: right;\n",
       "    }\n",
       "</style>\n",
       "<table border=\"1\" class=\"dataframe\">\n",
       "  <thead>\n",
       "    <tr style=\"text-align: right;\">\n",
       "      <th></th>\n",
       "      <th>Predicted neg</th>\n",
       "      <th>Predicted pos</th>\n",
       "    </tr>\n",
       "  </thead>\n",
       "  <tbody>\n",
       "    <tr>\n",
       "      <th>Actual neg</th>\n",
       "      <td>2039</td>\n",
       "      <td>549</td>\n",
       "    </tr>\n",
       "    <tr>\n",
       "      <th>Actual pos</th>\n",
       "      <td>519</td>\n",
       "      <td>1980</td>\n",
       "    </tr>\n",
       "  </tbody>\n",
       "</table>\n",
       "</div>"
      ],
      "text/plain": [
       "            Predicted neg  Predicted pos\n",
       "Actual neg           2039            549\n",
       "Actual pos            519           1980"
      ]
     },
     "execution_count": 85,
     "metadata": {},
     "output_type": "execute_result"
    }
   ],
   "source": [
    "lr1 = LogisticRegression(C=1,penalty='l1', verbose=5)\n",
    "lr1.fit(X_train, y_train)\n",
    "\n",
    "predictions = lr1.predict(X_test)\n",
    "print(\" Accuracy Score:\",lr1.score(X_test, y_test))\n",
    "print(classification_report(y_test,predictions))\n",
    "\n",
    "confusion_mat = confusion_matrix(y_test, predictions)\n",
    "confusion_df = pd.DataFrame(confusion_mat, index=['Actual neg','Actual pos'], columns=['Predicted neg','Predicted pos'])\n",
    "confusion_df"
   ]
  },
  {
   "cell_type": "code",
   "execution_count": 86,
   "metadata": {},
   "outputs": [
    {
     "name": "stdout",
     "output_type": "stream",
     "text": [
      "AUC: 0.8649077869169305\n"
     ]
    }
   ],
   "source": [
    "probs = lr1.predict_proba(X_test)[:, 1]\n",
    "fpr, tpr, threshold = roc_curve(y_test, probs)\n",
    "\n",
    "auc = roc_auc_score(y_test, probs)\n",
    "print(\"AUC:\",auc)"
   ]
  },
  {
   "cell_type": "markdown",
   "metadata": {},
   "source": [
    "## BAGGING CLASSIFIER ENSEMBLE WITH DECISION TREE"
   ]
  },
  {
   "cell_type": "code",
   "execution_count": 87,
   "metadata": {},
   "outputs": [],
   "source": [
    "from sklearn.ensemble import BaggingClassifier\n",
    "from sklearn.tree import DecisionTreeClassifier"
   ]
  },
  {
   "cell_type": "code",
   "execution_count": 88,
   "metadata": {},
   "outputs": [
    {
     "data": {
      "text/plain": [
       "BaggingClassifier(base_estimator=DecisionTreeClassifier(class_weight=None, criterion='gini', max_depth=5,\n",
       "            max_features=None, max_leaf_nodes=None,\n",
       "            min_impurity_decrease=0.0, min_impurity_split=None,\n",
       "            min_samples_leaf=1, min_samples_split=2,\n",
       "            min_weight_fraction_leaf=0.0, presort=False, random_state=None,\n",
       "            splitter='best'),\n",
       "         bootstrap=True, bootstrap_features=False, max_features=1.0,\n",
       "         max_samples=100, n_estimators=200, n_jobs=-1, oob_score=False,\n",
       "         random_state=None, verbose=0, warm_start=False)"
      ]
     },
     "execution_count": 88,
     "metadata": {},
     "output_type": "execute_result"
    }
   ],
   "source": [
    "bagged_model = BaggingClassifier(DecisionTreeClassifier(max_depth=5), n_estimators=200, max_samples=100, bootstrap=True, n_jobs=-1)\n",
    "bagged_model.fit(X_train, y_train)"
   ]
  },
  {
   "cell_type": "code",
   "execution_count": 89,
   "metadata": {},
   "outputs": [
    {
     "name": "stdout",
     "output_type": "stream",
     "text": [
      " Accuracy Score: 0.7770788283860822\n",
      "              precision    recall  f1-score   support\n",
      "\n",
      "           0       0.80      0.74      0.77      2588\n",
      "           1       0.75      0.81      0.78      2499\n",
      "\n",
      "   micro avg       0.78      0.78      0.78      5087\n",
      "   macro avg       0.78      0.78      0.78      5087\n",
      "weighted avg       0.78      0.78      0.78      5087\n",
      "\n"
     ]
    },
    {
     "data": {
      "text/html": [
       "<div>\n",
       "<style scoped>\n",
       "    .dataframe tbody tr th:only-of-type {\n",
       "        vertical-align: middle;\n",
       "    }\n",
       "\n",
       "    .dataframe tbody tr th {\n",
       "        vertical-align: top;\n",
       "    }\n",
       "\n",
       "    .dataframe thead th {\n",
       "        text-align: right;\n",
       "    }\n",
       "</style>\n",
       "<table border=\"1\" class=\"dataframe\">\n",
       "  <thead>\n",
       "    <tr style=\"text-align: right;\">\n",
       "      <th></th>\n",
       "      <th>Predicted neg</th>\n",
       "      <th>Predicted pos</th>\n",
       "    </tr>\n",
       "  </thead>\n",
       "  <tbody>\n",
       "    <tr>\n",
       "      <th>Actual neg</th>\n",
       "      <td>1924</td>\n",
       "      <td>664</td>\n",
       "    </tr>\n",
       "    <tr>\n",
       "      <th>Actual pos</th>\n",
       "      <td>470</td>\n",
       "      <td>2029</td>\n",
       "    </tr>\n",
       "  </tbody>\n",
       "</table>\n",
       "</div>"
      ],
      "text/plain": [
       "            Predicted neg  Predicted pos\n",
       "Actual neg           1924            664\n",
       "Actual pos            470           2029"
      ]
     },
     "execution_count": 89,
     "metadata": {},
     "output_type": "execute_result"
    }
   ],
   "source": [
    "predictionsm = bagged_model.predict(X_test)\n",
    "print(\" Accuracy Score:\",bagged_model.score(X_test, y_test))\n",
    "print(classification_report(y_test,predictionsm))\n",
    "\n",
    "confusion_mat = confusion_matrix(y_test, predictionsm)\n",
    "confusion_df = pd.DataFrame(confusion_mat, index=['Actual neg','Actual pos'], columns=['Predicted neg','Predicted pos'])\n",
    "confusion_df"
   ]
  },
  {
   "cell_type": "code",
   "execution_count": 90,
   "metadata": {},
   "outputs": [
    {
     "name": "stdout",
     "output_type": "stream",
     "text": [
      "AUC: 0.8494512178905566\n"
     ]
    }
   ],
   "source": [
    "probs = bagged_model.predict_proba(X_test)[:, 1]\n",
    "fpr, tpr, threshold = roc_curve(y_test, probs)\n",
    "\n",
    "auc = roc_auc_score(y_test, probs)\n",
    "print(\"AUC:\",auc)\n"
   ]
  },
  {
   "cell_type": "markdown",
   "metadata": {},
   "source": [
    "## ADABOOST CLASSIFIER"
   ]
  },
  {
   "cell_type": "code",
   "execution_count": 91,
   "metadata": {},
   "outputs": [],
   "source": [
    "from sklearn.ensemble import AdaBoostClassifier\n",
    "from sklearn.tree import DecisionTreeClassifier"
   ]
  },
  {
   "cell_type": "code",
   "execution_count": 92,
   "metadata": {},
   "outputs": [],
   "source": [
    "ada_model = AdaBoostClassifier(DecisionTreeClassifier(max_depth=8), n_estimators=100, learning_rate=0.01, random_state=123)"
   ]
  },
  {
   "cell_type": "code",
   "execution_count": 93,
   "metadata": {},
   "outputs": [
    {
     "name": "stdout",
     "output_type": "stream",
     "text": [
      " Accuracy Score: 0.7745232946726951\n",
      "              precision    recall  f1-score   support\n",
      "\n",
      "           0       0.78      0.78      0.78      2588\n",
      "           1       0.77      0.77      0.77      2499\n",
      "\n",
      "   micro avg       0.77      0.77      0.77      5087\n",
      "   macro avg       0.77      0.77      0.77      5087\n",
      "weighted avg       0.77      0.77      0.77      5087\n",
      "\n"
     ]
    },
    {
     "data": {
      "text/html": [
       "<div>\n",
       "<style scoped>\n",
       "    .dataframe tbody tr th:only-of-type {\n",
       "        vertical-align: middle;\n",
       "    }\n",
       "\n",
       "    .dataframe tbody tr th {\n",
       "        vertical-align: top;\n",
       "    }\n",
       "\n",
       "    .dataframe thead th {\n",
       "        text-align: right;\n",
       "    }\n",
       "</style>\n",
       "<table border=\"1\" class=\"dataframe\">\n",
       "  <thead>\n",
       "    <tr style=\"text-align: right;\">\n",
       "      <th></th>\n",
       "      <th>Predicted neg</th>\n",
       "      <th>Predicted pos</th>\n",
       "    </tr>\n",
       "  </thead>\n",
       "  <tbody>\n",
       "    <tr>\n",
       "      <th>Actual neg</th>\n",
       "      <td>2006</td>\n",
       "      <td>582</td>\n",
       "    </tr>\n",
       "    <tr>\n",
       "      <th>Actual pos</th>\n",
       "      <td>565</td>\n",
       "      <td>1934</td>\n",
       "    </tr>\n",
       "  </tbody>\n",
       "</table>\n",
       "</div>"
      ],
      "text/plain": [
       "            Predicted neg  Predicted pos\n",
       "Actual neg           2006            582\n",
       "Actual pos            565           1934"
      ]
     },
     "execution_count": 93,
     "metadata": {},
     "output_type": "execute_result"
    }
   ],
   "source": [
    "ada_model.fit(X_train, y_train)\n",
    "predictionsad = ada_model.predict(X_test)\n",
    "print(\" Accuracy Score:\",ada_model.score(X_test, y_test))\n",
    "print(classification_report(y_test,predictionsad))\n",
    "\n",
    "confusion_mat = confusion_matrix(y_test, predictionsad)\n",
    "confusion_df = pd.DataFrame(confusion_mat, index=['Actual neg','Actual pos'], columns=['Predicted neg','Predicted pos'])\n",
    "confusion_df"
   ]
  },
  {
   "cell_type": "code",
   "execution_count": 94,
   "metadata": {},
   "outputs": [
    {
     "name": "stdout",
     "output_type": "stream",
     "text": [
      "AUC: 0.8375044762881969\n"
     ]
    }
   ],
   "source": [
    "probs = ada_model.predict_proba(X_test)[:, 1]\n",
    "fpr, tpr, threshold = roc_curve(y_test, probs)\n",
    "\n",
    "auc = roc_auc_score(y_test, probs)\n",
    "print(\"AUC:\",auc)"
   ]
  },
  {
   "cell_type": "markdown",
   "metadata": {},
   "source": [
    "## RANDOM FOREST CLASSIFIER WITH UNDERSAMPLING"
   ]
  },
  {
   "cell_type": "code",
   "execution_count": 95,
   "metadata": {},
   "outputs": [
    {
     "name": "stdout",
     "output_type": "stream",
     "text": [
      " Accuracy Score: 0.7886770198545312\n",
      "              precision    recall  f1-score   support\n",
      "\n",
      "           0       0.80      0.78      0.79      2588\n",
      "           1       0.78      0.80      0.79      2499\n",
      "\n",
      "   micro avg       0.79      0.79      0.79      5087\n",
      "   macro avg       0.79      0.79      0.79      5087\n",
      "weighted avg       0.79      0.79      0.79      5087\n",
      "\n"
     ]
    },
    {
     "data": {
      "text/html": [
       "<div>\n",
       "<style scoped>\n",
       "    .dataframe tbody tr th:only-of-type {\n",
       "        vertical-align: middle;\n",
       "    }\n",
       "\n",
       "    .dataframe tbody tr th {\n",
       "        vertical-align: top;\n",
       "    }\n",
       "\n",
       "    .dataframe thead th {\n",
       "        text-align: right;\n",
       "    }\n",
       "</style>\n",
       "<table border=\"1\" class=\"dataframe\">\n",
       "  <thead>\n",
       "    <tr style=\"text-align: right;\">\n",
       "      <th></th>\n",
       "      <th>Predicted neg</th>\n",
       "      <th>Predicted pos</th>\n",
       "    </tr>\n",
       "  </thead>\n",
       "  <tbody>\n",
       "    <tr>\n",
       "      <th>Actual neg</th>\n",
       "      <td>2017</td>\n",
       "      <td>571</td>\n",
       "    </tr>\n",
       "    <tr>\n",
       "      <th>Actual pos</th>\n",
       "      <td>504</td>\n",
       "      <td>1995</td>\n",
       "    </tr>\n",
       "  </tbody>\n",
       "</table>\n",
       "</div>"
      ],
      "text/plain": [
       "            Predicted neg  Predicted pos\n",
       "Actual neg           2017            571\n",
       "Actual pos            504           1995"
      ]
     },
     "execution_count": 95,
     "metadata": {},
     "output_type": "execute_result"
    }
   ],
   "source": [
    "from sklearn.ensemble import RandomForestClassifier\n",
    "\n",
    "rf_model = RandomForestClassifier(n_estimators=50, n_jobs=-1)\n",
    "rf_model.fit(X_train, y_train)\n",
    "predictions = rf_model.predict(X_test)\n",
    "\n",
    "print(\" Accuracy Score:\",rf_model.score(X_test, y_test))\n",
    "print(classification_report(y_test,predictions))\n",
    "\n",
    "confusion_mat = confusion_matrix(y_test, predictions)\n",
    "confusion_df = pd.DataFrame(confusion_mat, index=['Actual neg','Actual pos'], columns=['Predicted neg','Predicted pos'])\n",
    "confusion_df"
   ]
  },
  {
   "cell_type": "code",
   "execution_count": 96,
   "metadata": {},
   "outputs": [
    {
     "name": "stdout",
     "output_type": "stream",
     "text": [
      "AUC: 0.862284712957826\n",
      "Optimal_threshold: 0.4527469462492651\n"
     ]
    },
    {
     "data": {
      "image/png": "[encoded data removed]",
      "text/plain": [
       "<Figure size 432x288 with 1 Axes>"
      ]
     },
     "metadata": {
      "needs_background": "light"
     },
     "output_type": "display_data"
    }
   ],
   "source": [
    "from sklearn.metrics import roc_curve, roc_auc_score\n",
    "probs = rf_model.predict_proba(X_test)[:, 1]\n",
    "auc = roc_auc_score(y_test, probs)\n",
    "print(\"AUC:\",auc)\n",
    "\n",
    "optimal_idx = np.argmax(tpr - fpr)\n",
    "optimal_threshold = threshold[optimal_idx]\n",
    "print(\"Optimal_threshold:\",optimal_threshold)\n",
    "\n",
    "fpr, tpr, threshold = roc_curve(y_test, probs)\n",
    "mpl.title('Receiver Operating Characteristic')\n",
    "mpl.plot(fpr, tpr, 'b', label = 'AUC = %0.2f' % auc)\n",
    "mpl.legend(loc = 'lower right')\n",
    "mpl.plot([0, 1], [0, 1],'r--')\n",
    "mpl.xlim([0, 1])\n",
    "mpl.ylim([0, 1])\n",
    "mpl.ylabel('True Positive Rate')\n",
    "mpl.xlabel('False Positive Rate')\n",
    "mpl.show()"
   ]
  },
  {
   "cell_type": "code",
   "execution_count": 97,
   "metadata": {},
   "outputs": [
    {
     "name": "stdout",
     "output_type": "stream",
     "text": [
      "              precision    recall  f1-score   support\n",
      "\n",
      "           0       0.83      0.73      0.78      2588\n",
      "           1       0.75      0.85      0.80      2499\n",
      "\n",
      "   micro avg       0.79      0.79      0.79      5087\n",
      "   macro avg       0.79      0.79      0.79      5087\n",
      "weighted avg       0.79      0.79      0.79      5087\n",
      "\n"
     ]
    },
    {
     "data": {
      "text/html": [
       "<div>\n",
       "<style scoped>\n",
       "    .dataframe tbody tr th:only-of-type {\n",
       "        vertical-align: middle;\n",
       "    }\n",
       "\n",
       "    .dataframe tbody tr th {\n",
       "        vertical-align: top;\n",
       "    }\n",
       "\n",
       "    .dataframe thead th {\n",
       "        text-align: right;\n",
       "    }\n",
       "</style>\n",
       "<table border=\"1\" class=\"dataframe\">\n",
       "  <thead>\n",
       "    <tr style=\"text-align: right;\">\n",
       "      <th></th>\n",
       "      <th>Predicted neg</th>\n",
       "      <th>Predicted pos</th>\n",
       "    </tr>\n",
       "  </thead>\n",
       "  <tbody>\n",
       "    <tr>\n",
       "      <th>Actual neg</th>\n",
       "      <td>1901</td>\n",
       "      <td>687</td>\n",
       "    </tr>\n",
       "    <tr>\n",
       "      <th>Actual pos</th>\n",
       "      <td>386</td>\n",
       "      <td>2113</td>\n",
       "    </tr>\n",
       "  </tbody>\n",
       "</table>\n",
       "</div>"
      ],
      "text/plain": [
       "            Predicted neg  Predicted pos\n",
       "Actual neg           1901            687\n",
       "Actual pos            386           2113"
      ]
     },
     "execution_count": 97,
     "metadata": {},
     "output_type": "execute_result"
    }
   ],
   "source": [
    "new_predictions = np.where(probs>optimal_threshold, 1, 0)\n",
    "\n",
    "print(classification_report(y_test,new_predictions))\n",
    "\n",
    "new_confusion_mat = confusion_matrix(y_test, new_predictions)\n",
    "new_confusion_df = pd.DataFrame(new_confusion_mat, index=['Actual neg','Actual pos'], columns=['Predicted neg','Predicted pos'])\n",
    "new_confusion_df"
   ]
  },
  {
   "cell_type": "code",
   "execution_count": 98,
   "metadata": {},
   "outputs": [],
   "source": [
    "feature_list = []\n",
    "for name, score in zip(mbs_scaled_final.columns, rf_model.feature_importances_):\n",
    "    feature_list.append((score, name))"
   ]
  },
  {
   "cell_type": "code",
   "execution_count": 99,
   "metadata": {},
   "outputs": [
    {
     "data": {
      "text/plain": [
       "[(0.19243881446997846, 'BORROWER CREDIT SCORE AT ORIGINATION'),\n",
       " (0.1042514015308136, 'ORIGINAL INTEREST RATE'),\n",
       " (0.1029860892684205, 'PROPERTY STATE_DE'),\n",
       " (0.08820539676068591, 'ORIGINAL UPB'),\n",
       " (0.08722148783073633, 'ORIGINAL DEBT TO INCOME RATIO'),\n",
       " (0.0695199613190705, 'ORIGINAL LOAN-TO-VALUE (LTV)'),\n",
       " (0.02434900266267346, 'SELLER NAME_WELLS FARGO BANK, N.A.'),\n",
       " (0.02103761389726009, 'PROPERTY STATE_TN'),\n",
       " (0.014836396996833963, 'ORIGINAL LOAN TERM'),\n",
       " (0.013737161212771869, 'SELLER NAME_NATIONSTAR MORTGAGE, LLC'),\n",
       " (0.012469043583094029, 'ORIGINATION CHANNEL_C'),\n",
       " (0.012264447102590136, 'PROPERTY TYPE_PU'),\n",
       " (0.011878181361555527, 'DEFAULT STATUS'),\n",
       " (0.011820505308648149, 'FIRST TIME HOME BUYER INDICATOR_Y'),\n",
       " (0.011244894348785587, 'NUMBER OF BORROWERS_6'),\n",
       " (0.01122401974559865, 'PROPERTY TYPE_MH'),\n",
       " (0.010282598256202093, 'PROPERTY STATE_PA'),\n",
       " (0.009400757133991345, 'PROPERTY STATE_AZ'),\n",
       " (0.009338056470941634, 'LOAN PURPOSE_P'),\n",
       " (0.009281215125709695,\n",
       "  'SELLER NAME_UNITED SHORE FINANCIAL SERVICES, LLC D/B/A UNITED WHOLESALE MORTGAGE'),\n",
       " (0.009165294727439975, 'SELLER NAME_PMTT4'),\n",
       " (0.00785658088605992, 'NUMBER OF UNITS_4'),\n",
       " (0.00475537429634585, 'SELLER NAME_GUILD MORTGAGE COMPANY'),\n",
       " (0.0046991557171001865, 'PROPERTY STATE_ID'),\n",
       " (0.004342860703749413, 'PROPERTY STATE_CA'),\n",
       " (0.004301602475964115, 'PROPERTY STATE_NV'),\n",
       " (0.004282326537583732, 'PROPERTY STATE_VT'),\n",
       " (0.004125860148699604, 'PROPERTY STATE_FL'),\n",
       " (0.0040043515051093135, 'PROPERTY STATE_ME'),\n",
       " (0.003991057361697597, 'PROPERTY STATE_AR'),\n",
       " (0.00392253041964308, 'PROPERTY STATE_OR'),\n",
       " (0.003803470030354569, 'PROPERTY STATE_UT'),\n",
       " (0.0037205050760735357, 'SELLER NAME_SUNTRUST BANK'),\n",
       " (0.003640719837645276, 'PROPERTY STATE_MT'),\n",
       " (0.0036344828206796103, 'OCCUPANCY TYPE_P'),\n",
       " (0.003532752108013988, 'PROPERTY STATE_NH'),\n",
       " (0.003357150456356828, 'PROPERTY STATE_NY'),\n",
       " (0.0033111253286084177, 'SELLER NAME_PENNYMAC CORP.'),\n",
       " (0.003213021477998334, 'PROPERTY STATE_OK'),\n",
       " (0.0031885836106695003, 'SELLER NAME_QUICKEN LOANS INC.'),\n",
       " (0.003176662614165406,\n",
       "  'SELLER NAME_JPMORGAN CHASE BANK, NATIONAL ASSOCIATION'),\n",
       " (0.003144997797130558, 'PROPERTY STATE_MA'),\n",
       " (0.003128553298520572, 'ORIGINATION CHANNEL_R'),\n",
       " (0.002890969485022613, 'SELLER NAME_U.S. BANK N.A.'),\n",
       " (0.0028482858313935103, 'PROPERTY STATE_MN'),\n",
       " (0.0028285020489357687, 'PROPERTY STATE_IL'),\n",
       " (0.002815611390420637, 'PROPERTY STATE_LA'),\n",
       " (0.0028102592451289855, 'PROPERTY STATE_NM'),\n",
       " (0.002768006928406437, 'PROPERTY STATE_SD'),\n",
       " (0.0026971247404412968,\n",
       "  'SELLER NAME_FAIRWAY INDEPENDENT MORTGAGE CORPORATION'),\n",
       " (0.002600807654090207, 'PROPERTY STATE_MI'),\n",
       " (0.0025605566486387775, 'PROPERTY STATE_RI'),\n",
       " (0.0024112853247784034, 'SELLER NAME_FLAGSTAR BANK, FSB'),\n",
       " (0.0023184332876956767, 'SELLER NAME_LOANDEPOT.COM, LLC'),\n",
       " (0.002202709111358848, 'PROPERTY STATE_WA'),\n",
       " (0.00218305856238535, 'SELLER NAME_MOVEMENT MORTGAGE, LLC'),\n",
       " (0.0021808118890513928, 'SELLER NAME_OTHER'),\n",
       " (0.002129578880763281, 'SELLER NAME_DITECH FINANCIAL LLC'),\n",
       " (0.0020762865197772725, 'PROPERTY TYPE_CP'),\n",
       " (0.0020752935403640033, 'OCCUPANCY TYPE_S'),\n",
       " (0.0020634086903193183, 'PROPERTY STATE_KY'),\n",
       " (0.0019189910952530248, 'SELLER NAME_FRANKLIN AMERICAN MORTGAGE COMPANY'),\n",
       " (0.0019177500884355165, 'PROPERTY STATE_TX'),\n",
       " (0.0018697140657807328, 'PROPERTY STATE_OH'),\n",
       " (0.0015871955752386599, 'PROPERTY STATE_HI'),\n",
       " (0.0015398869135994902, 'PROPERTY TYPE_SF'),\n",
       " (0.0013905940093687813, 'PROPERTY STATE_CO'),\n",
       " (0.0013731325267976988, 'SELLER NAME_CITIMORTGAGE, INC.'),\n",
       " (0.001328812718575298, 'PROPERTY STATE_KS'),\n",
       " (0.0013208063249108052, 'PROPERTY STATE_IA'),\n",
       " (0.001310458688032031, 'PROPERTY STATE_ND'),\n",
       " (0.001254081224264384, 'NUMBER OF BORROWERS_2'),\n",
       " (0.0011602597417345846, 'PROPERTY STATE_AL'),\n",
       " (0.001156097184921359, 'PROPERTY STATE_IN'),\n",
       " (0.0010596866911779732, 'SELLER NAME_CALIBER HOME LOANS, INC.'),\n",
       " (0.0010455528902050953, 'PROPERTY STATE_NJ'),\n",
       " (0.0010150058730921455, 'PROPERTY STATE_MO'),\n",
       " (0.0009201754843122722, 'PROPERTY STATE_NE'),\n",
       " (0.0008519704380059241, 'SELLER NAME_FREEDOM MORTGAGE CORP.'),\n",
       " (0.0007614760325674355, 'NUMBER OF UNITS_3'),\n",
       " (0.0006611080354291348, 'NUMBER OF UNITS_2'),\n",
       " (0.000640176913525871, 'PROPERTY STATE_WI'),\n",
       " (0.0006232414557271117, 'PROPERTY STATE_VA'),\n",
       " (0.0006060140732861759, 'PROPERTY STATE_MD'),\n",
       " (0.000564349323137055, 'PROPERTY STATE_CT'),\n",
       " (0.0005517829679917043, 'PROPERTY STATE_DC'),\n",
       " (0.000524588419798515, 'LOAN PURPOSE_R'),\n",
       " (0.0004613698758982319, 'PROPERTY STATE_MS'),\n",
       " (0.00041571631856061517, 'PROPERTY STATE_SC'),\n",
       " (0.00041280176957331086, 'PROPERTY STATE_PR'),\n",
       " (0.00034800014902086374, 'PROPERTY STATE_GU'),\n",
       " (0.00032482723477681374, 'PROPERTY STATE_WV'),\n",
       " (0.00027357063973531165, 'PROPERTY STATE_NC'),\n",
       " (0.0001575624537754957, 'PROPERTY STATE_VI'),\n",
       " (0.00010618940254792763, 'NUMBER OF BORROWERS_3'),\n",
       " (0.0, 'PROPERTY STATE_GA'),\n",
       " (0.0, 'NUMBER OF BORROWERS_5'),\n",
       " (0.0, 'NUMBER OF BORROWERS_4')]"
      ]
     },
     "execution_count": 99,
     "metadata": {},
     "output_type": "execute_result"
    }
   ],
   "source": [
    "sorted(feature_list, reverse=True)"
   ]
  },
  {
   "cell_type": "markdown",
   "metadata": {},
   "source": [
    "### RUNNING THE RF MODEL AGAIN WITH THE TOP 30 IMPORTANT FEATURES"
   ]
  },
  {
   "cell_type": "code",
   "execution_count": 100,
   "metadata": {},
   "outputs": [],
   "source": [
    "undersample_data1=undersample_data[['BORROWER CREDIT SCORE AT ORIGINATION', 'PROPERTY STATE_DE','ORIGINAL INTEREST RATE','ORIGINAL UPB', 'ORIGINAL DEBT TO INCOME RATIO', 'ORIGINAL LOAN-TO-VALUE (LTV)', 'SELLER NAME_WELLS FARGO BANK, N.A.', 'PROPERTY STATE_TN', 'ORIGINAL LOAN TERM','SELLER NAME_NATIONSTAR MORTGAGE, LLC', 'PROPERTY TYPE_PU', 'ORIGINATION CHANNEL_C', 'FIRST TIME HOME BUYER INDICATOR_Y', 'PROPERTY TYPE_MH', 'NUMBER OF BORROWERS_6', 'PROPERTY STATE_PA', 'SELLER NAME_UNITED SHORE FINANCIAL SERVICES, LLC D/B/A UNITED WHOLESALE MORTGAGE', 'PROPERTY STATE_AZ', 'SELLER NAME_PMTT4', 'LOAN PURPOSE_P', 'NUMBER OF UNITS_4', 'PROPERTY STATE_ID', 'SELLER NAME_GUILD MORTGAGE COMPANY', 'PROPERTY STATE_MT', 'PROPERTY STATE_CA', 'PROPERTY STATE_AR', 'PROPERTY STATE_VT', 'PROPERTY STATE_FL', 'PROPERTY STATE_NV', 'PROPERTY STATE_OR','DEFAULT STATUS']]"
   ]
  },
  {
   "cell_type": "code",
   "execution_count": 101,
   "metadata": {},
   "outputs": [],
   "source": [
    "X_train1, X_test1, y_train1, y_test1 = train_test_split(undersample_data1.drop(\"DEFAULT STATUS\", axis=1),\n",
    "                                                    undersample_data[\"DEFAULT STATUS\"], test_size = 0.2,\\\n",
    "                                                    random_state=115)"
   ]
  },
  {
   "cell_type": "code",
   "execution_count": 102,
   "metadata": {},
   "outputs": [
    {
     "name": "stdout",
     "output_type": "stream",
     "text": [
      " Accuracy Score: 0.7673938679245284\n",
      "              precision    recall  f1-score   support\n",
      "\n",
      "           0       0.76      0.78      0.77      1704\n",
      "           1       0.77      0.75      0.76      1688\n",
      "\n",
      "   micro avg       0.77      0.77      0.77      3392\n",
      "   macro avg       0.77      0.77      0.77      3392\n",
      "weighted avg       0.77      0.77      0.77      3392\n",
      "\n"
     ]
    },
    {
     "data": {
      "text/html": [
       "<div>\n",
       "<style scoped>\n",
       "    .dataframe tbody tr th:only-of-type {\n",
       "        vertical-align: middle;\n",
       "    }\n",
       "\n",
       "    .dataframe tbody tr th {\n",
       "        vertical-align: top;\n",
       "    }\n",
       "\n",
       "    .dataframe thead th {\n",
       "        text-align: right;\n",
       "    }\n",
       "</style>\n",
       "<table border=\"1\" class=\"dataframe\">\n",
       "  <thead>\n",
       "    <tr style=\"text-align: right;\">\n",
       "      <th></th>\n",
       "      <th>Predicted neg</th>\n",
       "      <th>Predicted pos</th>\n",
       "    </tr>\n",
       "  </thead>\n",
       "  <tbody>\n",
       "    <tr>\n",
       "      <th>Actual neg</th>\n",
       "      <td>1331</td>\n",
       "      <td>373</td>\n",
       "    </tr>\n",
       "    <tr>\n",
       "      <th>Actual pos</th>\n",
       "      <td>416</td>\n",
       "      <td>1272</td>\n",
       "    </tr>\n",
       "  </tbody>\n",
       "</table>\n",
       "</div>"
      ],
      "text/plain": [
       "            Predicted neg  Predicted pos\n",
       "Actual neg           1331            373\n",
       "Actual pos            416           1272"
      ]
     },
     "execution_count": 102,
     "metadata": {},
     "output_type": "execute_result"
    }
   ],
   "source": [
    "rf_model1 = RandomForestClassifier(n_estimators=50, n_jobs=-1)\n",
    "rf_model1.fit(X_train1, y_train1)\n",
    "predictions1 = rf_model1.predict(X_test1)\n",
    "\n",
    "print(\" Accuracy Score:\",rf_model1.score(X_test1, y_test1))\n",
    "print(classification_report(y_test1,predictions1))\n",
    "\n",
    "confusion_mat = confusion_matrix(y_test1, predictions1)\n",
    "confusion_df = pd.DataFrame(confusion_mat, index=['Actual neg','Actual pos'], columns=['Predicted neg','Predicted pos'])\n",
    "confusion_df"
   ]
  },
  {
   "cell_type": "markdown",
   "metadata": {},
   "source": [
    "## LOGISTIC REGRESSION WITH TOP 30 IMPORTANT FEATURES "
   ]
  },
  {
   "cell_type": "code",
   "execution_count": 103,
   "metadata": {},
   "outputs": [
    {
     "name": "stdout",
     "output_type": "stream",
     "text": [
      " Accuracy Score: 0.7673938679245284\n",
      "              precision    recall  f1-score   support\n",
      "\n",
      "           0       0.76      0.78      0.77      1704\n",
      "           1       0.77      0.75      0.76      1688\n",
      "\n",
      "   micro avg       0.77      0.77      0.77      3392\n",
      "   macro avg       0.77      0.77      0.77      3392\n",
      "weighted avg       0.77      0.77      0.77      3392\n",
      "\n"
     ]
    },
    {
     "data": {
      "text/html": [
       "<div>\n",
       "<style scoped>\n",
       "    .dataframe tbody tr th:only-of-type {\n",
       "        vertical-align: middle;\n",
       "    }\n",
       "\n",
       "    .dataframe tbody tr th {\n",
       "        vertical-align: top;\n",
       "    }\n",
       "\n",
       "    .dataframe thead th {\n",
       "        text-align: right;\n",
       "    }\n",
       "</style>\n",
       "<table border=\"1\" class=\"dataframe\">\n",
       "  <thead>\n",
       "    <tr style=\"text-align: right;\">\n",
       "      <th></th>\n",
       "      <th>Predicted neg</th>\n",
       "      <th>Predicted pos</th>\n",
       "    </tr>\n",
       "  </thead>\n",
       "  <tbody>\n",
       "    <tr>\n",
       "      <th>Actual neg</th>\n",
       "      <td>1331</td>\n",
       "      <td>373</td>\n",
       "    </tr>\n",
       "    <tr>\n",
       "      <th>Actual pos</th>\n",
       "      <td>416</td>\n",
       "      <td>1272</td>\n",
       "    </tr>\n",
       "  </tbody>\n",
       "</table>\n",
       "</div>"
      ],
      "text/plain": [
       "            Predicted neg  Predicted pos\n",
       "Actual neg           1331            373\n",
       "Actual pos            416           1272"
      ]
     },
     "execution_count": 103,
     "metadata": {},
     "output_type": "execute_result"
    }
   ],
   "source": [
    "logit11 = LogisticRegression()\n",
    "logit11.fit(X_train1, y_train1)\n",
    "predictions11 = logit11.predict(X_test1)\n",
    "print(\" Accuracy Score:\",logit11.score(X_test1, y_test1))\n",
    "print(classification_report(y_test1,predictions11))\n",
    "\n",
    "confusion_mat = confusion_matrix(y_test1, predictions11)\n",
    "confusion_df = pd.DataFrame(confusion_mat, index=['Actual neg','Actual pos'], columns=['Predicted neg','Predicted pos'])\n",
    "confusion_df"
   ]
  },
  {
   "cell_type": "markdown",
   "metadata": {},
   "source": [
    "# SVM WITH UNDERSAMPLING"
   ]
  },
  {
   "cell_type": "code",
   "execution_count": 104,
   "metadata": {},
   "outputs": [
    {
     "name": "stdout",
     "output_type": "stream",
     "text": [
      " Accuracy Score: 0.7849420090426578\n",
      "[[1992  596]\n",
      " [ 498 2001]]\n",
      "              precision    recall  f1-score   support\n",
      "\n",
      "           0       0.80      0.77      0.78      2588\n",
      "           1       0.77      0.80      0.79      2499\n",
      "\n",
      "   micro avg       0.78      0.78      0.78      5087\n",
      "   macro avg       0.79      0.79      0.78      5087\n",
      "weighted avg       0.79      0.78      0.78      5087\n",
      "\n"
     ]
    }
   ],
   "source": [
    "# Sigmoid Kernel\n",
    "\n",
    "from sklearn.svm import SVC  \n",
    "svclassifier = SVC(kernel='sigmoid')  \n",
    "svclassifier.fit(X_train, y_train)  \n",
    "predictions = svclassifier.predict(X_test)  \n",
    "print(\" Accuracy Score:\",svclassifier.score(X_test, y_test))\n",
    "print(confusion_matrix(y_test,predictions)) \n",
    "print(classification_report(y_test,predictions))  "
   ]
  },
  {
   "cell_type": "code",
   "execution_count": 105,
   "metadata": {},
   "outputs": [
    {
     "name": "stdout",
     "output_type": "stream",
     "text": [
      " Accuracy Score: 0.7912325535679182\n",
      "[[2028  560]\n",
      " [ 502 1997]]\n",
      "              precision    recall  f1-score   support\n",
      "\n",
      "           0       0.80      0.78      0.79      2588\n",
      "           1       0.78      0.80      0.79      2499\n",
      "\n",
      "   micro avg       0.79      0.79      0.79      5087\n",
      "   macro avg       0.79      0.79      0.79      5087\n",
      "weighted avg       0.79      0.79      0.79      5087\n",
      "\n"
     ]
    }
   ],
   "source": [
    "# Gaussian Kernel\n",
    "\n",
    "svclassifier = SVC(kernel='rbf')  \n",
    "svclassifier.fit(X_train, y_train)  \n",
    "predictions = svclassifier.predict(X_test)  \n",
    "print(\" Accuracy Score:\",svclassifier.score(X_test, y_test))\n",
    "print(confusion_matrix(y_test,predictions)) \n",
    "print(classification_report(y_test,predictions))  "
   ]
  },
  {
   "cell_type": "markdown",
   "metadata": {},
   "source": [
    "# OVERSAMPLING"
   ]
  },
  {
   "cell_type": "code",
   "execution_count": 117,
   "metadata": {},
   "outputs": [],
   "source": [
    "from imblearn.over_sampling import SMOTE\n",
    "import statsmodels.api as sm\n",
    "from sklearn.model_selection import train_test_split\n",
    "\n",
    "X_train, X_test, y_train, y_test = train_test_split(mbs_scaled_final.drop(\"DEFAULT STATUS\", axis=1),\n",
    "                                                    mbs_scaled_final[[\"DEFAULT STATUS\"]], test_size = 0.2,\\\n",
    "                                                    random_state=112)"
   ]
  },
  {
   "cell_type": "code",
   "execution_count": 118,
   "metadata": {},
   "outputs": [
    {
     "name": "stdout",
     "output_type": "stream",
     "text": [
      "Number transactions X_train dataset:  (1445673, 98)\n",
      "Number transactions y_train dataset:  (1445673, 1)\n",
      "Number transactions X_test dataset:  (361419, 98)\n",
      "Number transactions y_test dataset:  (361419, 1)\n"
     ]
    }
   ],
   "source": [
    "print(\"Number transactions X_train dataset: \", X_train.shape)\n",
    "print(\"Number transactions y_train dataset: \", y_train.shape)\n",
    "print(\"Number transactions X_test dataset: \", X_test.shape)\n",
    "print(\"Number transactions y_test dataset: \", y_test.shape)"
   ]
  },
  {
   "cell_type": "code",
   "execution_count": 119,
   "metadata": {},
   "outputs": [
    {
     "ename": "TypeError",
     "evalue": "unsupported operand type(s) for +: 'int' and 'str'",
     "output_type": "error",
     "traceback": [
      "\u001b[1;31m---------------------------------------------------------------------------\u001b[0m",
      "\u001b[1;31mTypeError\u001b[0m                                 Traceback (most recent call last)",
      "\u001b[1;32m<ipython-input-119-c21923b52648>\u001b[0m in \u001b[0;36m<module>\u001b[1;34m\u001b[0m\n\u001b[1;32m----> 1\u001b[1;33m \u001b[0mprint\u001b[0m\u001b[1;33m(\u001b[0m\u001b[1;34m\"Before OverSampling, counts of label '1': {}\"\u001b[0m\u001b[1;33m.\u001b[0m\u001b[0mformat\u001b[0m\u001b[1;33m(\u001b[0m\u001b[0msum\u001b[0m\u001b[1;33m(\u001b[0m\u001b[0my_train\u001b[0m\u001b[1;33m==\u001b[0m\u001b[1;36m1\u001b[0m\u001b[1;33m)\u001b[0m\u001b[1;33m)\u001b[0m\u001b[1;33m)\u001b[0m\u001b[1;33m\u001b[0m\u001b[1;33m\u001b[0m\u001b[0m\n\u001b[0m\u001b[0;32m      2\u001b[0m \u001b[0mprint\u001b[0m\u001b[1;33m(\u001b[0m\u001b[1;34m\"Before OverSampling, counts of label '0': {} \\n\"\u001b[0m\u001b[1;33m.\u001b[0m\u001b[0mformat\u001b[0m\u001b[1;33m(\u001b[0m\u001b[0msum\u001b[0m\u001b[1;33m(\u001b[0m\u001b[0my_train\u001b[0m\u001b[1;33m==\u001b[0m\u001b[1;36m0\u001b[0m\u001b[1;33m)\u001b[0m\u001b[1;33m)\u001b[0m\u001b[1;33m)\u001b[0m\u001b[1;33m\u001b[0m\u001b[1;33m\u001b[0m\u001b[0m\n",
      "\u001b[1;31mTypeError\u001b[0m: unsupported operand type(s) for +: 'int' and 'str'"
     ]
    }
   ],
   "source": [
    "print(\"Before OverSampling, counts of label '1': {}\".format(sum(y_train==1)))\n",
    "print(\"Before OverSampling, counts of label '0': {} \\n\".format(sum(y_train==0)))"
   ]
  },
  {
   "cell_type": "code",
   "execution_count": 120,
   "metadata": {},
   "outputs": [
    {
     "name": "stdout",
     "output_type": "stream",
     "text": [
      "After OverSampling, the shape of train_X: (2877846, 98)\n",
      "After OverSampling, the shape of train_y: (2877846,) \n",
      "\n"
     ]
    }
   ],
   "source": [
    "smt = SMOTE(random_state=2)\n",
    "X_train_res, y_train_res = smt.fit_sample(X_train, y_train)\n",
    "\n",
    "print('After OverSampling, the shape of train_X: {}'.format(X_train_res.shape))\n",
    "print('After OverSampling, the shape of train_y: {} \\n'.format(y_train_res.shape))"
   ]
  },
  {
   "cell_type": "code",
   "execution_count": 121,
   "metadata": {},
   "outputs": [
    {
     "name": "stdout",
     "output_type": "stream",
     "text": [
      "After OverSampling, counts of label '1': 1438923\n",
      "After OverSampling, counts of label '0': 1438923\n"
     ]
    }
   ],
   "source": [
    "print(\"After OverSampling, counts of label '1': {}\".format(sum(y_train_res==1)))\n",
    "print(\"After OverSampling, counts of label '0': {}\".format(sum(y_train_res==0)))"
   ]
  },
  {
   "cell_type": "code",
   "execution_count": null,
   "metadata": {},
   "outputs": [],
   "source": [
    "# Converting the file to be used in ANN\n",
    "#X_trainoversample=pd.DataFrame(X_train_res)\n",
    "#y_trainoversample=pd.DataFrame(y_train_res)"
   ]
  },
  {
   "cell_type": "code",
   "execution_count": null,
   "metadata": {},
   "outputs": [],
   "source": [
    "# Saving the file to be used in ANN\n",
    "y_trainoversample.to_csv(\"C:\\\\DATASCIENCE\\\\11-DONO-PROJECT\\\\2-Jigsaw_Dono\\\\DATASTORE\\\\y_trainoversample.csv\", sep='\\t')"
   ]
  },
  {
   "cell_type": "code",
   "execution_count": null,
   "metadata": {},
   "outputs": [],
   "source": [
    "# Saving the file to be used in ANN\n",
    "X_trainoversample.to_csv(\"C:\\\\DATASCIENCE\\\\11-DONO-PROJECT\\\\2-Jigsaw_Dono\\\\DATASTORE\\\\X_trainoversample.csv\", sep='\\t')#X_trainoversample.to_csv(\"C:\\\\DATASCIENCE\\\\11-DONO-PROJECT\\\\2-Jigsaw_Dono\\\\DATASTORE\\\\X_trainoversample.csv\", sep='\\t')"
   ]
  },
  {
   "cell_type": "code",
   "execution_count": null,
   "metadata": {},
   "outputs": [],
   "source": [
    "# Saving the file to be used in ANN\n",
    "y_test.to_csv(\"C:\\\\DATASCIENCE\\\\11-DONO-PROJECT\\\\2-Jigsaw_Dono\\\\DATASTORE\\\\y_testoversample.csv\", sep='\\t')\n",
    "X_test.to_csv(\"C:\\\\DATASCIENCE\\\\11-DONO-PROJECT\\\\2-Jigsaw_Dono\\\\DATASTORE\\\\X_testoversample.csv\", sep='\\t')"
   ]
  },
  {
   "cell_type": "code",
   "execution_count": null,
   "metadata": {},
   "outputs": [],
   "source": []
  },
  {
   "cell_type": "markdown",
   "metadata": {},
   "source": [
    "## LOGISTIC REGRESSION WITH OVERSAMPLING"
   ]
  },
  {
   "cell_type": "code",
   "execution_count": 122,
   "metadata": {},
   "outputs": [
    {
     "name": "stdout",
     "output_type": "stream",
     "text": [
      " Accuracy Score: 0.8174196707976061\n",
      "              precision    recall  f1-score   support\n",
      "\n",
      "           0       1.00      0.82      0.90    359691\n",
      "           1       0.02      0.76      0.04      1728\n",
      "\n",
      "   micro avg       0.82      0.82      0.82    361419\n",
      "   macro avg       0.51      0.79      0.47    361419\n",
      "weighted avg       0.99      0.82      0.90    361419\n",
      "\n"
     ]
    },
    {
     "data": {
      "text/html": [
       "<div>\n",
       "<style scoped>\n",
       "    .dataframe tbody tr th:only-of-type {\n",
       "        vertical-align: middle;\n",
       "    }\n",
       "\n",
       "    .dataframe tbody tr th {\n",
       "        vertical-align: top;\n",
       "    }\n",
       "\n",
       "    .dataframe thead th {\n",
       "        text-align: right;\n",
       "    }\n",
       "</style>\n",
       "<table border=\"1\" class=\"dataframe\">\n",
       "  <thead>\n",
       "    <tr style=\"text-align: right;\">\n",
       "      <th></th>\n",
       "      <th>Predicted neg</th>\n",
       "      <th>Predicted pos</th>\n",
       "    </tr>\n",
       "  </thead>\n",
       "  <tbody>\n",
       "    <tr>\n",
       "      <th>Actual neg</th>\n",
       "      <td>294113</td>\n",
       "      <td>65578</td>\n",
       "    </tr>\n",
       "    <tr>\n",
       "      <th>Actual pos</th>\n",
       "      <td>410</td>\n",
       "      <td>1318</td>\n",
       "    </tr>\n",
       "  </tbody>\n",
       "</table>\n",
       "</div>"
      ],
      "text/plain": [
       "            Predicted neg  Predicted pos\n",
       "Actual neg         294113          65578\n",
       "Actual pos            410           1318"
      ]
     },
     "execution_count": 122,
     "metadata": {},
     "output_type": "execute_result"
    }
   ],
   "source": [
    "from sklearn.linear_model import LogisticRegression\n",
    "from sklearn.metrics import accuracy_score,precision_score, recall_score\n",
    "from sklearn.metrics import confusion_matrix\n",
    "%matplotlib inline\n",
    "from sklearn.metrics import classification_report\n",
    "\n",
    "\n",
    "logit1 = LogisticRegression()\n",
    "logit1.fit(X_train_res, y_train_res)\n",
    "predictions = logit1.predict(X_test)\n",
    "print(\" Accuracy Score:\",logit1.score(X_test, y_test))\n",
    "print(classification_report(y_test,predictions))\n",
    "\n",
    "confusion_mat = confusion_matrix(y_test, predictions)\n",
    "confusion_df = pd.DataFrame(confusion_mat, index=['Actual neg','Actual pos'], columns=['Predicted neg','Predicted pos'])\n",
    "confusion_df"
   ]
  },
  {
   "cell_type": "code",
   "execution_count": 123,
   "metadata": {},
   "outputs": [
    {
     "name": "stdout",
     "output_type": "stream",
     "text": [
      "AUC: 0.8671226753580773\n",
      "Optimal_threshold: 0.41908678909955893\n"
     ]
    },
    {
     "data": {
      "image/png": "[encoded data removed]",
      "text/plain": [
       "<Figure size 432x288 with 1 Axes>"
      ]
     },
     "metadata": {
      "needs_background": "light"
     },
     "output_type": "display_data"
    }
   ],
   "source": [
    "from sklearn.metrics import roc_curve, roc_auc_score\n",
    "probs = logit1.predict_proba(X_test)[:, 1]\n",
    "fpr, tpr, threshold = roc_curve(y_test, probs)\n",
    "\n",
    "auc = roc_auc_score(y_test, probs)\n",
    "print(\"AUC:\",auc)\n",
    "\n",
    "optimal_idx = np.argmax(tpr - fpr)\n",
    "optimal_threshold = threshold[optimal_idx]\n",
    "print(\"Optimal_threshold:\",optimal_threshold)\n",
    "\n",
    "\n",
    "fpr, tpr, threshold = roc_curve(y_test, probs)\n",
    "mpl.title('Receiver Operating Characteristic')\n",
    "mpl.plot(fpr, tpr, 'b', label = 'AUC = %0.2f' % auc)\n",
    "mpl.legend(loc = 'lower right')\n",
    "mpl.plot([0, 1], [0, 1],'r--')\n",
    "mpl.xlim([0, 1])\n",
    "mpl.ylim([0, 1])\n",
    "mpl.ylabel('True Positive Rate')\n",
    "mpl.xlabel('False Positive Rate')\n",
    "mpl.show()\n"
   ]
  },
  {
   "cell_type": "code",
   "execution_count": 124,
   "metadata": {},
   "outputs": [
    {
     "name": "stdout",
     "output_type": "stream",
     "text": [
      "              precision    recall  f1-score   support\n",
      "\n",
      "           0       1.00      0.77      0.87    359691\n",
      "           1       0.02      0.82      0.03      1728\n",
      "\n",
      "   micro avg       0.77      0.77      0.77    361419\n",
      "   macro avg       0.51      0.80      0.45    361419\n",
      "weighted avg       0.99      0.77      0.87    361419\n",
      "\n"
     ]
    },
    {
     "data": {
      "text/html": [
       "<div>\n",
       "<style scoped>\n",
       "    .dataframe tbody tr th:only-of-type {\n",
       "        vertical-align: middle;\n",
       "    }\n",
       "\n",
       "    .dataframe tbody tr th {\n",
       "        vertical-align: top;\n",
       "    }\n",
       "\n",
       "    .dataframe thead th {\n",
       "        text-align: right;\n",
       "    }\n",
       "</style>\n",
       "<table border=\"1\" class=\"dataframe\">\n",
       "  <thead>\n",
       "    <tr style=\"text-align: right;\">\n",
       "      <th></th>\n",
       "      <th>Predicted neg</th>\n",
       "      <th>Predicted pos</th>\n",
       "    </tr>\n",
       "  </thead>\n",
       "  <tbody>\n",
       "    <tr>\n",
       "      <th>Actual neg</th>\n",
       "      <td>276779</td>\n",
       "      <td>82912</td>\n",
       "    </tr>\n",
       "    <tr>\n",
       "      <th>Actual pos</th>\n",
       "      <td>309</td>\n",
       "      <td>1419</td>\n",
       "    </tr>\n",
       "  </tbody>\n",
       "</table>\n",
       "</div>"
      ],
      "text/plain": [
       "            Predicted neg  Predicted pos\n",
       "Actual neg         276779          82912\n",
       "Actual pos            309           1419"
      ]
     },
     "execution_count": 124,
     "metadata": {},
     "output_type": "execute_result"
    }
   ],
   "source": [
    "new_predictions = np.where(probs>optimal_threshold, 1, 0)\n",
    "\n",
    "print(classification_report(y_test,new_predictions))\n",
    "\n",
    "new_confusion_mat = confusion_matrix(y_test, new_predictions)\n",
    "new_confusion_df = pd.DataFrame(new_confusion_mat, index=['Actual neg','Actual pos'], columns=['Predicted neg','Predicted pos'])\n",
    "new_confusion_df"
   ]
  },
  {
   "cell_type": "markdown",
   "metadata": {},
   "source": [
    "## RANDOM FOREST WITH OVER SAMPLING"
   ]
  },
  {
   "cell_type": "code",
   "execution_count": 125,
   "metadata": {},
   "outputs": [
    {
     "name": "stdout",
     "output_type": "stream",
     "text": [
      " Accuracy Score: 0.9943140786732297\n",
      "              precision    recall  f1-score   support\n",
      "\n",
      "           0       1.00      1.00      1.00    359691\n",
      "           1       0.09      0.02      0.03      1728\n",
      "\n",
      "   micro avg       0.99      0.99      0.99    361419\n",
      "   macro avg       0.54      0.51      0.52    361419\n",
      "weighted avg       0.99      0.99      0.99    361419\n",
      "\n"
     ]
    },
    {
     "data": {
      "text/html": [
       "<div>\n",
       "<style scoped>\n",
       "    .dataframe tbody tr th:only-of-type {\n",
       "        vertical-align: middle;\n",
       "    }\n",
       "\n",
       "    .dataframe tbody tr th {\n",
       "        vertical-align: top;\n",
       "    }\n",
       "\n",
       "    .dataframe thead th {\n",
       "        text-align: right;\n",
       "    }\n",
       "</style>\n",
       "<table border=\"1\" class=\"dataframe\">\n",
       "  <thead>\n",
       "    <tr style=\"text-align: right;\">\n",
       "      <th></th>\n",
       "      <th>Predicted neg</th>\n",
       "      <th>Predicted pos</th>\n",
       "    </tr>\n",
       "  </thead>\n",
       "  <tbody>\n",
       "    <tr>\n",
       "      <th>Actual neg</th>\n",
       "      <td>359329</td>\n",
       "      <td>362</td>\n",
       "    </tr>\n",
       "    <tr>\n",
       "      <th>Actual pos</th>\n",
       "      <td>1693</td>\n",
       "      <td>35</td>\n",
       "    </tr>\n",
       "  </tbody>\n",
       "</table>\n",
       "</div>"
      ],
      "text/plain": [
       "            Predicted neg  Predicted pos\n",
       "Actual neg         359329            362\n",
       "Actual pos           1693             35"
      ]
     },
     "execution_count": 125,
     "metadata": {},
     "output_type": "execute_result"
    }
   ],
   "source": [
    "from sklearn.ensemble import RandomForestClassifier\n",
    "\n",
    "rf_model = RandomForestClassifier(n_estimators=100, n_jobs=-1)\n",
    "rf_model.fit(X_train_res, y_train_res)\n",
    "predictions = rf_model.predict(X_test)\n",
    "\n",
    "print(\" Accuracy Score:\",rf_model.score(X_test, y_test))\n",
    "print(classification_report(y_test,predictions))\n",
    "\n",
    "confusion_mat = confusion_matrix(y_test, predictions)\n",
    "confusion_df = pd.DataFrame(confusion_mat, index=['Actual neg','Actual pos'], columns=['Predicted neg','Predicted pos'])\n",
    "confusion_df"
   ]
  },
  {
   "cell_type": "code",
   "execution_count": 126,
   "metadata": {},
   "outputs": [
    {
     "name": "stdout",
     "output_type": "stream",
     "text": [
      "AUC: 0.8033084887380701\n",
      "Optimal_threshold: 0.41908678909955893\n"
     ]
    },
    {
     "data": {
      "image/png": "[encoded data removed]",
      "text/plain": [
       "<Figure size 432x288 with 1 Axes>"
      ]
     },
     "metadata": {
      "needs_background": "light"
     },
     "output_type": "display_data"
    }
   ],
   "source": [
    "from sklearn.metrics import roc_curve, roc_auc_score\n",
    "probs = rf_model.predict_proba(X_test)[:, 1]\n",
    "auc = roc_auc_score(y_test, probs)\n",
    "print(\"AUC:\",auc)\n",
    "\n",
    "optimal_idx = np.argmax(tpr - fpr)\n",
    "optimal_threshold = threshold[optimal_idx]\n",
    "print(\"Optimal_threshold:\",optimal_threshold)\n",
    "\n",
    "fpr, tpr, threshold = roc_curve(y_test, probs)\n",
    "mpl.title('Receiver Operating Characteristic')\n",
    "mpl.plot(fpr, tpr, 'b', label = 'AUC = %0.2f' % auc)\n",
    "mpl.legend(loc = 'lower right')\n",
    "mpl.plot([0, 1], [0, 1],'r--')\n",
    "mpl.xlim([0, 1])\n",
    "mpl.ylim([0, 1])\n",
    "mpl.ylabel('True Positive Rate')\n",
    "mpl.xlabel('False Positive Rate')\n",
    "mpl.show()"
   ]
  },
  {
   "cell_type": "code",
   "execution_count": 127,
   "metadata": {},
   "outputs": [
    {
     "name": "stdout",
     "output_type": "stream",
     "text": [
      "              precision    recall  f1-score   support\n",
      "\n",
      "           0       1.00      1.00      1.00    359691\n",
      "           1       0.08      0.04      0.05      1728\n",
      "\n",
      "   micro avg       0.99      0.99      0.99    361419\n",
      "   macro avg       0.54      0.52      0.52    361419\n",
      "weighted avg       0.99      0.99      0.99    361419\n",
      "\n"
     ]
    },
    {
     "data": {
      "text/html": [
       "<div>\n",
       "<style scoped>\n",
       "    .dataframe tbody tr th:only-of-type {\n",
       "        vertical-align: middle;\n",
       "    }\n",
       "\n",
       "    .dataframe tbody tr th {\n",
       "        vertical-align: top;\n",
       "    }\n",
       "\n",
       "    .dataframe thead th {\n",
       "        text-align: right;\n",
       "    }\n",
       "</style>\n",
       "<table border=\"1\" class=\"dataframe\">\n",
       "  <thead>\n",
       "    <tr style=\"text-align: right;\">\n",
       "      <th></th>\n",
       "      <th>Predicted neg</th>\n",
       "      <th>Predicted pos</th>\n",
       "    </tr>\n",
       "  </thead>\n",
       "  <tbody>\n",
       "    <tr>\n",
       "      <th>Actual neg</th>\n",
       "      <td>358977</td>\n",
       "      <td>714</td>\n",
       "    </tr>\n",
       "    <tr>\n",
       "      <th>Actual pos</th>\n",
       "      <td>1666</td>\n",
       "      <td>62</td>\n",
       "    </tr>\n",
       "  </tbody>\n",
       "</table>\n",
       "</div>"
      ],
      "text/plain": [
       "            Predicted neg  Predicted pos\n",
       "Actual neg         358977            714\n",
       "Actual pos           1666             62"
      ]
     },
     "execution_count": 127,
     "metadata": {},
     "output_type": "execute_result"
    }
   ],
   "source": [
    "new_predictions = np.where(probs>optimal_threshold, 1, 0)\n",
    "\n",
    "print(classification_report(y_test,new_predictions))\n",
    "\n",
    "new_confusion_mat = confusion_matrix(y_test, new_predictions)\n",
    "new_confusion_df = pd.DataFrame(new_confusion_mat, index=['Actual neg','Actual pos'], columns=['Predicted neg','Predicted pos'])\n",
    "new_confusion_df"
   ]
  },
  {
   "cell_type": "code",
   "execution_count": 128,
   "metadata": {},
   "outputs": [
    {
     "data": {
      "text/plain": [
       "[(0.160414054851455, 'PROPERTY STATE_DE'),\n",
       " (0.14004379539179954, 'BORROWER CREDIT SCORE AT ORIGINATION'),\n",
       " (0.11319377029843668, 'ORIGINAL INTEREST RATE'),\n",
       " (0.061857643031542425, 'ORIGINAL LOAN-TO-VALUE (LTV)'),\n",
       " (0.060955382115063926, 'ORIGINAL DEBT TO INCOME RATIO'),\n",
       " (0.05899637849425316, 'SELLER NAME_WELLS FARGO BANK, N.A.'),\n",
       " (0.04011140897701627, 'ORIGINAL UPB'),\n",
       " (0.036728723452858374, 'PROPERTY STATE_TN'),\n",
       " (0.01757779800110061, 'SELLER NAME_NATIONSTAR MORTGAGE, LLC'),\n",
       " (0.01667546198420544, 'NUMBER OF UNITS_4'),\n",
       " (0.016616009547855307, 'NUMBER OF BORROWERS_6'),\n",
       " (0.016108857475378154, 'PROPERTY STATE_PA'),\n",
       " (0.01567186763495996, 'PROPERTY STATE_AZ'),\n",
       " (0.014921547391032632, 'PROPERTY TYPE_PU'),\n",
       " (0.014529234147718178, 'LOAN PURPOSE_P'),\n",
       " (0.012956029723131235, 'FIRST TIME HOME BUYER INDICATOR_Y'),\n",
       " (0.012748251397347572, 'PROPERTY TYPE_MH'),\n",
       " (0.011957546866228973, 'ORIGINAL LOAN TERM'),\n",
       " (0.011661659769339973, 'SELLER NAME_PMTT4'),\n",
       " (0.011444945168942075, 'ORIGINATION CHANNEL_C'),\n",
       " (0.009980456674919617,\n",
       "  'SELLER NAME_UNITED SHORE FINANCIAL SERVICES, LLC D/B/A UNITED WHOLESALE MORTGAGE'),\n",
       " (0.00967019018443136, 'DEFAULT STATUS'),\n",
       " (0.005588092441965519, 'PROPERTY STATE_VT'),\n",
       " (0.005548789564405608, 'PROPERTY STATE_MT'),\n",
       " (0.004817400666825573, 'PROPERTY STATE_ID'),\n",
       " (0.004734913514515184, 'PROPERTY STATE_ME'),\n",
       " (0.004712402299690544, 'PROPERTY STATE_CA'),\n",
       " (0.004647108724183516, 'PROPERTY STATE_FL'),\n",
       " (0.004551733375277526, 'SELLER NAME_GUILD MORTGAGE COMPANY'),\n",
       " (0.004142027269847075, 'PROPERTY STATE_NV'),\n",
       " (0.004023462562954239, 'PROPERTY STATE_AR'),\n",
       " (0.0038327099596096557, 'OCCUPANCY TYPE_P'),\n",
       " (0.0036689497100003536, 'PROPERTY STATE_NY'),\n",
       " (0.00363840122029052, 'PROPERTY STATE_OR'),\n",
       " (0.003314244888850069, 'PROPERTY STATE_UT'),\n",
       " (0.0029901743415126393, 'PROPERTY STATE_MA'),\n",
       " (0.002887872309773955, 'PROPERTY STATE_NH'),\n",
       " (0.0026962640973625623, 'SELLER NAME_QUICKEN LOANS INC.'),\n",
       " (0.0026541488906697743, 'PROPERTY STATE_WA'),\n",
       " (0.0026189971930038925, 'PROPERTY STATE_MI'),\n",
       " (0.002568481819806193, 'PROPERTY STATE_OK'),\n",
       " (0.0025250757356860476,\n",
       "  'SELLER NAME_JPMORGAN CHASE BANK, NATIONAL ASSOCIATION'),\n",
       " (0.002503925758498054, 'SELLER NAME_PENNYMAC CORP.'),\n",
       " (0.0024718520606794173, 'PROPERTY STATE_SD'),\n",
       " (0.00243359653404322, 'ORIGINATION CHANNEL_R'),\n",
       " (0.0023086486621131923, 'SELLER NAME_SUNTRUST BANK'),\n",
       " (0.0022940268980868894,\n",
       "  'SELLER NAME_FAIRWAY INDEPENDENT MORTGAGE CORPORATION'),\n",
       " (0.002272600035532764, 'PROPERTY STATE_LA'),\n",
       " (0.0021311394514632897, 'PROPERTY TYPE_SF'),\n",
       " (0.0021033519964696605, 'PROPERTY STATE_MN'),\n",
       " (0.0020754001453141082, 'PROPERTY STATE_NM'),\n",
       " (0.002038465465756558, 'PROPERTY STATE_IL'),\n",
       " (0.001983959021424164, 'PROPERTY STATE_RI'),\n",
       " (0.0019666822496699943, 'PROPERTY STATE_TX'),\n",
       " (0.0019135458788202624, 'SELLER NAME_U.S. BANK N.A.'),\n",
       " (0.0017654038023680796, 'SELLER NAME_MOVEMENT MORTGAGE, LLC'),\n",
       " (0.0017235605190178958, 'SELLER NAME_DITECH FINANCIAL LLC'),\n",
       " (0.0016878557699130303, 'PROPERTY STATE_KY'),\n",
       " (0.0016246510044757706, 'SELLER NAME_FLAGSTAR BANK, FSB'),\n",
       " (0.0016029828633904355, 'SELLER NAME_LOANDEPOT.COM, LLC'),\n",
       " (0.0015285973619757116, 'OCCUPANCY TYPE_S'),\n",
       " (0.0013774929914483413, 'SELLER NAME_OTHER'),\n",
       " (0.0013630373282465383, 'PROPERTY STATE_OH'),\n",
       " (0.0011409981918907, 'PROPERTY STATE_HI'),\n",
       " (0.0011314955761537989, 'PROPERTY STATE_CO'),\n",
       " (0.001122529466331579, 'PROPERTY STATE_KS'),\n",
       " (0.001095179879364527, 'SELLER NAME_FRANKLIN AMERICAN MORTGAGE COMPANY'),\n",
       " (0.00108093183356516, 'NUMBER OF BORROWERS_2'),\n",
       " (0.0010395106920665015, 'SELLER NAME_CITIMORTGAGE, INC.'),\n",
       " (0.0008659770231074783, 'PROPERTY STATE_ND'),\n",
       " (0.0008561050242187508, 'PROPERTY STATE_AL'),\n",
       " (0.0008458037472677467, 'PROPERTY STATE_MO'),\n",
       " (0.0008208518007404653, 'PROPERTY TYPE_CP'),\n",
       " (0.0007822635206659993, 'PROPERTY STATE_IA'),\n",
       " (0.0007764498342552486, 'PROPERTY STATE_NJ'),\n",
       " (0.0006968698030277256, 'SELLER NAME_FREEDOM MORTGAGE CORP.'),\n",
       " (0.0005681190426529043, 'PROPERTY STATE_IN'),\n",
       " (0.0005565619674100726, 'PROPERTY STATE_VA'),\n",
       " (0.0004906362391625031, 'NUMBER OF UNITS_3'),\n",
       " (0.00041611440932823324, 'SELLER NAME_CALIBER HOME LOANS, INC.'),\n",
       " (0.0003800920354138769, 'PROPERTY STATE_MS'),\n",
       " (0.00036925369797067355, 'PROPERTY STATE_PR'),\n",
       " (0.0003614227906253153, 'PROPERTY STATE_WV'),\n",
       " (0.00034553475571294056, 'PROPERTY STATE_NE'),\n",
       " (0.0003393499576144631, 'NUMBER OF UNITS_2'),\n",
       " (0.00030609529247423563, 'PROPERTY STATE_DC'),\n",
       " (0.00022199012733599148, 'PROPERTY STATE_NC'),\n",
       " (0.000209214587423476, 'PROPERTY STATE_GU'),\n",
       " (0.000208509472235445, 'PROPERTY STATE_MD'),\n",
       " (0.000194173107680052, 'PROPERTY STATE_WI'),\n",
       " (0.00018481891086232386, 'PROPERTY STATE_SC'),\n",
       " (0.00014075604672365684, 'PROPERTY STATE_CT'),\n",
       " (0.00013526891195170593, 'LOAN PURPOSE_R'),\n",
       " (0.00011526315957584295, 'PROPERTY STATE_VI'),\n",
       " (4.865855409798978e-05, 'NUMBER OF BORROWERS_3'),\n",
       " (1.4842307095680603e-07, 'PROPERTY STATE_GA'),\n",
       " (1.3126598534088305e-08, 'NUMBER OF BORROWERS_4'),\n",
       " (2.7468941543767e-11, 'NUMBER OF BORROWERS_5')]"
      ]
     },
     "execution_count": 128,
     "metadata": {},
     "output_type": "execute_result"
    }
   ],
   "source": [
    "feature_list = []\n",
    "for name, score in zip(mbs_scaled_final.columns, rf_model.feature_importances_):\n",
    "    feature_list.append((score, name))\n",
    "    \n",
    "sorted(feature_list, reverse=True)"
   ]
  },
  {
   "cell_type": "markdown",
   "metadata": {},
   "source": [
    "## LOGISTIC REGRESSION WITH GRID SEARCH CROSS VALIDATION"
   ]
  },
  {
   "cell_type": "markdown",
   "metadata": {},
   "source": [
    "from sklearn.model_selection import GridSearchCV\n",
    "grid_values = {'penalty': ['l1','l2'], 'C': [0.01,0.1,1,10]}\n",
    "lr = LogisticRegression()\n",
    "model_lr = GridSearchCV(lr, param_grid=grid_values, cv=10)\n",
    "model_lr.fit(X_train, y_train)"
   ]
  },
  {
   "cell_type": "markdown",
   "metadata": {},
   "source": [
    "model_lr.cv_results_['params']"
   ]
  },
  {
   "cell_type": "markdown",
   "metadata": {},
   "source": [
    "model_lr.best_params_"
   ]
  },
  {
   "cell_type": "markdown",
   "metadata": {},
   "source": [
    "lr1 = LogisticRegression(C=1,penalty='l1', verbose=5)\n",
    "lr1.fit(X_train, y_train)\n",
    "\n",
    "predictions = lr1.predict(X_test)\n",
    "print(\" Accuracy Score:\",lr1.score(X_test, y_test))\n",
    "print(classification_report(y_test,predictions))\n",
    "\n",
    "confusion_mat = confusion_matrix(y_test, predictions)\n",
    "confusion_df = pd.DataFrame(confusion_mat, index=['Actual neg','Actual pos'], columns=['Predicted neg','Predicted pos'])\n",
    "confusion_df"
   ]
  },
  {
   "cell_type": "markdown",
   "metadata": {},
   "source": [
    "# SVM WITH OVERSAMPLING"
   ]
  },
  {
   "cell_type": "markdown",
   "metadata": {},
   "source": [
    "# Sigmoid Kernel\n",
    "\n",
    "from sklearn.svm import SVC  \n",
    "svclassifier = SVC(kernel='sigmoid')  \n",
    "svclassifier.fit(X_train_res, y_train_res)  \n",
    "predictions = svclassifier.predict(X_test)  \n",
    "print(\" Accuracy Score:\",svclassifier.score(X_test, y_test))\n",
    "print(confusion_matrix(y_test,predictions)) \n",
    "print(classification_report(y_test,predictions))  "
   ]
  },
  {
   "cell_type": "markdown",
   "metadata": {},
   "source": [
    "# Gaussian Kernel\n",
    "\n",
    "svclassifier = SVC(kernel='rbf')  \n",
    "svclassifier.fit(X_train, y_train)  \n",
    "predictions = svclassifier.predict(X_test)  \n",
    "print(\" Accuracy Score:\",svclassifier.score(X_test, y_test))\n",
    "print(confusion_matrix(y_test,predictions)) \n",
    "print(classification_report(y_test,predictions))  "
   ]
  },
  {
   "cell_type": "markdown",
   "metadata": {},
   "source": [
    "# ONE CLASS SVM TO DETECT ANAMOLY"
   ]
  },
  {
   "cell_type": "markdown",
   "metadata": {},
   "source": [
    "nor_obs = undersample_data.loc[undersample_data['DEFAULT STATUS']==0]    #Data frame with normal observation\n",
    "ano_obs = undersample_data.loc[undersample_data['DEFAULT STATUS']==1]    #Data frame with abnormal observation"
   ]
  },
  {
   "cell_type": "markdown",
   "metadata": {},
   "source": [
    "# The given dataframe 'cc' is divided into three sets \n",
    "# Training set: train_features\n",
    "# Test observations/features: X_test\n",
    "# Test labels: Y_test\n",
    "\n",
    "train_feature = nor_obs.iloc[0:30000, :]\n",
    "train_feature = train_feature.drop(['DEFAULT STATUS'],axis=1)\n",
    "Y_1 = nor_obs.iloc[30000:, 7]\n",
    "Y_2 = ano_obs['DEFAULT STATUS']\n",
    "Y_test= Y_1.append(Y_2)"
   ]
  },
  {
   "cell_type": "markdown",
   "metadata": {},
   "source": [
    "# Creatng test observations/features\n",
    "\n",
    "X_test_1 = nor_obs.iloc[30000:, :].drop(['DEFAULT STATUS'],axis=1)\n",
    "X_test_2 = ano_obs.drop(['DEFAULT STATUS'],axis=1)\n",
    "X_test = X_test_1.append(X_test_2)"
   ]
  },
  {
   "cell_type": "markdown",
   "metadata": {},
   "source": [
    "from sklearn import svm\n",
    "\n",
    "# Setting the hyperparameters for Once Class SVM\n",
    "oneclass = svm.OneClassSVM(kernel='sigmoid', gamma=0.001, nu=0.95)\n",
    "\n",
    "from sklearn import svm\n",
    "# Training the algorithm with the features. \n",
    "# This stage is very time consuming processes. In my laptop it took more than an hour to train for 200,000 observations. \n",
    "# For rbf, the time taken is even more.\n",
    "\n",
    "oneclass.fit(train_feature)\n",
    "\n",
    "# Test the algorithm on the test set\n",
    "\n",
    "Default_pred = oneclass.predict(X_test)\n",
    "\n",
    "unique, counts = np.unique(Default_pred, return_counts=True)\n",
    "print (np.asarray((unique, counts)).T)"
   ]
  },
  {
   "cell_type": "markdown",
   "metadata": {},
   "source": [
    "#Convert Y-test and Default_pred to dataframe for ease of operation\n",
    "\n",
    "#Y_test= Y_test.to_Dataframe()\n",
    "Y_test=Y_test.reset_index()\n",
    "Default_pred = pd.DataFrame(Default_pred)\n",
    "Default_pred= Default_pred.rename(columns={0: 'prediction'})"
   ]
  },
  {
   "cell_type": "markdown",
   "metadata": {},
   "source": [
    "##Performance check of the model\n",
    "\n",
    "TP = FN = FP = TN = 0\n",
    "for j in range(len(Y_test)):\n",
    "    if Y_test['DEFAULT STATUS'][j]== 0 and Default_pred['prediction'][j] == 1:\n",
    "        TP = TP+1\n",
    "    elif Y_test['DEFAULT STATUS'][j]== 0 and Default_pred['prediction'][j] == -1:\n",
    "        FN = FN+1\n",
    "    elif Y_test['DEFAULT STATUS'][j]== 1 and Default_pred['prediction'][j] == 1:\n",
    "        FP = FP+1\n",
    "    else:\n",
    "        TN = TN +1\n",
    "print (TP,  FN,  FP,  TN)\n"
   ]
  },
  {
   "cell_type": "markdown",
   "metadata": {},
   "source": [
    "##Performance check of the model\n",
    "\n",
    "TP = FN = FP = TN = 0\n",
    "for j in range(len(Y_test)):\n",
    "    if Y_test['DEFAULT STATUS'][j]== 0 and Default_pred['prediction'][j] == 1:\n",
    "        TP = TP+1\n",
    "    elif Y_test['DEFAULT STATUS'][j]== 0 and Default_pred['prediction'][j] == -1:\n",
    "        FN = FN+1\n",
    "    elif Y_test['DEFAULT STATUS'][j]== 1 and Default_pred['prediction'][j] == 1:\n",
    "        FP = FP+1\n",
    "    else:\n",
    "        TN = TN +1\n",
    "print (TP,  FN,  FP,  TN)\n",
    "# Performance Matrix\n",
    "\n",
    "accuracy = (TP+TN)/(TP+FN+FP+TN)\n",
    "print (accuracy)\n",
    "sensitivity = TP/(TP+FN)\n",
    "print (sensitivity)\n",
    "specificity = TN/(TN+FP)\n",
    "print (specificity)\n"
   ]
  },
  {
   "cell_type": "markdown",
   "metadata": {},
   "source": [
    "# RANDOM FOREST CLASSIFIER WITH OVERSAMPLING"
   ]
  },
  {
   "cell_type": "markdown",
   "metadata": {},
   "source": [
    "## Over-sampling followed by under-sampling"
   ]
  },
  {
   "cell_type": "markdown",
   "metadata": {},
   "source": [
    "from sklearn.model_selection import train_test_split\n",
    "\n",
    "X_train, X_test, y_train, y_test = train_test_split(mbs_scaled_final.drop(\"DEFAULT STATUS\", axis=1),\n",
    "                                                    mbs_scaled_final[\"DEFAULT STATUS\"], test_size = 0.2,\\\n",
    "                                                    random_state=113)"
   ]
  },
  {
   "cell_type": "markdown",
   "metadata": {},
   "source": [
    "from imblearn.combine import SMOTETomek\n",
    "\n",
    "smt = SMOTETomek(ratio='auto')\n",
    "X_smt, y_smt = smt.fit_sample(X_train, y_train)\n"
   ]
  },
  {
   "cell_type": "markdown",
   "metadata": {},
   "source": [
    "print(\"Number transactions X_train dataset: \", X_smt.shape)\n",
    "print(\"Number transactions y_train dataset: \", y_smt.shape)\n",
    "print(\"Number transactions X_test dataset: \", X_test.shape)\n",
    "print(\"Number transactions y_test dataset: \", y_test.shape)"
   ]
  }
 ],
 "metadata": {
  "kernelspec": {
   "display_name": "Python 3",
   "language": "python",
   "name": "python3"
  },
  "language_info": {
   "codemirror_mode": {
    "name": "ipython",
    "version": 3
   },
   "file_extension": ".py",
   "mimetype": "text/x-python",
   "name": "python",
   "nbconvert_exporter": "python",
   "pygments_lexer": "ipython3",
   "version": "3.7.3"
  }
 },
 "nbformat": 4,
 "nbformat_minor": 2
}
